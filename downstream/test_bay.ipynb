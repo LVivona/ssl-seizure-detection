{
 "cells": [
  {
   "cell_type": "code",
   "execution_count": 27,
   "metadata": {},
   "outputs": [
    {
     "name": "stdout",
     "output_type": "stream",
     "text": [
      "An error occurred: No model config found in the file at <tensorflow.python.platform.gfile.GFile object at 0x00000293FFD40B20>.\n"
     ]
    }
   ],
   "source": [
    "from spektral.layers import ECCConv, GATConv  # Adjust this import according to your environment\n",
    "from tensorflow.keras.models import load_model\n",
    "\n",
    "model_path = r\"C:\\Users\\xmoot\\Desktop\\Models\\TensorFlow\\ssl-seizure-detection\\models\\relative_positioning\\jh101_12s_7min_200epochs_12000examples\\jh101_12s_7min_200epochs_12000examples.h5\"\n",
    "\n",
    "try:\n",
    "    model = load_model(model_path)\n",
    "except Exception as e:\n",
    "    print(f\"An error occurred: {e}\")"
   ]
  },
  {
   "cell_type": "code",
   "execution_count": null,
   "metadata": {},
   "outputs": [],
   "source": []
  }
 ],
 "metadata": {
  "kernelspec": {
   "display_name": "tf2.12",
   "language": "python",
   "name": "python3"
  },
  "language_info": {
   "codemirror_mode": {
    "name": "ipython",
    "version": 3
   },
   "file_extension": ".py",
   "mimetype": "text/x-python",
   "name": "python",
   "nbconvert_exporter": "python",
   "pygments_lexer": "ipython3",
   "version": "3.10.10"
  },
  "orig_nbformat": 4
 },
 "nbformat": 4,
 "nbformat_minor": 2
}
