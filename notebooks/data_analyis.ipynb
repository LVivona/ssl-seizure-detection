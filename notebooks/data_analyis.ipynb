{
 "cells": [
  {
   "cell_type": "code",
   "execution_count": 3,
   "metadata": {},
   "outputs": [],
   "source": [
    "import matplotlib.pyplot as plt\n",
    "import sys\n",
    "import pandas as pd\n",
    "sys.path.append('../data')"
   ]
  },
  {
   "cell_type": "code",
   "execution_count": 9,
   "metadata": {},
   "outputs": [],
   "source": [
    "df_path = r\"C:\\Users\\xmoot\\Desktop\\VSCode\\ssl-seizure-detection\\data\\wandb_export_2023-11-01.csv\"\n",
    "df = pd.read_csv(df_path)"
   ]
  },
  {
   "cell_type": "code",
   "execution_count": 10,
   "metadata": {},
   "outputs": [
    {
     "name": "stdout",
     "output_type": "stream",
     "text": [
      "Index(['Name', 'Test Accuracy', 'Model ID', 'Frozen', 'Transfer ID',\n",
      "       'Patient ID', 'Date & Time', 'Runtime'],\n",
      "      dtype='object')\n"
     ]
    }
   ],
   "source": [
    "print(df.keys())"
   ]
  },
  {
   "cell_type": "code",
   "execution_count": 11,
   "metadata": {},
   "outputs": [],
   "source": [
    "# Remove runs with frozen weights\n",
    "df = df[df['Frozen'] != 'true']\n",
    "\n",
    "# Remove runs for the SSL models (non-transfer learning)\n",
    "df = df[~df['Model ID'].isin(['relative_positioning', 'temporal_shuffling'])]"
   ]
  },
  {
   "cell_type": "code",
   "execution_count": 16,
   "metadata": {},
   "outputs": [
    {
     "name": "stdout",
     "output_type": "stream",
     "text": [
      "Model ID     Transfer ID         \n",
      "downstream1  relative_positioning    95.649167\n",
      "             temporal_shuffling      96.130934\n",
      "downstream2  relative_positioning    91.469669\n",
      "             temporal_shuffling      91.948302\n",
      "Name: Test Accuracy, dtype: float64\n",
      "Model ID\n",
      "downstream1    95.890051\n",
      "downstream2    91.711355\n",
      "supervised     95.788668\n",
      "Name: Test Accuracy, dtype: float64\n"
     ]
    }
   ],
   "source": [
    "mean_test_accuracy = df.groupby(['Model ID', 'Transfer ID'])['Test Accuracy'].mean()\n",
    "\n",
    "# Print the mean accuracy for all combinations\n",
    "print(mean_test_accuracy)\n",
    "\n",
    "mean_test_accuracy = df.groupby('Model ID')['Test Accuracy'].mean()\n",
    "\n",
    "print(mean_test_accuracy)"
   ]
  },
  {
   "cell_type": "code",
   "execution_count": 24,
   "metadata": {},
   "outputs": [
    {
     "name": "stdout",
     "output_type": "stream",
     "text": [
      "Model ID     Transfer ID         \n",
      "downstream1  relative_positioning    4.686018\n",
      "             temporal_shuffling      4.267080\n",
      "downstream2  relative_positioning    8.349346\n",
      "             temporal_shuffling      7.474982\n",
      "Name: Test Accuracy, dtype: float64\n",
      "Model ID\n",
      "downstream1    4.466203\n",
      "downstream2    7.883793\n",
      "supervised     4.527746\n",
      "Name: Test Accuracy, dtype: float64\n"
     ]
    }
   ],
   "source": [
    "min_test_accuracy = df.groupby(['Model ID', 'Transfer ID'])['Test Accuracy'].std()\n",
    "\n",
    "# Print the mean accuracy for all combinations\n",
    "print(min_test_accuracy)\n",
    "\n",
    "min_test_accuracy = df.groupby('Model ID')['Test Accuracy'].std()\n",
    "\n",
    "print(min_test_accuracy)"
   ]
  },
  {
   "cell_type": "code",
   "execution_count": 20,
   "metadata": {},
   "outputs": [
    {
     "name": "stdout",
     "output_type": "stream",
     "text": [
      "Model ID\n",
      "downstream1    76.237624\n",
      "downstream2    67.326733\n",
      "supervised     79.918033\n",
      "Name: Test Accuracy, dtype: float64\n",
      "Model ID\n",
      "downstream1    76.237624\n",
      "downstream2    67.326733\n",
      "supervised     79.918033\n",
      "Name: Test Accuracy, dtype: float64\n"
     ]
    }
   ],
   "source": [
    "# Print the mean accuracy for all combinations\n",
    "mean_runtime = df.groupby(['Model ID', 'Transfer ID'])['Runtime'].min()\n",
    "print(min_test_accuracy)\n",
    "\n",
    "mean_runtime = df.groupby('Model ID')['Runtime'].mean()\n",
    "print(min_test_accuracy)"
   ]
  },
  {
   "cell_type": "code",
   "execution_count": 18,
   "metadata": {},
   "outputs": [
    {
     "ename": "TypeError",
     "evalue": "Could not convert pt7_downstream1_2023-10-30_19.04.45__relative_positioningpt15_downstream1_2023-10-30_19.33.33__relative_positioningpt6_downstream1_2023-10-30_19.04.45__relative_positioningjh108_downstream1_2023-10-30_19.33.33__relative_positioningummc003_downstream1_2023-10-30_19.33.32__relative_positioningummc001_downstream1_2023-10-30_19.04.45__relative_positioningpt11_downstream1_2023-10-30_19.04.45__relative_positioningummc009_downstream1_2023-10-30_19.39.52__relative_positioningummc006_downstream1_2023-10-30_19.07.31__relative_positioningpt14_downstream1_2023-10-30_19.04.46__relative_positioningjh103_downstream1_2023-10-30_19.33.33__relative_positioningpt2_downstream1_2023-10-30_19.33.33__relative_positioningpt01_downstream1_2023-10-30_19.04.46__relative_positioningummc007_downstream1_2023-10-30_19.39.52__relative_positioningummc008_downstream1_2023-10-30_19.39.52__relative_positioningpt8_downstream1_2023-10-30_19.04.45__relative_positioningjh101_downstream1_2023-10-30_19.33.33__relative_positioningummc004_downstream1_2023-10-30_19.39.52__relative_positioningpt13_downstream1_2023-10-30_19.33.32__relative_positioningpt16_downstream1_2023-10-30_19.04.45__relative_positioningummc005_downstream1_2023-10-30_19.07.31__relative_positioningummc007_downstream1_2023-10-30_19.07.31__relative_positioningpt2_downstream1_2023-10-30_19.04.45__relative_positioningpt12_downstream1_2023-10-30_19.04.45__relative_positioningpt3_downstream1_2023-10-30_19.33.33__relative_positioningummc004_downstream1_2023-10-30_19.07.31__relative_positioningumf001_downstream1_2023-10-30_19.33.32__relative_positioningummc006_downstream1_2023-10-30_19.39.52__relative_positioningpt15_downstream1_2023-10-30_19.04.46__relative_positioningummc005_downstream1_2023-10-30_19.39.52__relative_positioningummc001_downstream1_2023-10-30_19.33.32__relative_positioningpt10_downstream1_2023-10-30_19.33.33__relative_positioningpt6_downstream1_2023-10-30_19.33.33__relative_positioningummc002_downstream1_2023-10-30_19.04.45__relative_positioningpt01_downstream1_2023-10-30_19.33.33__relative_positioningummc009_downstream1_2023-10-30_19.07.38__relative_positioningpt16_downstream1_2023-10-30_19.33.32__relative_positioningpt7_downstream1_2023-10-30_19.33.33__relative_positioningpt10_downstream1_2023-10-30_19.04.45__relative_positioningpt13_downstream1_2023-10-30_19.04.45__relative_positioningpt12_downstream1_2023-10-30_19.33.32__relative_positioningjh108_downstream1_2023-10-30_19.04.46__relative_positioningpt8_downstream1_2023-10-30_19.33.33__relative_positioningjh101_downstream1_2023-10-30_19.04.46__relative_positioningummc003_downstream1_2023-10-30_19.04.45__relative_positioningpt11_downstream1_2023-10-30_19.33.32__relative_positioningumf001_downstream1_2023-10-30_19.04.47__relative_positioningpt14_downstream1_2023-10-30_19.33.32__relative_positioningjh103_downstream1_2023-10-30_19.04.45__relative_positioningummc002_downstream1_2023-10-30_19.33.32__relative_positioningummc008_downstream1_2023-10-30_19.07.38__relative_positioningpt3_downstream1_2023-10-30_19.04.45__relative_positioning to numeric",
     "output_type": "error",
     "traceback": [
      "\u001b[1;31m---------------------------------------------------------------------------\u001b[0m",
      "\u001b[1;31mNotImplementedError\u001b[0m                       Traceback (most recent call last)",
      "File \u001b[1;32mc:\\tools\\Anaconda3\\envs\\torch2_cuda11.8\\lib\\site-packages\\pandas\\core\\groupby\\groupby.py:1490\u001b[0m, in \u001b[0;36mGroupBy._cython_agg_general.<locals>.array_func\u001b[1;34m(values)\u001b[0m\n\u001b[0;32m   1489\u001b[0m \u001b[39mtry\u001b[39;00m:\n\u001b[1;32m-> 1490\u001b[0m     result \u001b[39m=\u001b[39m \u001b[39mself\u001b[39m\u001b[39m.\u001b[39mgrouper\u001b[39m.\u001b[39m_cython_operation(\n\u001b[0;32m   1491\u001b[0m         \u001b[39m\"\u001b[39m\u001b[39maggregate\u001b[39m\u001b[39m\"\u001b[39m,\n\u001b[0;32m   1492\u001b[0m         values,\n\u001b[0;32m   1493\u001b[0m         how,\n\u001b[0;32m   1494\u001b[0m         axis\u001b[39m=\u001b[39mdata\u001b[39m.\u001b[39mndim \u001b[39m-\u001b[39m \u001b[39m1\u001b[39m,\n\u001b[0;32m   1495\u001b[0m         min_count\u001b[39m=\u001b[39mmin_count,\n\u001b[0;32m   1496\u001b[0m         \u001b[39m*\u001b[39m\u001b[39m*\u001b[39mkwargs,\n\u001b[0;32m   1497\u001b[0m     )\n\u001b[0;32m   1498\u001b[0m \u001b[39mexcept\u001b[39;00m \u001b[39mNotImplementedError\u001b[39;00m:\n\u001b[0;32m   1499\u001b[0m     \u001b[39m# generally if we have numeric_only=False\u001b[39;00m\n\u001b[0;32m   1500\u001b[0m     \u001b[39m# and non-applicable functions\u001b[39;00m\n\u001b[0;32m   1501\u001b[0m     \u001b[39m# try to python agg\u001b[39;00m\n\u001b[0;32m   1502\u001b[0m     \u001b[39m# TODO: shouldn't min_count matter?\u001b[39;00m\n",
      "File \u001b[1;32mc:\\tools\\Anaconda3\\envs\\torch2_cuda11.8\\lib\\site-packages\\pandas\\core\\groupby\\ops.py:959\u001b[0m, in \u001b[0;36mBaseGrouper._cython_operation\u001b[1;34m(self, kind, values, how, axis, min_count, **kwargs)\u001b[0m\n\u001b[0;32m    958\u001b[0m ngroups \u001b[39m=\u001b[39m \u001b[39mself\u001b[39m\u001b[39m.\u001b[39mngroups\n\u001b[1;32m--> 959\u001b[0m \u001b[39mreturn\u001b[39;00m cy_op\u001b[39m.\u001b[39mcython_operation(\n\u001b[0;32m    960\u001b[0m     values\u001b[39m=\u001b[39mvalues,\n\u001b[0;32m    961\u001b[0m     axis\u001b[39m=\u001b[39maxis,\n\u001b[0;32m    962\u001b[0m     min_count\u001b[39m=\u001b[39mmin_count,\n\u001b[0;32m    963\u001b[0m     comp_ids\u001b[39m=\u001b[39mids,\n\u001b[0;32m    964\u001b[0m     ngroups\u001b[39m=\u001b[39mngroups,\n\u001b[0;32m    965\u001b[0m     \u001b[39m*\u001b[39m\u001b[39m*\u001b[39mkwargs,\n\u001b[0;32m    966\u001b[0m )\n",
      "File \u001b[1;32mc:\\tools\\Anaconda3\\envs\\torch2_cuda11.8\\lib\\site-packages\\pandas\\core\\groupby\\ops.py:657\u001b[0m, in \u001b[0;36mWrappedCythonOp.cython_operation\u001b[1;34m(self, values, axis, min_count, comp_ids, ngroups, **kwargs)\u001b[0m\n\u001b[0;32m    649\u001b[0m     \u001b[39mreturn\u001b[39;00m \u001b[39mself\u001b[39m\u001b[39m.\u001b[39m_ea_wrap_cython_operation(\n\u001b[0;32m    650\u001b[0m         values,\n\u001b[0;32m    651\u001b[0m         min_count\u001b[39m=\u001b[39mmin_count,\n\u001b[1;32m   (...)\u001b[0m\n\u001b[0;32m    654\u001b[0m         \u001b[39m*\u001b[39m\u001b[39m*\u001b[39mkwargs,\n\u001b[0;32m    655\u001b[0m     )\n\u001b[1;32m--> 657\u001b[0m \u001b[39mreturn\u001b[39;00m \u001b[39mself\u001b[39m\u001b[39m.\u001b[39m_cython_op_ndim_compat(\n\u001b[0;32m    658\u001b[0m     values,\n\u001b[0;32m    659\u001b[0m     min_count\u001b[39m=\u001b[39mmin_count,\n\u001b[0;32m    660\u001b[0m     ngroups\u001b[39m=\u001b[39mngroups,\n\u001b[0;32m    661\u001b[0m     comp_ids\u001b[39m=\u001b[39mcomp_ids,\n\u001b[0;32m    662\u001b[0m     mask\u001b[39m=\u001b[39m\u001b[39mNone\u001b[39;00m,\n\u001b[0;32m    663\u001b[0m     \u001b[39m*\u001b[39m\u001b[39m*\u001b[39mkwargs,\n\u001b[0;32m    664\u001b[0m )\n",
      "File \u001b[1;32mc:\\tools\\Anaconda3\\envs\\torch2_cuda11.8\\lib\\site-packages\\pandas\\core\\groupby\\ops.py:497\u001b[0m, in \u001b[0;36mWrappedCythonOp._cython_op_ndim_compat\u001b[1;34m(self, values, min_count, ngroups, comp_ids, mask, result_mask, **kwargs)\u001b[0m\n\u001b[0;32m    495\u001b[0m     \u001b[39mreturn\u001b[39;00m res\u001b[39m.\u001b[39mT\n\u001b[1;32m--> 497\u001b[0m \u001b[39mreturn\u001b[39;00m \u001b[39mself\u001b[39m\u001b[39m.\u001b[39m_call_cython_op(\n\u001b[0;32m    498\u001b[0m     values,\n\u001b[0;32m    499\u001b[0m     min_count\u001b[39m=\u001b[39mmin_count,\n\u001b[0;32m    500\u001b[0m     ngroups\u001b[39m=\u001b[39mngroups,\n\u001b[0;32m    501\u001b[0m     comp_ids\u001b[39m=\u001b[39mcomp_ids,\n\u001b[0;32m    502\u001b[0m     mask\u001b[39m=\u001b[39mmask,\n\u001b[0;32m    503\u001b[0m     result_mask\u001b[39m=\u001b[39mresult_mask,\n\u001b[0;32m    504\u001b[0m     \u001b[39m*\u001b[39m\u001b[39m*\u001b[39mkwargs,\n\u001b[0;32m    505\u001b[0m )\n",
      "File \u001b[1;32mc:\\tools\\Anaconda3\\envs\\torch2_cuda11.8\\lib\\site-packages\\pandas\\core\\groupby\\ops.py:541\u001b[0m, in \u001b[0;36mWrappedCythonOp._call_cython_op\u001b[1;34m(self, values, min_count, ngroups, comp_ids, mask, result_mask, **kwargs)\u001b[0m\n\u001b[0;32m    540\u001b[0m out_shape \u001b[39m=\u001b[39m \u001b[39mself\u001b[39m\u001b[39m.\u001b[39m_get_output_shape(ngroups, values)\n\u001b[1;32m--> 541\u001b[0m func \u001b[39m=\u001b[39m \u001b[39mself\u001b[39;49m\u001b[39m.\u001b[39;49m_get_cython_function(\u001b[39mself\u001b[39;49m\u001b[39m.\u001b[39;49mkind, \u001b[39mself\u001b[39;49m\u001b[39m.\u001b[39;49mhow, values\u001b[39m.\u001b[39;49mdtype, is_numeric)\n\u001b[0;32m    542\u001b[0m values \u001b[39m=\u001b[39m \u001b[39mself\u001b[39m\u001b[39m.\u001b[39m_get_cython_vals(values)\n",
      "File \u001b[1;32mc:\\tools\\Anaconda3\\envs\\torch2_cuda11.8\\lib\\site-packages\\pandas\\core\\groupby\\ops.py:173\u001b[0m, in \u001b[0;36mWrappedCythonOp._get_cython_function\u001b[1;34m(cls, kind, how, dtype, is_numeric)\u001b[0m\n\u001b[0;32m    171\u001b[0m \u001b[39mif\u001b[39;00m \u001b[39m\"\u001b[39m\u001b[39mobject\u001b[39m\u001b[39m\"\u001b[39m \u001b[39mnot\u001b[39;00m \u001b[39min\u001b[39;00m f\u001b[39m.\u001b[39m__signatures__:\n\u001b[0;32m    172\u001b[0m     \u001b[39m# raise NotImplementedError here rather than TypeError later\u001b[39;00m\n\u001b[1;32m--> 173\u001b[0m     \u001b[39mraise\u001b[39;00m \u001b[39mNotImplementedError\u001b[39;00m(\n\u001b[0;32m    174\u001b[0m         \u001b[39mf\u001b[39m\u001b[39m\"\u001b[39m\u001b[39mfunction is not implemented for this dtype: \u001b[39m\u001b[39m\"\u001b[39m\n\u001b[0;32m    175\u001b[0m         \u001b[39mf\u001b[39m\u001b[39m\"\u001b[39m\u001b[39m[how->\u001b[39m\u001b[39m{\u001b[39;00mhow\u001b[39m}\u001b[39;00m\u001b[39m,dtype->\u001b[39m\u001b[39m{\u001b[39;00mdtype_str\u001b[39m}\u001b[39;00m\u001b[39m]\u001b[39m\u001b[39m\"\u001b[39m\n\u001b[0;32m    176\u001b[0m     )\n\u001b[0;32m    177\u001b[0m \u001b[39mreturn\u001b[39;00m f\n",
      "\u001b[1;31mNotImplementedError\u001b[0m: function is not implemented for this dtype: [how->mean,dtype->object]",
      "\nDuring handling of the above exception, another exception occurred:\n",
      "\u001b[1;31mValueError\u001b[0m                                Traceback (most recent call last)",
      "File \u001b[1;32mc:\\tools\\Anaconda3\\envs\\torch2_cuda11.8\\lib\\site-packages\\pandas\\core\\nanops.py:1692\u001b[0m, in \u001b[0;36m_ensure_numeric\u001b[1;34m(x)\u001b[0m\n\u001b[0;32m   1691\u001b[0m \u001b[39mtry\u001b[39;00m:\n\u001b[1;32m-> 1692\u001b[0m     x \u001b[39m=\u001b[39m \u001b[39mfloat\u001b[39;49m(x)\n\u001b[0;32m   1693\u001b[0m \u001b[39mexcept\u001b[39;00m (\u001b[39mTypeError\u001b[39;00m, \u001b[39mValueError\u001b[39;00m):\n\u001b[0;32m   1694\u001b[0m     \u001b[39m# e.g. \"1+1j\" or \"foo\"\u001b[39;00m\n",
      "\u001b[1;31mValueError\u001b[0m: could not convert string to float: 'pt7_downstream1_2023-10-30_19.04.45__relative_positioningpt15_downstream1_2023-10-30_19.33.33__relative_positioningpt6_downstream1_2023-10-30_19.04.45__relative_positioningjh108_downstream1_2023-10-30_19.33.33__relative_positioningummc003_downstream1_2023-10-30_19.33.32__relative_positioningummc001_downstream1_2023-10-30_19.04.45__relative_positioningpt11_downstream1_2023-10-30_19.04.45__relative_positioningummc009_downstream1_2023-10-30_19.39.52__relative_positioningummc006_downstream1_2023-10-30_19.07.31__relative_positioningpt14_downstream1_2023-10-30_19.04.46__relative_positioningjh103_downstream1_2023-10-30_19.33.33__relative_positioningpt2_downstream1_2023-10-30_19.33.33__relative_positioningpt01_downstream1_2023-10-30_19.04.46__relative_positioningummc007_downstream1_2023-10-30_19.39.52__relative_positioningummc008_downstream1_2023-10-30_19.39.52__relative_positioningpt8_downstream1_2023-10-30_19.04.45__relative_positioningjh101_downstream1_2023-10-30_19.33.33__relative_positioningummc004_downstream1_2023-10-30_19.39.52__relative_positioningpt13_downstream1_2023-10-30_19.33.32__relative_positioningpt16_downstream1_2023-10-30_19.04.45__relative_positioningummc005_downstream1_2023-10-30_19.07.31__relative_positioningummc007_downstream1_2023-10-30_19.07.31__relative_positioningpt2_downstream1_2023-10-30_19.04.45__relative_positioningpt12_downstream1_2023-10-30_19.04.45__relative_positioningpt3_downstream1_2023-10-30_19.33.33__relative_positioningummc004_downstream1_2023-10-30_19.07.31__relative_positioningumf001_downstream1_2023-10-30_19.33.32__relative_positioningummc006_downstream1_2023-10-30_19.39.52__relative_positioningpt15_downstream1_2023-10-30_19.04.46__relative_positioningummc005_downstream1_2023-10-30_19.39.52__relative_positioningummc001_downstream1_2023-10-30_19.33.32__relative_positioningpt10_downstream1_2023-10-30_19.33.33__relative_positioningpt6_downstream1_2023-10-30_19.33.33__relative_positioningummc002_downstream1_2023-10-30_19.04.45__relative_positioningpt01_downstream1_2023-10-30_19.33.33__relative_positioningummc009_downstream1_2023-10-30_19.07.38__relative_positioningpt16_downstream1_2023-10-30_19.33.32__relative_positioningpt7_downstream1_2023-10-30_19.33.33__relative_positioningpt10_downstream1_2023-10-30_19.04.45__relative_positioningpt13_downstream1_2023-10-30_19.04.45__relative_positioningpt12_downstream1_2023-10-30_19.33.32__relative_positioningjh108_downstream1_2023-10-30_19.04.46__relative_positioningpt8_downstream1_2023-10-30_19.33.33__relative_positioningjh101_downstream1_2023-10-30_19.04.46__relative_positioningummc003_downstream1_2023-10-30_19.04.45__relative_positioningpt11_downstream1_2023-10-30_19.33.32__relative_positioningumf001_downstream1_2023-10-30_19.04.47__relative_positioningpt14_downstream1_2023-10-30_19.33.32__relative_positioningjh103_downstream1_2023-10-30_19.04.45__relative_positioningummc002_downstream1_2023-10-30_19.33.32__relative_positioningummc008_downstream1_2023-10-30_19.07.38__relative_positioningpt3_downstream1_2023-10-30_19.04.45__relative_positioning'",
      "\nDuring handling of the above exception, another exception occurred:\n",
      "\u001b[1;31mValueError\u001b[0m                                Traceback (most recent call last)",
      "File \u001b[1;32mc:\\tools\\Anaconda3\\envs\\torch2_cuda11.8\\lib\\site-packages\\pandas\\core\\nanops.py:1696\u001b[0m, in \u001b[0;36m_ensure_numeric\u001b[1;34m(x)\u001b[0m\n\u001b[0;32m   1695\u001b[0m \u001b[39mtry\u001b[39;00m:\n\u001b[1;32m-> 1696\u001b[0m     x \u001b[39m=\u001b[39m \u001b[39mcomplex\u001b[39;49m(x)\n\u001b[0;32m   1697\u001b[0m \u001b[39mexcept\u001b[39;00m \u001b[39mValueError\u001b[39;00m \u001b[39mas\u001b[39;00m err:\n\u001b[0;32m   1698\u001b[0m     \u001b[39m# e.g. \"foo\"\u001b[39;00m\n",
      "\u001b[1;31mValueError\u001b[0m: could not convert string to complex: 'pt7_downstream1_2023-10-30_19.04.45__relative_positioningpt15_downstream1_2023-10-30_19.33.33__relative_positioningpt6_downstream1_2023-10-30_19.04.45__relative_positioningjh108_downstream1_2023-10-30_19.33.33__relative_positioningummc003_downstream1_2023-10-30_19.33.32__relative_positioningummc001_downstream1_2023-10-30_19.04.45__relative_positioningpt11_downstream1_2023-10-30_19.04.45__relative_positioningummc009_downstream1_2023-10-30_19.39.52__relative_positioningummc006_downstream1_2023-10-30_19.07.31__relative_positioningpt14_downstream1_2023-10-30_19.04.46__relative_positioningjh103_downstream1_2023-10-30_19.33.33__relative_positioningpt2_downstream1_2023-10-30_19.33.33__relative_positioningpt01_downstream1_2023-10-30_19.04.46__relative_positioningummc007_downstream1_2023-10-30_19.39.52__relative_positioningummc008_downstream1_2023-10-30_19.39.52__relative_positioningpt8_downstream1_2023-10-30_19.04.45__relative_positioningjh101_downstream1_2023-10-30_19.33.33__relative_positioningummc004_downstream1_2023-10-30_19.39.52__relative_positioningpt13_downstream1_2023-10-30_19.33.32__relative_positioningpt16_downstream1_2023-10-30_19.04.45__relative_positioningummc005_downstream1_2023-10-30_19.07.31__relative_positioningummc007_downstream1_2023-10-30_19.07.31__relative_positioningpt2_downstream1_2023-10-30_19.04.45__relative_positioningpt12_downstream1_2023-10-30_19.04.45__relative_positioningpt3_downstream1_2023-10-30_19.33.33__relative_positioningummc004_downstream1_2023-10-30_19.07.31__relative_positioningumf001_downstream1_2023-10-30_19.33.32__relative_positioningummc006_downstream1_2023-10-30_19.39.52__relative_positioningpt15_downstream1_2023-10-30_19.04.46__relative_positioningummc005_downstream1_2023-10-30_19.39.52__relative_positioningummc001_downstream1_2023-10-30_19.33.32__relative_positioningpt10_downstream1_2023-10-30_19.33.33__relative_positioningpt6_downstream1_2023-10-30_19.33.33__relative_positioningummc002_downstream1_2023-10-30_19.04.45__relative_positioningpt01_downstream1_2023-10-30_19.33.33__relative_positioningummc009_downstream1_2023-10-30_19.07.38__relative_positioningpt16_downstream1_2023-10-30_19.33.32__relative_positioningpt7_downstream1_2023-10-30_19.33.33__relative_positioningpt10_downstream1_2023-10-30_19.04.45__relative_positioningpt13_downstream1_2023-10-30_19.04.45__relative_positioningpt12_downstream1_2023-10-30_19.33.32__relative_positioningjh108_downstream1_2023-10-30_19.04.46__relative_positioningpt8_downstream1_2023-10-30_19.33.33__relative_positioningjh101_downstream1_2023-10-30_19.04.46__relative_positioningummc003_downstream1_2023-10-30_19.04.45__relative_positioningpt11_downstream1_2023-10-30_19.33.32__relative_positioningumf001_downstream1_2023-10-30_19.04.47__relative_positioningpt14_downstream1_2023-10-30_19.33.32__relative_positioningjh103_downstream1_2023-10-30_19.04.45__relative_positioningummc002_downstream1_2023-10-30_19.33.32__relative_positioningummc008_downstream1_2023-10-30_19.07.38__relative_positioningpt3_downstream1_2023-10-30_19.04.45__relative_positioning'",
      "\nThe above exception was the direct cause of the following exception:\n",
      "\u001b[1;31mTypeError\u001b[0m                                 Traceback (most recent call last)",
      "\u001b[1;32mc:\\Users\\xmoot\\Desktop\\VSCode\\ssl-seizure-detection\\notebooks\\data_analyis.ipynb Cell 6\u001b[0m line \u001b[0;36m4\n\u001b[0;32m      <a href='vscode-notebook-cell:/c%3A/Users/xmoot/Desktop/VSCode/ssl-seizure-detection/notebooks/data_analyis.ipynb#X16sZmlsZQ%3D%3D?line=0'>1</a>\u001b[0m \u001b[39mimport\u001b[39;00m \u001b[39mnumpy\u001b[39;00m \u001b[39mas\u001b[39;00m \u001b[39mnp\u001b[39;00m\n\u001b[0;32m      <a href='vscode-notebook-cell:/c%3A/Users/xmoot/Desktop/VSCode/ssl-seizure-detection/notebooks/data_analyis.ipynb#X16sZmlsZQ%3D%3D?line=2'>3</a>\u001b[0m \u001b[39m# Assuming df contains your data\u001b[39;00m\n\u001b[1;32m----> <a href='vscode-notebook-cell:/c%3A/Users/xmoot/Desktop/VSCode/ssl-seizure-detection/notebooks/data_analyis.ipynb#X16sZmlsZQ%3D%3D?line=3'>4</a>\u001b[0m grouped \u001b[39m=\u001b[39m df\u001b[39m.\u001b[39;49mgroupby([\u001b[39m'\u001b[39;49m\u001b[39mModel ID\u001b[39;49m\u001b[39m'\u001b[39;49m, \u001b[39m'\u001b[39;49m\u001b[39mTransfer ID\u001b[39;49m\u001b[39m'\u001b[39;49m])\u001b[39m.\u001b[39;49mmean()\u001b[39m.\u001b[39munstack()\n\u001b[0;32m      <a href='vscode-notebook-cell:/c%3A/Users/xmoot/Desktop/VSCode/ssl-seizure-detection/notebooks/data_analyis.ipynb#X16sZmlsZQ%3D%3D?line=4'>5</a>\u001b[0m grouped\u001b[39m.\u001b[39mcolumns \u001b[39m=\u001b[39m grouped\u001b[39m.\u001b[39mcolumns\u001b[39m.\u001b[39mdroplevel()\n\u001b[0;32m      <a href='vscode-notebook-cell:/c%3A/Users/xmoot/Desktop/VSCode/ssl-seizure-detection/notebooks/data_analyis.ipynb#X16sZmlsZQ%3D%3D?line=6'>7</a>\u001b[0m bar_width \u001b[39m=\u001b[39m \u001b[39m0.35\u001b[39m\n",
      "File \u001b[1;32mc:\\tools\\Anaconda3\\envs\\torch2_cuda11.8\\lib\\site-packages\\pandas\\core\\groupby\\groupby.py:1855\u001b[0m, in \u001b[0;36mGroupBy.mean\u001b[1;34m(self, numeric_only, engine, engine_kwargs)\u001b[0m\n\u001b[0;32m   1853\u001b[0m     \u001b[39mreturn\u001b[39;00m \u001b[39mself\u001b[39m\u001b[39m.\u001b[39m_numba_agg_general(sliding_mean, engine_kwargs)\n\u001b[0;32m   1854\u001b[0m \u001b[39melse\u001b[39;00m:\n\u001b[1;32m-> 1855\u001b[0m     result \u001b[39m=\u001b[39m \u001b[39mself\u001b[39;49m\u001b[39m.\u001b[39;49m_cython_agg_general(\n\u001b[0;32m   1856\u001b[0m         \u001b[39m\"\u001b[39;49m\u001b[39mmean\u001b[39;49m\u001b[39m\"\u001b[39;49m,\n\u001b[0;32m   1857\u001b[0m         alt\u001b[39m=\u001b[39;49m\u001b[39mlambda\u001b[39;49;00m x: Series(x)\u001b[39m.\u001b[39;49mmean(numeric_only\u001b[39m=\u001b[39;49mnumeric_only),\n\u001b[0;32m   1858\u001b[0m         numeric_only\u001b[39m=\u001b[39;49mnumeric_only,\n\u001b[0;32m   1859\u001b[0m     )\n\u001b[0;32m   1860\u001b[0m     \u001b[39mreturn\u001b[39;00m result\u001b[39m.\u001b[39m__finalize__(\u001b[39mself\u001b[39m\u001b[39m.\u001b[39mobj, method\u001b[39m=\u001b[39m\u001b[39m\"\u001b[39m\u001b[39mgroupby\u001b[39m\u001b[39m\"\u001b[39m)\n",
      "File \u001b[1;32mc:\\tools\\Anaconda3\\envs\\torch2_cuda11.8\\lib\\site-packages\\pandas\\core\\groupby\\groupby.py:1507\u001b[0m, in \u001b[0;36mGroupBy._cython_agg_general\u001b[1;34m(self, how, alt, numeric_only, min_count, **kwargs)\u001b[0m\n\u001b[0;32m   1503\u001b[0m         result \u001b[39m=\u001b[39m \u001b[39mself\u001b[39m\u001b[39m.\u001b[39m_agg_py_fallback(values, ndim\u001b[39m=\u001b[39mdata\u001b[39m.\u001b[39mndim, alt\u001b[39m=\u001b[39malt)\n\u001b[0;32m   1505\u001b[0m     \u001b[39mreturn\u001b[39;00m result\n\u001b[1;32m-> 1507\u001b[0m new_mgr \u001b[39m=\u001b[39m data\u001b[39m.\u001b[39;49mgrouped_reduce(array_func)\n\u001b[0;32m   1508\u001b[0m res \u001b[39m=\u001b[39m \u001b[39mself\u001b[39m\u001b[39m.\u001b[39m_wrap_agged_manager(new_mgr)\n\u001b[0;32m   1509\u001b[0m out \u001b[39m=\u001b[39m \u001b[39mself\u001b[39m\u001b[39m.\u001b[39m_wrap_aggregated_output(res)\n",
      "File \u001b[1;32mc:\\tools\\Anaconda3\\envs\\torch2_cuda11.8\\lib\\site-packages\\pandas\\core\\internals\\managers.py:1503\u001b[0m, in \u001b[0;36mBlockManager.grouped_reduce\u001b[1;34m(self, func)\u001b[0m\n\u001b[0;32m   1499\u001b[0m \u001b[39mif\u001b[39;00m blk\u001b[39m.\u001b[39mis_object:\n\u001b[0;32m   1500\u001b[0m     \u001b[39m# split on object-dtype blocks bc some columns may raise\u001b[39;00m\n\u001b[0;32m   1501\u001b[0m     \u001b[39m#  while others do not.\u001b[39;00m\n\u001b[0;32m   1502\u001b[0m     \u001b[39mfor\u001b[39;00m sb \u001b[39min\u001b[39;00m blk\u001b[39m.\u001b[39m_split():\n\u001b[1;32m-> 1503\u001b[0m         applied \u001b[39m=\u001b[39m sb\u001b[39m.\u001b[39;49mapply(func)\n\u001b[0;32m   1504\u001b[0m         result_blocks \u001b[39m=\u001b[39m extend_blocks(applied, result_blocks)\n\u001b[0;32m   1505\u001b[0m \u001b[39melse\u001b[39;00m:\n",
      "File \u001b[1;32mc:\\tools\\Anaconda3\\envs\\torch2_cuda11.8\\lib\\site-packages\\pandas\\core\\internals\\blocks.py:329\u001b[0m, in \u001b[0;36mBlock.apply\u001b[1;34m(self, func, **kwargs)\u001b[0m\n\u001b[0;32m    323\u001b[0m \u001b[39m@final\u001b[39m\n\u001b[0;32m    324\u001b[0m \u001b[39mdef\u001b[39;00m \u001b[39mapply\u001b[39m(\u001b[39mself\u001b[39m, func, \u001b[39m*\u001b[39m\u001b[39m*\u001b[39mkwargs) \u001b[39m-\u001b[39m\u001b[39m>\u001b[39m \u001b[39mlist\u001b[39m[Block]:\n\u001b[0;32m    325\u001b[0m \u001b[39m    \u001b[39m\u001b[39m\"\"\"\u001b[39;00m\n\u001b[0;32m    326\u001b[0m \u001b[39m    apply the function to my values; return a block if we are not\u001b[39;00m\n\u001b[0;32m    327\u001b[0m \u001b[39m    one\u001b[39;00m\n\u001b[0;32m    328\u001b[0m \u001b[39m    \"\"\"\u001b[39;00m\n\u001b[1;32m--> 329\u001b[0m     result \u001b[39m=\u001b[39m func(\u001b[39mself\u001b[39m\u001b[39m.\u001b[39mvalues, \u001b[39m*\u001b[39m\u001b[39m*\u001b[39mkwargs)\n\u001b[0;32m    331\u001b[0m     \u001b[39mreturn\u001b[39;00m \u001b[39mself\u001b[39m\u001b[39m.\u001b[39m_split_op_result(result)\n",
      "File \u001b[1;32mc:\\tools\\Anaconda3\\envs\\torch2_cuda11.8\\lib\\site-packages\\pandas\\core\\groupby\\groupby.py:1503\u001b[0m, in \u001b[0;36mGroupBy._cython_agg_general.<locals>.array_func\u001b[1;34m(values)\u001b[0m\n\u001b[0;32m   1490\u001b[0m     result \u001b[39m=\u001b[39m \u001b[39mself\u001b[39m\u001b[39m.\u001b[39mgrouper\u001b[39m.\u001b[39m_cython_operation(\n\u001b[0;32m   1491\u001b[0m         \u001b[39m\"\u001b[39m\u001b[39maggregate\u001b[39m\u001b[39m\"\u001b[39m,\n\u001b[0;32m   1492\u001b[0m         values,\n\u001b[1;32m   (...)\u001b[0m\n\u001b[0;32m   1496\u001b[0m         \u001b[39m*\u001b[39m\u001b[39m*\u001b[39mkwargs,\n\u001b[0;32m   1497\u001b[0m     )\n\u001b[0;32m   1498\u001b[0m \u001b[39mexcept\u001b[39;00m \u001b[39mNotImplementedError\u001b[39;00m:\n\u001b[0;32m   1499\u001b[0m     \u001b[39m# generally if we have numeric_only=False\u001b[39;00m\n\u001b[0;32m   1500\u001b[0m     \u001b[39m# and non-applicable functions\u001b[39;00m\n\u001b[0;32m   1501\u001b[0m     \u001b[39m# try to python agg\u001b[39;00m\n\u001b[0;32m   1502\u001b[0m     \u001b[39m# TODO: shouldn't min_count matter?\u001b[39;00m\n\u001b[1;32m-> 1503\u001b[0m     result \u001b[39m=\u001b[39m \u001b[39mself\u001b[39;49m\u001b[39m.\u001b[39;49m_agg_py_fallback(values, ndim\u001b[39m=\u001b[39;49mdata\u001b[39m.\u001b[39;49mndim, alt\u001b[39m=\u001b[39;49malt)\n\u001b[0;32m   1505\u001b[0m \u001b[39mreturn\u001b[39;00m result\n",
      "File \u001b[1;32mc:\\tools\\Anaconda3\\envs\\torch2_cuda11.8\\lib\\site-packages\\pandas\\core\\groupby\\groupby.py:1457\u001b[0m, in \u001b[0;36mGroupBy._agg_py_fallback\u001b[1;34m(self, values, ndim, alt)\u001b[0m\n\u001b[0;32m   1452\u001b[0m     ser \u001b[39m=\u001b[39m df\u001b[39m.\u001b[39miloc[:, \u001b[39m0\u001b[39m]\n\u001b[0;32m   1454\u001b[0m \u001b[39m# We do not get here with UDFs, so we know that our dtype\u001b[39;00m\n\u001b[0;32m   1455\u001b[0m \u001b[39m#  should always be preserved by the implemented aggregations\u001b[39;00m\n\u001b[0;32m   1456\u001b[0m \u001b[39m# TODO: Is this exactly right; see WrappedCythonOp get_result_dtype?\u001b[39;00m\n\u001b[1;32m-> 1457\u001b[0m res_values \u001b[39m=\u001b[39m \u001b[39mself\u001b[39;49m\u001b[39m.\u001b[39;49mgrouper\u001b[39m.\u001b[39;49magg_series(ser, alt, preserve_dtype\u001b[39m=\u001b[39;49m\u001b[39mTrue\u001b[39;49;00m)\n\u001b[0;32m   1459\u001b[0m \u001b[39mif\u001b[39;00m \u001b[39misinstance\u001b[39m(values, Categorical):\n\u001b[0;32m   1460\u001b[0m     \u001b[39m# Because we only get here with known dtype-preserving\u001b[39;00m\n\u001b[0;32m   1461\u001b[0m     \u001b[39m#  reductions, we cast back to Categorical.\u001b[39;00m\n\u001b[0;32m   1462\u001b[0m     \u001b[39m# TODO: if we ever get \"rank\" working, exclude it here.\u001b[39;00m\n\u001b[0;32m   1463\u001b[0m     res_values \u001b[39m=\u001b[39m \u001b[39mtype\u001b[39m(values)\u001b[39m.\u001b[39m_from_sequence(res_values, dtype\u001b[39m=\u001b[39mvalues\u001b[39m.\u001b[39mdtype)\n",
      "File \u001b[1;32mc:\\tools\\Anaconda3\\envs\\torch2_cuda11.8\\lib\\site-packages\\pandas\\core\\groupby\\ops.py:994\u001b[0m, in \u001b[0;36mBaseGrouper.agg_series\u001b[1;34m(self, obj, func, preserve_dtype)\u001b[0m\n\u001b[0;32m    987\u001b[0m \u001b[39mif\u001b[39;00m \u001b[39mlen\u001b[39m(obj) \u001b[39m>\u001b[39m \u001b[39m0\u001b[39m \u001b[39mand\u001b[39;00m \u001b[39mnot\u001b[39;00m \u001b[39misinstance\u001b[39m(obj\u001b[39m.\u001b[39m_values, np\u001b[39m.\u001b[39mndarray):\n\u001b[0;32m    988\u001b[0m     \u001b[39m# we can preserve a little bit more aggressively with EA dtype\u001b[39;00m\n\u001b[0;32m    989\u001b[0m     \u001b[39m#  because maybe_cast_pointwise_result will do a try/except\u001b[39;00m\n\u001b[0;32m    990\u001b[0m     \u001b[39m#  with _from_sequence.  NB we are assuming here that _from_sequence\u001b[39;00m\n\u001b[0;32m    991\u001b[0m     \u001b[39m#  is sufficiently strict that it casts appropriately.\u001b[39;00m\n\u001b[0;32m    992\u001b[0m     preserve_dtype \u001b[39m=\u001b[39m \u001b[39mTrue\u001b[39;00m\n\u001b[1;32m--> 994\u001b[0m result \u001b[39m=\u001b[39m \u001b[39mself\u001b[39;49m\u001b[39m.\u001b[39;49m_aggregate_series_pure_python(obj, func)\n\u001b[0;32m    996\u001b[0m npvalues \u001b[39m=\u001b[39m lib\u001b[39m.\u001b[39mmaybe_convert_objects(result, try_float\u001b[39m=\u001b[39m\u001b[39mFalse\u001b[39;00m)\n\u001b[0;32m    997\u001b[0m \u001b[39mif\u001b[39;00m preserve_dtype:\n",
      "File \u001b[1;32mc:\\tools\\Anaconda3\\envs\\torch2_cuda11.8\\lib\\site-packages\\pandas\\core\\groupby\\ops.py:1015\u001b[0m, in \u001b[0;36mBaseGrouper._aggregate_series_pure_python\u001b[1;34m(self, obj, func)\u001b[0m\n\u001b[0;32m   1012\u001b[0m splitter \u001b[39m=\u001b[39m \u001b[39mself\u001b[39m\u001b[39m.\u001b[39m_get_splitter(obj, axis\u001b[39m=\u001b[39m\u001b[39m0\u001b[39m)\n\u001b[0;32m   1014\u001b[0m \u001b[39mfor\u001b[39;00m i, group \u001b[39min\u001b[39;00m \u001b[39menumerate\u001b[39m(splitter):\n\u001b[1;32m-> 1015\u001b[0m     res \u001b[39m=\u001b[39m func(group)\n\u001b[0;32m   1016\u001b[0m     res \u001b[39m=\u001b[39m libreduction\u001b[39m.\u001b[39mextract_result(res)\n\u001b[0;32m   1018\u001b[0m     \u001b[39mif\u001b[39;00m \u001b[39mnot\u001b[39;00m initialized:\n\u001b[0;32m   1019\u001b[0m         \u001b[39m# We only do this validation on the first iteration\u001b[39;00m\n",
      "File \u001b[1;32mc:\\tools\\Anaconda3\\envs\\torch2_cuda11.8\\lib\\site-packages\\pandas\\core\\groupby\\groupby.py:1857\u001b[0m, in \u001b[0;36mGroupBy.mean.<locals>.<lambda>\u001b[1;34m(x)\u001b[0m\n\u001b[0;32m   1853\u001b[0m     \u001b[39mreturn\u001b[39;00m \u001b[39mself\u001b[39m\u001b[39m.\u001b[39m_numba_agg_general(sliding_mean, engine_kwargs)\n\u001b[0;32m   1854\u001b[0m \u001b[39melse\u001b[39;00m:\n\u001b[0;32m   1855\u001b[0m     result \u001b[39m=\u001b[39m \u001b[39mself\u001b[39m\u001b[39m.\u001b[39m_cython_agg_general(\n\u001b[0;32m   1856\u001b[0m         \u001b[39m\"\u001b[39m\u001b[39mmean\u001b[39m\u001b[39m\"\u001b[39m,\n\u001b[1;32m-> 1857\u001b[0m         alt\u001b[39m=\u001b[39m\u001b[39mlambda\u001b[39;00m x: Series(x)\u001b[39m.\u001b[39;49mmean(numeric_only\u001b[39m=\u001b[39;49mnumeric_only),\n\u001b[0;32m   1858\u001b[0m         numeric_only\u001b[39m=\u001b[39mnumeric_only,\n\u001b[0;32m   1859\u001b[0m     )\n\u001b[0;32m   1860\u001b[0m     \u001b[39mreturn\u001b[39;00m result\u001b[39m.\u001b[39m__finalize__(\u001b[39mself\u001b[39m\u001b[39m.\u001b[39mobj, method\u001b[39m=\u001b[39m\u001b[39m\"\u001b[39m\u001b[39mgroupby\u001b[39m\u001b[39m\"\u001b[39m)\n",
      "File \u001b[1;32mc:\\tools\\Anaconda3\\envs\\torch2_cuda11.8\\lib\\site-packages\\pandas\\core\\generic.py:11556\u001b[0m, in \u001b[0;36mNDFrame._add_numeric_operations.<locals>.mean\u001b[1;34m(self, axis, skipna, numeric_only, **kwargs)\u001b[0m\n\u001b[0;32m  11539\u001b[0m \u001b[39m@doc\u001b[39m(\n\u001b[0;32m  11540\u001b[0m     _num_doc,\n\u001b[0;32m  11541\u001b[0m     desc\u001b[39m=\u001b[39m\u001b[39m\"\u001b[39m\u001b[39mReturn the mean of the values over the requested axis.\u001b[39m\u001b[39m\"\u001b[39m,\n\u001b[1;32m   (...)\u001b[0m\n\u001b[0;32m  11554\u001b[0m     \u001b[39m*\u001b[39m\u001b[39m*\u001b[39mkwargs,\n\u001b[0;32m  11555\u001b[0m ):\n\u001b[1;32m> 11556\u001b[0m     \u001b[39mreturn\u001b[39;00m NDFrame\u001b[39m.\u001b[39mmean(\u001b[39mself\u001b[39m, axis, skipna, numeric_only, \u001b[39m*\u001b[39m\u001b[39m*\u001b[39mkwargs)\n",
      "File \u001b[1;32mc:\\tools\\Anaconda3\\envs\\torch2_cuda11.8\\lib\\site-packages\\pandas\\core\\generic.py:11201\u001b[0m, in \u001b[0;36mNDFrame.mean\u001b[1;34m(self, axis, skipna, numeric_only, **kwargs)\u001b[0m\n\u001b[0;32m  11194\u001b[0m \u001b[39mdef\u001b[39;00m \u001b[39mmean\u001b[39m(\n\u001b[0;32m  11195\u001b[0m     \u001b[39mself\u001b[39m,\n\u001b[0;32m  11196\u001b[0m     axis: Axis \u001b[39m|\u001b[39m \u001b[39mNone\u001b[39;00m \u001b[39m=\u001b[39m \u001b[39m0\u001b[39m,\n\u001b[1;32m   (...)\u001b[0m\n\u001b[0;32m  11199\u001b[0m     \u001b[39m*\u001b[39m\u001b[39m*\u001b[39mkwargs,\n\u001b[0;32m  11200\u001b[0m ) \u001b[39m-\u001b[39m\u001b[39m>\u001b[39m Series \u001b[39m|\u001b[39m \u001b[39mfloat\u001b[39m:\n\u001b[1;32m> 11201\u001b[0m     \u001b[39mreturn\u001b[39;00m \u001b[39mself\u001b[39m\u001b[39m.\u001b[39m_stat_function(\n\u001b[0;32m  11202\u001b[0m         \u001b[39m\"\u001b[39m\u001b[39mmean\u001b[39m\u001b[39m\"\u001b[39m, nanops\u001b[39m.\u001b[39mnanmean, axis, skipna, numeric_only, \u001b[39m*\u001b[39m\u001b[39m*\u001b[39mkwargs\n\u001b[0;32m  11203\u001b[0m     )\n",
      "File \u001b[1;32mc:\\tools\\Anaconda3\\envs\\torch2_cuda11.8\\lib\\site-packages\\pandas\\core\\generic.py:11158\u001b[0m, in \u001b[0;36mNDFrame._stat_function\u001b[1;34m(self, name, func, axis, skipna, numeric_only, **kwargs)\u001b[0m\n\u001b[0;32m  11154\u001b[0m     nv\u001b[39m.\u001b[39mvalidate_stat_func((), kwargs, fname\u001b[39m=\u001b[39mname)\n\u001b[0;32m  11156\u001b[0m validate_bool_kwarg(skipna, \u001b[39m\"\u001b[39m\u001b[39mskipna\u001b[39m\u001b[39m\"\u001b[39m, none_allowed\u001b[39m=\u001b[39m\u001b[39mFalse\u001b[39;00m)\n\u001b[1;32m> 11158\u001b[0m \u001b[39mreturn\u001b[39;00m \u001b[39mself\u001b[39;49m\u001b[39m.\u001b[39;49m_reduce(\n\u001b[0;32m  11159\u001b[0m     func, name\u001b[39m=\u001b[39;49mname, axis\u001b[39m=\u001b[39;49maxis, skipna\u001b[39m=\u001b[39;49mskipna, numeric_only\u001b[39m=\u001b[39;49mnumeric_only\n\u001b[0;32m  11160\u001b[0m )\n",
      "File \u001b[1;32mc:\\tools\\Anaconda3\\envs\\torch2_cuda11.8\\lib\\site-packages\\pandas\\core\\series.py:4670\u001b[0m, in \u001b[0;36mSeries._reduce\u001b[1;34m(self, op, name, axis, skipna, numeric_only, filter_type, **kwds)\u001b[0m\n\u001b[0;32m   4665\u001b[0m     \u001b[39mraise\u001b[39;00m \u001b[39mTypeError\u001b[39;00m(\n\u001b[0;32m   4666\u001b[0m         \u001b[39mf\u001b[39m\u001b[39m\"\u001b[39m\u001b[39mSeries.\u001b[39m\u001b[39m{\u001b[39;00mname\u001b[39m}\u001b[39;00m\u001b[39m does not allow \u001b[39m\u001b[39m{\u001b[39;00mkwd_name\u001b[39m}\u001b[39;00m\u001b[39m=\u001b[39m\u001b[39m{\u001b[39;00mnumeric_only\u001b[39m}\u001b[39;00m\u001b[39m \u001b[39m\u001b[39m\"\u001b[39m\n\u001b[0;32m   4667\u001b[0m         \u001b[39m\"\u001b[39m\u001b[39mwith non-numeric dtypes.\u001b[39m\u001b[39m\"\u001b[39m\n\u001b[0;32m   4668\u001b[0m     )\n\u001b[0;32m   4669\u001b[0m \u001b[39mwith\u001b[39;00m np\u001b[39m.\u001b[39merrstate(\u001b[39mall\u001b[39m\u001b[39m=\u001b[39m\u001b[39m\"\u001b[39m\u001b[39mignore\u001b[39m\u001b[39m\"\u001b[39m):\n\u001b[1;32m-> 4670\u001b[0m     \u001b[39mreturn\u001b[39;00m op(delegate, skipna\u001b[39m=\u001b[39mskipna, \u001b[39m*\u001b[39m\u001b[39m*\u001b[39mkwds)\n",
      "File \u001b[1;32mc:\\tools\\Anaconda3\\envs\\torch2_cuda11.8\\lib\\site-packages\\pandas\\core\\nanops.py:96\u001b[0m, in \u001b[0;36mdisallow.__call__.<locals>._f\u001b[1;34m(*args, **kwargs)\u001b[0m\n\u001b[0;32m     94\u001b[0m \u001b[39mtry\u001b[39;00m:\n\u001b[0;32m     95\u001b[0m     \u001b[39mwith\u001b[39;00m np\u001b[39m.\u001b[39merrstate(invalid\u001b[39m=\u001b[39m\u001b[39m\"\u001b[39m\u001b[39mignore\u001b[39m\u001b[39m\"\u001b[39m):\n\u001b[1;32m---> 96\u001b[0m         \u001b[39mreturn\u001b[39;00m f(\u001b[39m*\u001b[39margs, \u001b[39m*\u001b[39m\u001b[39m*\u001b[39mkwargs)\n\u001b[0;32m     97\u001b[0m \u001b[39mexcept\u001b[39;00m \u001b[39mValueError\u001b[39;00m \u001b[39mas\u001b[39;00m e:\n\u001b[0;32m     98\u001b[0m     \u001b[39m# we want to transform an object array\u001b[39;00m\n\u001b[0;32m     99\u001b[0m     \u001b[39m# ValueError message to the more typical TypeError\u001b[39;00m\n\u001b[0;32m    100\u001b[0m     \u001b[39m# e.g. this is normally a disallowed function on\u001b[39;00m\n\u001b[0;32m    101\u001b[0m     \u001b[39m# object arrays that contain strings\u001b[39;00m\n\u001b[0;32m    102\u001b[0m     \u001b[39mif\u001b[39;00m is_object_dtype(args[\u001b[39m0\u001b[39m]):\n",
      "File \u001b[1;32mc:\\tools\\Anaconda3\\envs\\torch2_cuda11.8\\lib\\site-packages\\pandas\\core\\nanops.py:158\u001b[0m, in \u001b[0;36mbottleneck_switch.__call__.<locals>.f\u001b[1;34m(values, axis, skipna, **kwds)\u001b[0m\n\u001b[0;32m    156\u001b[0m         result \u001b[39m=\u001b[39m alt(values, axis\u001b[39m=\u001b[39maxis, skipna\u001b[39m=\u001b[39mskipna, \u001b[39m*\u001b[39m\u001b[39m*\u001b[39mkwds)\n\u001b[0;32m    157\u001b[0m \u001b[39melse\u001b[39;00m:\n\u001b[1;32m--> 158\u001b[0m     result \u001b[39m=\u001b[39m alt(values, axis\u001b[39m=\u001b[39maxis, skipna\u001b[39m=\u001b[39mskipna, \u001b[39m*\u001b[39m\u001b[39m*\u001b[39mkwds)\n\u001b[0;32m    160\u001b[0m \u001b[39mreturn\u001b[39;00m result\n",
      "File \u001b[1;32mc:\\tools\\Anaconda3\\envs\\torch2_cuda11.8\\lib\\site-packages\\pandas\\core\\nanops.py:421\u001b[0m, in \u001b[0;36m_datetimelike_compat.<locals>.new_func\u001b[1;34m(values, axis, skipna, mask, **kwargs)\u001b[0m\n\u001b[0;32m    418\u001b[0m \u001b[39mif\u001b[39;00m datetimelike \u001b[39mand\u001b[39;00m mask \u001b[39mis\u001b[39;00m \u001b[39mNone\u001b[39;00m:\n\u001b[0;32m    419\u001b[0m     mask \u001b[39m=\u001b[39m isna(values)\n\u001b[1;32m--> 421\u001b[0m result \u001b[39m=\u001b[39m func(values, axis\u001b[39m=\u001b[39maxis, skipna\u001b[39m=\u001b[39mskipna, mask\u001b[39m=\u001b[39mmask, \u001b[39m*\u001b[39m\u001b[39m*\u001b[39mkwargs)\n\u001b[0;32m    423\u001b[0m \u001b[39mif\u001b[39;00m datetimelike:\n\u001b[0;32m    424\u001b[0m     result \u001b[39m=\u001b[39m _wrap_results(result, orig_values\u001b[39m.\u001b[39mdtype, fill_value\u001b[39m=\u001b[39miNaT)\n",
      "File \u001b[1;32mc:\\tools\\Anaconda3\\envs\\torch2_cuda11.8\\lib\\site-packages\\pandas\\core\\nanops.py:727\u001b[0m, in \u001b[0;36mnanmean\u001b[1;34m(values, axis, skipna, mask)\u001b[0m\n\u001b[0;32m    724\u001b[0m     dtype_count \u001b[39m=\u001b[39m dtype\n\u001b[0;32m    726\u001b[0m count \u001b[39m=\u001b[39m _get_counts(values\u001b[39m.\u001b[39mshape, mask, axis, dtype\u001b[39m=\u001b[39mdtype_count)\n\u001b[1;32m--> 727\u001b[0m the_sum \u001b[39m=\u001b[39m _ensure_numeric(values\u001b[39m.\u001b[39;49msum(axis, dtype\u001b[39m=\u001b[39;49mdtype_sum))\n\u001b[0;32m    729\u001b[0m \u001b[39mif\u001b[39;00m axis \u001b[39mis\u001b[39;00m \u001b[39mnot\u001b[39;00m \u001b[39mNone\u001b[39;00m \u001b[39mand\u001b[39;00m \u001b[39mgetattr\u001b[39m(the_sum, \u001b[39m\"\u001b[39m\u001b[39mndim\u001b[39m\u001b[39m\"\u001b[39m, \u001b[39mFalse\u001b[39;00m):\n\u001b[0;32m    730\u001b[0m     count \u001b[39m=\u001b[39m cast(np\u001b[39m.\u001b[39mndarray, count)\n",
      "File \u001b[1;32mc:\\tools\\Anaconda3\\envs\\torch2_cuda11.8\\lib\\site-packages\\pandas\\core\\nanops.py:1699\u001b[0m, in \u001b[0;36m_ensure_numeric\u001b[1;34m(x)\u001b[0m\n\u001b[0;32m   1696\u001b[0m             x \u001b[39m=\u001b[39m \u001b[39mcomplex\u001b[39m(x)\n\u001b[0;32m   1697\u001b[0m         \u001b[39mexcept\u001b[39;00m \u001b[39mValueError\u001b[39;00m \u001b[39mas\u001b[39;00m err:\n\u001b[0;32m   1698\u001b[0m             \u001b[39m# e.g. \"foo\"\u001b[39;00m\n\u001b[1;32m-> 1699\u001b[0m             \u001b[39mraise\u001b[39;00m \u001b[39mTypeError\u001b[39;00m(\u001b[39mf\u001b[39m\u001b[39m\"\u001b[39m\u001b[39mCould not convert \u001b[39m\u001b[39m{\u001b[39;00mx\u001b[39m}\u001b[39;00m\u001b[39m to numeric\u001b[39m\u001b[39m\"\u001b[39m) \u001b[39mfrom\u001b[39;00m \u001b[39merr\u001b[39;00m\n\u001b[0;32m   1700\u001b[0m \u001b[39mreturn\u001b[39;00m x\n",
      "\u001b[1;31mTypeError\u001b[0m: Could not convert pt7_downstream1_2023-10-30_19.04.45__relative_positioningpt15_downstream1_2023-10-30_19.33.33__relative_positioningpt6_downstream1_2023-10-30_19.04.45__relative_positioningjh108_downstream1_2023-10-30_19.33.33__relative_positioningummc003_downstream1_2023-10-30_19.33.32__relative_positioningummc001_downstream1_2023-10-30_19.04.45__relative_positioningpt11_downstream1_2023-10-30_19.04.45__relative_positioningummc009_downstream1_2023-10-30_19.39.52__relative_positioningummc006_downstream1_2023-10-30_19.07.31__relative_positioningpt14_downstream1_2023-10-30_19.04.46__relative_positioningjh103_downstream1_2023-10-30_19.33.33__relative_positioningpt2_downstream1_2023-10-30_19.33.33__relative_positioningpt01_downstream1_2023-10-30_19.04.46__relative_positioningummc007_downstream1_2023-10-30_19.39.52__relative_positioningummc008_downstream1_2023-10-30_19.39.52__relative_positioningpt8_downstream1_2023-10-30_19.04.45__relative_positioningjh101_downstream1_2023-10-30_19.33.33__relative_positioningummc004_downstream1_2023-10-30_19.39.52__relative_positioningpt13_downstream1_2023-10-30_19.33.32__relative_positioningpt16_downstream1_2023-10-30_19.04.45__relative_positioningummc005_downstream1_2023-10-30_19.07.31__relative_positioningummc007_downstream1_2023-10-30_19.07.31__relative_positioningpt2_downstream1_2023-10-30_19.04.45__relative_positioningpt12_downstream1_2023-10-30_19.04.45__relative_positioningpt3_downstream1_2023-10-30_19.33.33__relative_positioningummc004_downstream1_2023-10-30_19.07.31__relative_positioningumf001_downstream1_2023-10-30_19.33.32__relative_positioningummc006_downstream1_2023-10-30_19.39.52__relative_positioningpt15_downstream1_2023-10-30_19.04.46__relative_positioningummc005_downstream1_2023-10-30_19.39.52__relative_positioningummc001_downstream1_2023-10-30_19.33.32__relative_positioningpt10_downstream1_2023-10-30_19.33.33__relative_positioningpt6_downstream1_2023-10-30_19.33.33__relative_positioningummc002_downstream1_2023-10-30_19.04.45__relative_positioningpt01_downstream1_2023-10-30_19.33.33__relative_positioningummc009_downstream1_2023-10-30_19.07.38__relative_positioningpt16_downstream1_2023-10-30_19.33.32__relative_positioningpt7_downstream1_2023-10-30_19.33.33__relative_positioningpt10_downstream1_2023-10-30_19.04.45__relative_positioningpt13_downstream1_2023-10-30_19.04.45__relative_positioningpt12_downstream1_2023-10-30_19.33.32__relative_positioningjh108_downstream1_2023-10-30_19.04.46__relative_positioningpt8_downstream1_2023-10-30_19.33.33__relative_positioningjh101_downstream1_2023-10-30_19.04.46__relative_positioningummc003_downstream1_2023-10-30_19.04.45__relative_positioningpt11_downstream1_2023-10-30_19.33.32__relative_positioningumf001_downstream1_2023-10-30_19.04.47__relative_positioningpt14_downstream1_2023-10-30_19.33.32__relative_positioningjh103_downstream1_2023-10-30_19.04.45__relative_positioningummc002_downstream1_2023-10-30_19.33.32__relative_positioningummc008_downstream1_2023-10-30_19.07.38__relative_positioningpt3_downstream1_2023-10-30_19.04.45__relative_positioning to numeric"
     ]
    }
   ],
   "source": [
    "import numpy as np\n",
    "\n",
    "# Assuming df contains your data\n",
    "grouped = df.groupby(['Model ID', 'Transfer ID']).mean().unstack()\n",
    "grouped.columns = grouped.columns.droplevel()\n",
    "\n",
    "bar_width = 0.35\n",
    "index = np.arange(len(grouped.index))\n",
    "\n",
    "fig, ax = plt.subplots()\n",
    "\n",
    "for idx, transfer_id in enumerate(df['Transfer ID'].unique()):\n",
    "    ax.bar(index + idx*bar_width, grouped[transfer_id], bar_width, label=transfer_id)\n",
    "\n",
    "ax.set_xlabel('Model ID')\n",
    "ax.set_ylabel('Test Accuracy')\n",
    "ax.set_title('Test Accuracy by Model ID and Transfer ID')\n",
    "ax.set_xticks(index + bar_width / 2)\n",
    "ax.set_xticklabels(grouped.index)\n",
    "ax.legend()\n",
    "\n",
    "plt.tight_layout()\n",
    "plt.show()"
   ]
  }
 ],
 "metadata": {
  "kernelspec": {
   "display_name": "torch2_cuda11.8",
   "language": "python",
   "name": "python3"
  },
  "language_info": {
   "codemirror_mode": {
    "name": "ipython",
    "version": 3
   },
   "file_extension": ".py",
   "mimetype": "text/x-python",
   "name": "python",
   "nbconvert_exporter": "python",
   "pygments_lexer": "ipython3",
   "version": "3.10.12"
  }
 },
 "nbformat": 4,
 "nbformat_minor": 2
}
