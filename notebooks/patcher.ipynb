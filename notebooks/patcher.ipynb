{
 "cells": [
  {
   "cell_type": "code",
   "execution_count": 2,
   "metadata": {},
   "outputs": [
    {
     "name": "stdout",
     "output_type": "stream",
     "text": [
      "Intel MKL WARNING: Support of Intel(R) Streaming SIMD Extensions 4.2 (Intel(R) SSE4.2) enabled only processors has been deprecated. Intel oneAPI Math Kernel Library 2025.0 will require Intel(R) Advanced Vector Extensions (Intel(R) AVX) instructions.\n",
      "Intel MKL WARNING: Support of Intel(R) Streaming SIMD Extensions 4.2 (Intel(R) SSE4.2) enabled only processors has been deprecated. Intel oneAPI Math Kernel Library 2025.0 will require Intel(R) Advanced Vector Extensions (Intel(R) AVX) instructions.\n"
     ]
    }
   ],
   "source": [
    "import sys\n",
    "sys.path.append('../src')\n",
    "from patch import full_patcher"
   ]
  },
  {
   "cell_type": "code",
   "execution_count": 4,
   "metadata": {},
   "outputs": [
    {
     "name": "stdout",
     "output_type": "stream",
     "text": [
      "Number of examples: 90488\n",
      "y\n",
      "1    45244\n",
      "0    45244\n",
      "Name: count, dtype: int64\n",
      "Number of examples: 121022\n",
      "y\n",
      "0    60511\n",
      "1    60511\n",
      "Name: count, dtype: int64\n",
      "Number of examples: 85128\n",
      "y\n",
      "0    42564\n",
      "1    42564\n",
      "Name: count, dtype: int64\n",
      "Number of examples: 336342\n",
      "y\n",
      "0    168171\n",
      "1    168171\n",
      "Name: count, dtype: int64\n"
     ]
    }
   ],
   "source": [
    "patient_dir=\"/Users/xaviermootoo/Documents/Data/ssl-seizure-detection/patient_gr/\"\n",
    "logdir = \"/Users/xaviermootoo/Documents/Data/ssl-seizure-detection/patient_pyg/\"\n",
    "\n",
    "full_patcher(user=\"xmootoo\", patient_dir=patient_dir, logdir=logdir, num_electrodes=107, tau_pos=12//0.12, tau_neg=90//0.12, \n",
    "        model=\"relative_positioning\", stats=True, save=True, sample_ratio=0.8)"
   ]
  }
 ],
 "metadata": {
  "kernelspec": {
   "display_name": "torch2_mps",
   "language": "python",
   "name": "python3"
  },
  "language_info": {
   "codemirror_mode": {
    "name": "ipython",
    "version": 3
   },
   "file_extension": ".py",
   "mimetype": "text/x-python",
   "name": "python",
   "nbconvert_exporter": "python",
   "pygments_lexer": "ipython3",
   "version": "3.10.12"
  },
  "orig_nbformat": 4
 },
 "nbformat": 4,
 "nbformat_minor": 2
}
