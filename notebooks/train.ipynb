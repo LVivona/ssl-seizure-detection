{
 "cells": [
  {
   "cell_type": "code",
   "execution_count": 1,
   "metadata": {},
   "outputs": [
    {
     "name": "stderr",
     "output_type": "stream",
     "text": [
      "c:\\tools\\Anaconda3\\envs\\torch2_cuda11.8\\lib\\site-packages\\torch_geometric\\graphgym\\config.py:19: UserWarning: Could not define global config object. Please install 'yacs' via 'pip install yacs' in order to use GraphGym\n",
      "  warnings.warn(\"Could not define global config object. Please install \"\n",
      "c:\\tools\\Anaconda3\\envs\\torch2_cuda11.8\\lib\\site-packages\\torchaudio\\backend\\utils.py:74: UserWarning: No audio backend is available.\n",
      "  warnings.warn(\"No audio backend is available.\")\n"
     ]
    }
   ],
   "source": [
    "import sys\n",
    "sys.path.append('../src')\n",
    "from train import train"
   ]
  },
  {
   "cell_type": "markdown",
   "metadata": {},
   "source": [
    "#### Supervised Model"
   ]
  },
  {
   "cell_type": "code",
   "execution_count": 7,
   "metadata": {},
   "outputs": [
    {
     "data": {
      "text/html": [
       "Tracking run with wandb version 0.15.12"
      ],
      "text/plain": [
       "<IPython.core.display.HTML object>"
      ]
     },
     "metadata": {},
     "output_type": "display_data"
    },
    {
     "data": {
      "text/html": [
       "Run data is saved locally in <code>c:\\Users\\xmoot\\Desktop\\VSCode\\ssl-seizure-detection\\notebooks\\wandb\\run-20231024_130703-g2ok91m9</code>"
      ],
      "text/plain": [
       "<IPython.core.display.HTML object>"
      ]
     },
     "metadata": {},
     "output_type": "display_data"
    },
    {
     "data": {
      "text/html": [
       "Syncing run <strong><a href='https://wandb.ai/xmootoo/ssl-seizure-detection/runs/g2ok91m9' target=\"_blank\">jh101_supervised_None_combined</a></strong> to <a href='https://wandb.ai/xmootoo/ssl-seizure-detection' target=\"_blank\">Weights & Biases</a> (<a href='https://wandb.me/run' target=\"_blank\">docs</a>)<br/>"
      ],
      "text/plain": [
       "<IPython.core.display.HTML object>"
      ]
     },
     "metadata": {},
     "output_type": "display_data"
    },
    {
     "data": {
      "text/html": [
       " View project at <a href='https://wandb.ai/xmootoo/ssl-seizure-detection' target=\"_blank\">https://wandb.ai/xmootoo/ssl-seizure-detection</a>"
      ],
      "text/plain": [
       "<IPython.core.display.HTML object>"
      ]
     },
     "metadata": {},
     "output_type": "display_data"
    },
    {
     "data": {
      "text/html": [
       " View run at <a href='https://wandb.ai/xmootoo/ssl-seizure-detection/runs/g2ok91m9' target=\"_blank\">https://wandb.ai/xmootoo/ssl-seizure-detection/runs/g2ok91m9</a>"
      ],
      "text/plain": [
       "<IPython.core.display.HTML object>"
      ]
     },
     "metadata": {},
     "output_type": "display_data"
    },
    {
     "name": "stdout",
     "output_type": "stream",
     "text": [
      "Using device: cuda\n",
      "Total number of examples in dataset: 2307.\n",
      "Total number of examples used: 2307.\n",
      "Number of training examples: 1845. Number of training batches: 58.\n",
      "Number of validation examples: 462. Number of validation batches: 15.\n",
      "Number of test examples: 231. Number of test batches: 8.\n",
      "Time elapsed after 100 batches (training): 11.894003629684448\n",
      "Time elapsed after 100 batches (evaluation): 9.959998607635498\n",
      "Epoch: 1, Train Loss: 0.42532551519829653, Train Accuracy: 83.5230352303523, Validation Loss: 0.41173996329307555, Validation Accuracy: 84.84848484848484\n",
      "Time elapsed after 100 batches (training): 11.41249942779541\n",
      "Time elapsed after 100 batches (evaluation): 10.69149899482727\n",
      "Epoch: 2, Train Loss: 0.3600101273121505, Train Accuracy: 86.34146341463415, Validation Loss: 0.32291303177674613, Validation Accuracy: 86.14718614718615\n",
      "Time elapsed after 100 batches (training): 11.980997323989868\n",
      "Time elapsed after 100 batches (evaluation): 9.90199875831604\n",
      "Epoch: 3, Train Loss: 0.3461634637466792, Train Accuracy: 86.99186991869918, Validation Loss: 0.33274993201096853, Validation Accuracy: 86.58008658008659\n",
      "Time elapsed after 100 batches (training): 11.201998949050903\n"
     ]
    },
    {
     "ename": "KeyboardInterrupt",
     "evalue": "",
     "output_type": "error",
     "traceback": [
      "\u001b[1;31m---------------------------------------------------------------------------\u001b[0m",
      "\u001b[1;31mKeyboardInterrupt\u001b[0m                         Traceback (most recent call last)",
      "\u001b[1;32mc:\\Users\\xmoot\\Desktop\\VSCode\\ssl-seizure-detection\\notebooks\\train.ipynb Cell 3\u001b[0m line \u001b[0;36m2\n\u001b[0;32m     <a href='vscode-notebook-cell:/c%3A/Users/xmoot/Desktop/VSCode/ssl-seizure-detection/notebooks/train.ipynb#W2sZmlsZQ%3D%3D?line=13'>14</a>\u001b[0m config \u001b[39m=\u001b[39m {\n\u001b[0;32m     <a href='vscode-notebook-cell:/c%3A/Users/xmoot/Desktop/VSCode/ssl-seizure-detection/notebooks/train.ipynb#W2sZmlsZQ%3D%3D?line=14'>15</a>\u001b[0m     \u001b[39m\"\u001b[39m\u001b[39mnum_node_features\u001b[39m\u001b[39m\"\u001b[39m: \u001b[39m9\u001b[39m,\n\u001b[0;32m     <a href='vscode-notebook-cell:/c%3A/Users/xmoot/Desktop/VSCode/ssl-seizure-detection/notebooks/train.ipynb#W2sZmlsZQ%3D%3D?line=15'>16</a>\u001b[0m     \u001b[39m\"\u001b[39m\u001b[39mnum_edge_features\u001b[39m\u001b[39m\"\u001b[39m: \u001b[39m3\u001b[39m,\n\u001b[1;32m   (...)\u001b[0m\n\u001b[0;32m     <a href='vscode-notebook-cell:/c%3A/Users/xmoot/Desktop/VSCode/ssl-seizure-detection/notebooks/train.ipynb#W2sZmlsZQ%3D%3D?line=18'>19</a>\u001b[0m     \u001b[39m\"\u001b[39m\u001b[39mdropout\u001b[39m\u001b[39m\"\u001b[39m: \u001b[39m0.1\u001b[39m,\n\u001b[0;32m     <a href='vscode-notebook-cell:/c%3A/Users/xmoot/Desktop/VSCode/ssl-seizure-detection/notebooks/train.ipynb#W2sZmlsZQ%3D%3D?line=19'>20</a>\u001b[0m }\n\u001b[0;32m     <a href='vscode-notebook-cell:/c%3A/Users/xmoot/Desktop/VSCode/ssl-seizure-detection/notebooks/train.ipynb#W2sZmlsZQ%3D%3D?line=20'>21</a>\u001b[0m data_size \u001b[39m=\u001b[39m \u001b[39m1.0\u001b[39m\n\u001b[1;32m---> <a href='vscode-notebook-cell:/c%3A/Users/xmoot/Desktop/VSCode/ssl-seizure-detection/notebooks/train.ipynb#W2sZmlsZQ%3D%3D?line=22'>23</a>\u001b[0m train(data_path, logdir, patient_id, epochs, config, data_size\u001b[39m=\u001b[39;49mdata_size, val_ratio\u001b[39m=\u001b[39;49m\u001b[39m0.2\u001b[39;49m, test_ratio\u001b[39m=\u001b[39;49m\u001b[39m0.1\u001b[39;49m, \n\u001b[0;32m     <a href='vscode-notebook-cell:/c%3A/Users/xmoot/Desktop/VSCode/ssl-seizure-detection/notebooks/train.ipynb#W2sZmlsZQ%3D%3D?line=23'>24</a>\u001b[0m           batch_size\u001b[39m=\u001b[39;49m\u001b[39m32\u001b[39;49m, num_workers\u001b[39m=\u001b[39;49m\u001b[39m4\u001b[39;49m, lr\u001b[39m=\u001b[39;49m\u001b[39m1e-3\u001b[39;49m, weight_decay\u001b[39m=\u001b[39;49m\u001b[39m1e-3\u001b[39;49m, model_id\u001b[39m=\u001b[39;49m\u001b[39m\"\u001b[39;49m\u001b[39msupervised\u001b[39;49m\u001b[39m\"\u001b[39;49m, timing\u001b[39m=\u001b[39;49m\u001b[39mTrue\u001b[39;49;00m, \n\u001b[0;32m     <a href='vscode-notebook-cell:/c%3A/Users/xmoot/Desktop/VSCode/ssl-seizure-detection/notebooks/train.ipynb#W2sZmlsZQ%3D%3D?line=24'>25</a>\u001b[0m           classify\u001b[39m=\u001b[39;49m\u001b[39m\"\u001b[39;49m\u001b[39mbinary\u001b[39;49m\u001b[39m\"\u001b[39;49m, head\u001b[39m=\u001b[39;49m\u001b[39m\"\u001b[39;49m\u001b[39mlinear\u001b[39;49m\u001b[39m\"\u001b[39;49m, dropout\u001b[39m=\u001b[39;49m\u001b[39mTrue\u001b[39;49;00m, datetime_id\u001b[39m=\u001b[39;49m\u001b[39mNone\u001b[39;49;00m, run_type\u001b[39m=\u001b[39;49m\u001b[39m\"\u001b[39;49m\u001b[39mall\u001b[39;49m\u001b[39m\"\u001b[39;49m)\n",
      "File \u001b[1;32mc:\\Users\\xmoot\\Desktop\\VSCode\\ssl-seizure-detection\\notebooks\\../src\\train.py:282\u001b[0m, in \u001b[0;36mtrain\u001b[1;34m(data_path, logdir, patient_id, epochs, config, data_size, val_ratio, test_ratio, batch_size, num_workers, lr, weight_decay, model_id, timing, classify, head, dropout, datetime_id, run_type)\u001b[0m\n\u001b[0;32m    278\u001b[0m epoch_train_loss, epoch_train_acc \u001b[39m=\u001b[39m train_model(model, train_loader, optimizer, criterion, device, classify, head, dropout, \n\u001b[0;32m    279\u001b[0m                                                 model_id, timing)\n\u001b[0;32m    281\u001b[0m \u001b[39m#<----------Validation---------->\u001b[39;00m\n\u001b[1;32m--> 282\u001b[0m epoch_val_loss, epoch_val_acc \u001b[39m=\u001b[39m evaluate_model(model, val_loader, criterion, device, classify, head, dropout\u001b[39m=\u001b[39;49m\u001b[39mFalse\u001b[39;49;00m, model_id\u001b[39m=\u001b[39;49mmodel_id, timing\u001b[39m=\u001b[39;49mtiming)\n\u001b[0;32m    284\u001b[0m \u001b[39mprint\u001b[39m(\u001b[39mf\u001b[39m\u001b[39m'\u001b[39m\u001b[39mEpoch: \u001b[39m\u001b[39m{\u001b[39;00mepoch\u001b[39m+\u001b[39m\u001b[39m1\u001b[39m\u001b[39m}\u001b[39;00m\u001b[39m, Train Loss: \u001b[39m\u001b[39m{\u001b[39;00mepoch_train_loss\u001b[39m}\u001b[39;00m\u001b[39m, Train Accuracy: \u001b[39m\u001b[39m{\u001b[39;00mepoch_train_acc\u001b[39m}\u001b[39;00m\u001b[39m, Validation Loss: \u001b[39m\u001b[39m{\u001b[39;00mepoch_val_loss\u001b[39m}\u001b[39;00m\u001b[39m, Validation Accuracy: \u001b[39m\u001b[39m{\u001b[39;00mepoch_val_acc\u001b[39m}\u001b[39;00m\u001b[39m'\u001b[39m)\n\u001b[0;32m    287\u001b[0m \u001b[39m#<----------Statistics---------->\u001b[39;00m\n",
      "File \u001b[1;32mc:\\Users\\xmoot\\Desktop\\VSCode\\ssl-seizure-detection\\notebooks\\../src\\train.py:115\u001b[0m, in \u001b[0;36mevaluate_model\u001b[1;34m(model, loader, criterion, device, classify, head, dropout, model_id, timing)\u001b[0m\n\u001b[0;32m    112\u001b[0m \u001b[39mif\u001b[39;00m timing:\n\u001b[0;32m    113\u001b[0m     start_time \u001b[39m=\u001b[39m time\u001b[39m.\u001b[39mtime()\n\u001b[1;32m--> 115\u001b[0m \u001b[39mfor\u001b[39;00m batch_idx, batch \u001b[39min\u001b[39;00m \u001b[39menumerate\u001b[39;49m(loader):\n\u001b[0;32m    116\u001b[0m     \n\u001b[0;32m    117\u001b[0m     \u001b[39m# Send batch to device\u001b[39;00m\n\u001b[0;32m    118\u001b[0m     batch \u001b[39m=\u001b[39m batch\u001b[39m.\u001b[39mto(device)\n\u001b[0;32m    120\u001b[0m     \u001b[39m# Compute forward pass\u001b[39;00m\n",
      "File \u001b[1;32mc:\\tools\\Anaconda3\\envs\\torch2_cuda11.8\\lib\\site-packages\\torch\\utils\\data\\dataloader.py:441\u001b[0m, in \u001b[0;36mDataLoader.__iter__\u001b[1;34m(self)\u001b[0m\n\u001b[0;32m    439\u001b[0m     \u001b[39mreturn\u001b[39;00m \u001b[39mself\u001b[39m\u001b[39m.\u001b[39m_iterator\n\u001b[0;32m    440\u001b[0m \u001b[39melse\u001b[39;00m:\n\u001b[1;32m--> 441\u001b[0m     \u001b[39mreturn\u001b[39;00m \u001b[39mself\u001b[39;49m\u001b[39m.\u001b[39;49m_get_iterator()\n",
      "File \u001b[1;32mc:\\tools\\Anaconda3\\envs\\torch2_cuda11.8\\lib\\site-packages\\torch\\utils\\data\\dataloader.py:388\u001b[0m, in \u001b[0;36mDataLoader._get_iterator\u001b[1;34m(self)\u001b[0m\n\u001b[0;32m    386\u001b[0m \u001b[39melse\u001b[39;00m:\n\u001b[0;32m    387\u001b[0m     \u001b[39mself\u001b[39m\u001b[39m.\u001b[39mcheck_worker_number_rationality()\n\u001b[1;32m--> 388\u001b[0m     \u001b[39mreturn\u001b[39;00m _MultiProcessingDataLoaderIter(\u001b[39mself\u001b[39;49m)\n",
      "File \u001b[1;32mc:\\tools\\Anaconda3\\envs\\torch2_cuda11.8\\lib\\site-packages\\torch\\utils\\data\\dataloader.py:1042\u001b[0m, in \u001b[0;36m_MultiProcessingDataLoaderIter.__init__\u001b[1;34m(self, loader)\u001b[0m\n\u001b[0;32m   1035\u001b[0m w\u001b[39m.\u001b[39mdaemon \u001b[39m=\u001b[39m \u001b[39mTrue\u001b[39;00m\n\u001b[0;32m   1036\u001b[0m \u001b[39m# NB: Process.start() actually take some time as it needs to\u001b[39;00m\n\u001b[0;32m   1037\u001b[0m \u001b[39m#     start a process and pass the arguments over via a pipe.\u001b[39;00m\n\u001b[0;32m   1038\u001b[0m \u001b[39m#     Therefore, we only add a worker to self._workers list after\u001b[39;00m\n\u001b[0;32m   1039\u001b[0m \u001b[39m#     it started, so that we do not call .join() if program dies\u001b[39;00m\n\u001b[0;32m   1040\u001b[0m \u001b[39m#     before it starts, and __del__ tries to join but will get:\u001b[39;00m\n\u001b[0;32m   1041\u001b[0m \u001b[39m#     AssertionError: can only join a started process.\u001b[39;00m\n\u001b[1;32m-> 1042\u001b[0m w\u001b[39m.\u001b[39;49mstart()\n\u001b[0;32m   1043\u001b[0m \u001b[39mself\u001b[39m\u001b[39m.\u001b[39m_index_queues\u001b[39m.\u001b[39mappend(index_queue)\n\u001b[0;32m   1044\u001b[0m \u001b[39mself\u001b[39m\u001b[39m.\u001b[39m_workers\u001b[39m.\u001b[39mappend(w)\n",
      "File \u001b[1;32mc:\\tools\\Anaconda3\\envs\\torch2_cuda11.8\\lib\\multiprocessing\\process.py:121\u001b[0m, in \u001b[0;36mBaseProcess.start\u001b[1;34m(self)\u001b[0m\n\u001b[0;32m    118\u001b[0m \u001b[39massert\u001b[39;00m \u001b[39mnot\u001b[39;00m _current_process\u001b[39m.\u001b[39m_config\u001b[39m.\u001b[39mget(\u001b[39m'\u001b[39m\u001b[39mdaemon\u001b[39m\u001b[39m'\u001b[39m), \\\n\u001b[0;32m    119\u001b[0m        \u001b[39m'\u001b[39m\u001b[39mdaemonic processes are not allowed to have children\u001b[39m\u001b[39m'\u001b[39m\n\u001b[0;32m    120\u001b[0m _cleanup()\n\u001b[1;32m--> 121\u001b[0m \u001b[39mself\u001b[39m\u001b[39m.\u001b[39m_popen \u001b[39m=\u001b[39m \u001b[39mself\u001b[39;49m\u001b[39m.\u001b[39;49m_Popen(\u001b[39mself\u001b[39;49m)\n\u001b[0;32m    122\u001b[0m \u001b[39mself\u001b[39m\u001b[39m.\u001b[39m_sentinel \u001b[39m=\u001b[39m \u001b[39mself\u001b[39m\u001b[39m.\u001b[39m_popen\u001b[39m.\u001b[39msentinel\n\u001b[0;32m    123\u001b[0m \u001b[39m# Avoid a refcycle if the target function holds an indirect\u001b[39;00m\n\u001b[0;32m    124\u001b[0m \u001b[39m# reference to the process object (see bpo-30775)\u001b[39;00m\n",
      "File \u001b[1;32mc:\\tools\\Anaconda3\\envs\\torch2_cuda11.8\\lib\\multiprocessing\\context.py:224\u001b[0m, in \u001b[0;36mProcess._Popen\u001b[1;34m(process_obj)\u001b[0m\n\u001b[0;32m    222\u001b[0m \u001b[39m@staticmethod\u001b[39m\n\u001b[0;32m    223\u001b[0m \u001b[39mdef\u001b[39;00m \u001b[39m_Popen\u001b[39m(process_obj):\n\u001b[1;32m--> 224\u001b[0m     \u001b[39mreturn\u001b[39;00m _default_context\u001b[39m.\u001b[39;49mget_context()\u001b[39m.\u001b[39;49mProcess\u001b[39m.\u001b[39;49m_Popen(process_obj)\n",
      "File \u001b[1;32mc:\\tools\\Anaconda3\\envs\\torch2_cuda11.8\\lib\\multiprocessing\\context.py:336\u001b[0m, in \u001b[0;36mSpawnProcess._Popen\u001b[1;34m(process_obj)\u001b[0m\n\u001b[0;32m    333\u001b[0m \u001b[39m@staticmethod\u001b[39m\n\u001b[0;32m    334\u001b[0m \u001b[39mdef\u001b[39;00m \u001b[39m_Popen\u001b[39m(process_obj):\n\u001b[0;32m    335\u001b[0m     \u001b[39mfrom\u001b[39;00m \u001b[39m.\u001b[39;00m\u001b[39mpopen_spawn_win32\u001b[39;00m \u001b[39mimport\u001b[39;00m Popen\n\u001b[1;32m--> 336\u001b[0m     \u001b[39mreturn\u001b[39;00m Popen(process_obj)\n",
      "File \u001b[1;32mc:\\tools\\Anaconda3\\envs\\torch2_cuda11.8\\lib\\multiprocessing\\popen_spawn_win32.py:93\u001b[0m, in \u001b[0;36mPopen.__init__\u001b[1;34m(self, process_obj)\u001b[0m\n\u001b[0;32m     91\u001b[0m \u001b[39mtry\u001b[39;00m:\n\u001b[0;32m     92\u001b[0m     reduction\u001b[39m.\u001b[39mdump(prep_data, to_child)\n\u001b[1;32m---> 93\u001b[0m     reduction\u001b[39m.\u001b[39;49mdump(process_obj, to_child)\n\u001b[0;32m     94\u001b[0m \u001b[39mfinally\u001b[39;00m:\n\u001b[0;32m     95\u001b[0m     set_spawning_popen(\u001b[39mNone\u001b[39;00m)\n",
      "File \u001b[1;32mc:\\tools\\Anaconda3\\envs\\torch2_cuda11.8\\lib\\multiprocessing\\reduction.py:60\u001b[0m, in \u001b[0;36mdump\u001b[1;34m(obj, file, protocol)\u001b[0m\n\u001b[0;32m     58\u001b[0m \u001b[39mdef\u001b[39;00m \u001b[39mdump\u001b[39m(obj, file, protocol\u001b[39m=\u001b[39m\u001b[39mNone\u001b[39;00m):\n\u001b[0;32m     59\u001b[0m \u001b[39m    \u001b[39m\u001b[39m'''Replacement for pickle.dump() using ForkingPickler.'''\u001b[39;00m\n\u001b[1;32m---> 60\u001b[0m     ForkingPickler(file, protocol)\u001b[39m.\u001b[39;49mdump(obj)\n",
      "\u001b[1;31mKeyboardInterrupt\u001b[0m: "
     ]
    }
   ],
   "source": [
    "# Mac \n",
    "data_path = \"/Users/xaviermootoo/Documents/Data/ssl-seizure-detection/patient_pyg/jh101/supervised\"\n",
    "logdir = \"/Users/xaviermootoo/Documents/Data/ssl-seizure-detection/models/jh101_run1\"\n",
    "\n",
    "# PC\n",
    "data_path = r\"C:\\Users\\xmoot\\Desktop\\Data\\ssl-seizure-detection\\patient_pyg\\jh101\\supervised\"\n",
    "logdir = r\"C:\\Users\\xmoot\\Desktop\\Data\\ssl-seizure-detection\\patient_pyg\\test\"\n",
    "\n",
    "# Training parameters\n",
    "patient_id = \"jh101\"\n",
    "epochs = 10\n",
    "model_name = \"supervised\"\n",
    "\n",
    "config = {\n",
    "    \"num_node_features\": 9,\n",
    "    \"num_edge_features\": 3,\n",
    "    \"hidden_channels\": 64,\n",
    "    \"out_channels\": 32,\n",
    "    \"dropout\": 0.1,\n",
    "}\n",
    "data_size = 1.0\n",
    "\n",
    "train(data_path, logdir, patient_id, epochs, config, data_size=data_size, val_ratio=0.2, test_ratio=0.1, \n",
    "          batch_size=32, num_workers=4, lr=1e-3, weight_decay=1e-3, model_id=\"supervised\", timing=True, \n",
    "          classify=\"binary\", head=\"linear\", dropout=True, datetime_id=None, run_type=\"all\")"
   ]
  },
  {
   "cell_type": "markdown",
   "metadata": {},
   "source": [
    "#### Relative Positioning Model"
   ]
  },
  {
   "cell_type": "code",
   "execution_count": 3,
   "metadata": {},
   "outputs": [
    {
     "data": {
      "text/html": [
       "Finishing last run (ID:et1qi9bo) before initializing another..."
      ],
      "text/plain": [
       "<IPython.core.display.HTML object>"
      ]
     },
     "metadata": {},
     "output_type": "display_data"
    },
    {
     "data": {
      "text/html": [
       "Waiting for W&B process to finish... <strong style=\"color:green\">(success).</strong>"
      ],
      "text/plain": [
       "<IPython.core.display.HTML object>"
      ]
     },
     "metadata": {},
     "output_type": "display_data"
    },
    {
     "data": {
      "text/html": [
       "<style>\n",
       "    table.wandb td:nth-child(1) { padding: 0 10px; text-align: left ; width: auto;} td:nth-child(2) {text-align: left ; width: 100%}\n",
       "    .wandb-row { display: flex; flex-direction: row; flex-wrap: wrap; justify-content: flex-start; width: 100% }\n",
       "    .wandb-col { display: flex; flex-direction: column; flex-basis: 100%; flex: 1; padding: 10px; }\n",
       "    </style>\n",
       "<div class=\"wandb-row\"><div class=\"wandb-col\"><h3>Run history:</h3><br/><table class=\"wandb\"><tr><td>Epoch</td><td>▁█</td></tr><tr><td>Training Accuracy</td><td>▁█</td></tr><tr><td>Training Loss</td><td>█▁</td></tr><tr><td>Validation Accuracy</td><td>▁█</td></tr><tr><td>Validation Loss</td><td>█▁</td></tr></table><br/></div><div class=\"wandb-col\"><h3>Run summary:</h3><br/><table class=\"wandb\"><tr><td>Epoch</td><td>2</td></tr><tr><td>Training Accuracy</td><td>69.275</td></tr><tr><td>Training Loss</td><td>0.57008</td></tr><tr><td>Validation Accuracy</td><td>69.9</td></tr><tr><td>Validation Loss</td><td>0.55833</td></tr></table><br/></div></div>"
      ],
      "text/plain": [
       "<IPython.core.display.HTML object>"
      ]
     },
     "metadata": {},
     "output_type": "display_data"
    },
    {
     "data": {
      "text/html": [
       " View run <strong style=\"color:#cdcd00\">jh101_relative_positioning_None_combined</strong> at: <a href='https://wandb.ai/xmootoo/ssl-seizure-detection/runs/et1qi9bo' target=\"_blank\">https://wandb.ai/xmootoo/ssl-seizure-detection/runs/et1qi9bo</a><br/>Synced 6 W&B file(s), 0 media file(s), 0 artifact file(s) and 0 other file(s)"
      ],
      "text/plain": [
       "<IPython.core.display.HTML object>"
      ]
     },
     "metadata": {},
     "output_type": "display_data"
    },
    {
     "data": {
      "text/html": [
       "Find logs at: <code>.\\wandb\\run-20231024_125152-et1qi9bo\\logs</code>"
      ],
      "text/plain": [
       "<IPython.core.display.HTML object>"
      ]
     },
     "metadata": {},
     "output_type": "display_data"
    },
    {
     "data": {
      "text/html": [
       "Successfully finished last run (ID:et1qi9bo). Initializing new run:<br/>"
      ],
      "text/plain": [
       "<IPython.core.display.HTML object>"
      ]
     },
     "metadata": {},
     "output_type": "display_data"
    },
    {
     "data": {
      "text/html": [
       "Tracking run with wandb version 0.15.12"
      ],
      "text/plain": [
       "<IPython.core.display.HTML object>"
      ]
     },
     "metadata": {},
     "output_type": "display_data"
    },
    {
     "data": {
      "text/html": [
       "Run data is saved locally in <code>c:\\Users\\xmoot\\Desktop\\VSCode\\ssl-seizure-detection\\notebooks\\wandb\\run-20231024_125428-vz56v1nl</code>"
      ],
      "text/plain": [
       "<IPython.core.display.HTML object>"
      ]
     },
     "metadata": {},
     "output_type": "display_data"
    },
    {
     "data": {
      "text/html": [
       "Syncing run <strong><a href='https://wandb.ai/xmootoo/ssl-seizure-detection/runs/vz56v1nl' target=\"_blank\">jh101_relative_positioning_None_combined</a></strong> to <a href='https://wandb.ai/xmootoo/ssl-seizure-detection' target=\"_blank\">Weights & Biases</a> (<a href='https://wandb.me/run' target=\"_blank\">docs</a>)<br/>"
      ],
      "text/plain": [
       "<IPython.core.display.HTML object>"
      ]
     },
     "metadata": {},
     "output_type": "display_data"
    },
    {
     "data": {
      "text/html": [
       " View project at <a href='https://wandb.ai/xmootoo/ssl-seizure-detection' target=\"_blank\">https://wandb.ai/xmootoo/ssl-seizure-detection</a>"
      ],
      "text/plain": [
       "<IPython.core.display.HTML object>"
      ]
     },
     "metadata": {},
     "output_type": "display_data"
    },
    {
     "data": {
      "text/html": [
       " View run at <a href='https://wandb.ai/xmootoo/ssl-seizure-detection/runs/vz56v1nl' target=\"_blank\">https://wandb.ai/xmootoo/ssl-seizure-detection/runs/vz56v1nl</a>"
      ],
      "text/plain": [
       "<IPython.core.display.HTML object>"
      ]
     },
     "metadata": {},
     "output_type": "display_data"
    },
    {
     "name": "stdout",
     "output_type": "stream",
     "text": [
      "Using device: cuda\n",
      "Total number of examples in dataset: 50000.\n",
      "Total number of examples used: 50000.\n",
      "Number of training examples: 30000. Number of training batches: 938.\n",
      "Number of validation examples: 20000. Number of validation batches: 625.\n",
      "Number of test examples: 5001. Number of test batches: 157.\n",
      "Time elapsed after 100 batches (training): 14.97299861907959\n",
      "Time elapsed after 100 batches (training): 10.54800033569336\n",
      "Time elapsed after 100 batches (training): 10.56350064277649\n",
      "Time elapsed after 100 batches (training): 10.641499757766724\n",
      "Time elapsed after 100 batches (training): 11.594000101089478\n",
      "Time elapsed after 100 batches (training): 10.541497230529785\n",
      "Time elapsed after 100 batches (training): 10.854001522064209\n",
      "Time elapsed after 100 batches (training): 10.88499927520752\n",
      "Time elapsed after 100 batches (training): 10.86350131034851\n",
      "Time elapsed after 100 batches (training): 10.893500328063965\n",
      "Time elapsed after 100 batches (evaluation): 15.08400011062622\n",
      "Time elapsed after 100 batches (evaluation): 5.569002151489258\n",
      "Time elapsed after 100 batches (evaluation): 5.720999002456665\n",
      "Time elapsed after 100 batches (evaluation): 5.706000328063965\n",
      "Time elapsed after 100 batches (evaluation): 5.777498960494995\n",
      "Time elapsed after 100 batches (evaluation): 5.904500246047974\n",
      "Time elapsed after 100 batches (evaluation): 5.759498596191406\n",
      "Epoch: 1, Train Loss: 0.5708766790277668, Train Accuracy: 68.67, Validation Loss: 0.557902385044098, Validation Accuracy: 69.125\n",
      "Time elapsed after 100 batches (training): 16.02200150489807\n"
     ]
    },
    {
     "ename": "KeyboardInterrupt",
     "evalue": "",
     "output_type": "error",
     "traceback": [
      "\u001b[1;31m---------------------------------------------------------------------------\u001b[0m",
      "\u001b[1;31mKeyboardInterrupt\u001b[0m                         Traceback (most recent call last)",
      "\u001b[1;32mc:\\Users\\xmoot\\Desktop\\VSCode\\ssl-seizure-detection\\notebooks\\train.ipynb Cell 5\u001b[0m line \u001b[0;36m2\n\u001b[0;32m     <a href='vscode-notebook-cell:/c%3A/Users/xmoot/Desktop/VSCode/ssl-seizure-detection/notebooks/train.ipynb#W4sZmlsZQ%3D%3D?line=13'>14</a>\u001b[0m config \u001b[39m=\u001b[39m {\n\u001b[0;32m     <a href='vscode-notebook-cell:/c%3A/Users/xmoot/Desktop/VSCode/ssl-seizure-detection/notebooks/train.ipynb#W4sZmlsZQ%3D%3D?line=14'>15</a>\u001b[0m     \u001b[39m\"\u001b[39m\u001b[39mnum_node_features\u001b[39m\u001b[39m\"\u001b[39m: \u001b[39m9\u001b[39m,\n\u001b[0;32m     <a href='vscode-notebook-cell:/c%3A/Users/xmoot/Desktop/VSCode/ssl-seizure-detection/notebooks/train.ipynb#W4sZmlsZQ%3D%3D?line=15'>16</a>\u001b[0m     \u001b[39m\"\u001b[39m\u001b[39mnum_edge_features\u001b[39m\u001b[39m\"\u001b[39m: \u001b[39m3\u001b[39m,\n\u001b[0;32m     <a href='vscode-notebook-cell:/c%3A/Users/xmoot/Desktop/VSCode/ssl-seizure-detection/notebooks/train.ipynb#W4sZmlsZQ%3D%3D?line=16'>17</a>\u001b[0m     \u001b[39m\"\u001b[39m\u001b[39mhidden_channels\u001b[39m\u001b[39m\"\u001b[39m: [\u001b[39m64\u001b[39m, \u001b[39m32\u001b[39m, \u001b[39m64\u001b[39m, \u001b[39m128\u001b[39m, \u001b[39m256\u001b[39m],\n\u001b[0;32m     <a href='vscode-notebook-cell:/c%3A/Users/xmoot/Desktop/VSCode/ssl-seizure-detection/notebooks/train.ipynb#W4sZmlsZQ%3D%3D?line=17'>18</a>\u001b[0m     }\n\u001b[0;32m     <a href='vscode-notebook-cell:/c%3A/Users/xmoot/Desktop/VSCode/ssl-seizure-detection/notebooks/train.ipynb#W4sZmlsZQ%3D%3D?line=18'>19</a>\u001b[0m data_size\u001b[39m=\u001b[39m\u001b[39m50000\u001b[39m\n\u001b[1;32m---> <a href='vscode-notebook-cell:/c%3A/Users/xmoot/Desktop/VSCode/ssl-seizure-detection/notebooks/train.ipynb#W4sZmlsZQ%3D%3D?line=20'>21</a>\u001b[0m train(data_path, logdir, patient_id, epochs, config, data_size\u001b[39m=\u001b[39;49mdata_size, val_ratio\u001b[39m=\u001b[39;49m\u001b[39m0.4\u001b[39;49m, test_ratio\u001b[39m=\u001b[39;49m\u001b[39m0.1\u001b[39;49m, \n\u001b[0;32m     <a href='vscode-notebook-cell:/c%3A/Users/xmoot/Desktop/VSCode/ssl-seizure-detection/notebooks/train.ipynb#W4sZmlsZQ%3D%3D?line=21'>22</a>\u001b[0m           batch_size\u001b[39m=\u001b[39;49m\u001b[39m32\u001b[39;49m, num_workers\u001b[39m=\u001b[39;49m\u001b[39m4\u001b[39;49m, lr\u001b[39m=\u001b[39;49m\u001b[39m1e-3\u001b[39;49m, weight_decay\u001b[39m=\u001b[39;49m\u001b[39m1e-3\u001b[39;49m, model_id\u001b[39m=\u001b[39;49m\u001b[39m\"\u001b[39;49m\u001b[39mrelative_positioning\u001b[39;49m\u001b[39m\"\u001b[39;49m, timing\u001b[39m=\u001b[39;49m\u001b[39mTrue\u001b[39;49;00m, \n\u001b[0;32m     <a href='vscode-notebook-cell:/c%3A/Users/xmoot/Desktop/VSCode/ssl-seizure-detection/notebooks/train.ipynb#W4sZmlsZQ%3D%3D?line=22'>23</a>\u001b[0m           classify\u001b[39m=\u001b[39;49m\u001b[39m\"\u001b[39;49m\u001b[39mbinary\u001b[39;49m\u001b[39m\"\u001b[39;49m, head\u001b[39m=\u001b[39;49m\u001b[39m\"\u001b[39;49m\u001b[39mlinear\u001b[39;49m\u001b[39m\"\u001b[39;49m, dropout\u001b[39m=\u001b[39;49m\u001b[39mTrue\u001b[39;49;00m, datetime_id\u001b[39m=\u001b[39;49m\u001b[39mNone\u001b[39;49;00m, run_type\u001b[39m=\u001b[39;49m\u001b[39m\"\u001b[39;49m\u001b[39mall\u001b[39;49m\u001b[39m\"\u001b[39;49m)\n",
      "File \u001b[1;32mc:\\Users\\xmoot\\Desktop\\VSCode\\ssl-seizure-detection\\notebooks\\../src\\train.py:278\u001b[0m, in \u001b[0;36mtrain\u001b[1;34m(data_path, logdir, patient_id, epochs, config, data_size, val_ratio, test_ratio, batch_size, num_workers, lr, weight_decay, model_id, timing, classify, head, dropout, datetime_id, run_type)\u001b[0m\n\u001b[0;32m    274\u001b[0m \u001b[39m# Train our model for multiple epochs\u001b[39;00m\n\u001b[0;32m    275\u001b[0m \u001b[39mfor\u001b[39;00m epoch \u001b[39min\u001b[39;00m \u001b[39mrange\u001b[39m(epochs):\n\u001b[0;32m    276\u001b[0m     \n\u001b[0;32m    277\u001b[0m     \u001b[39m#<----------Training---------->\u001b[39;00m\n\u001b[1;32m--> 278\u001b[0m     epoch_train_loss, epoch_train_acc \u001b[39m=\u001b[39m train_model(model, train_loader, optimizer, criterion, device, classify, head, dropout, \n\u001b[0;32m    279\u001b[0m                                                     model_id, timing)\n\u001b[0;32m    281\u001b[0m     \u001b[39m#<----------Validation---------->\u001b[39;00m\n\u001b[0;32m    282\u001b[0m     epoch_val_loss, epoch_val_acc \u001b[39m=\u001b[39m evaluate_model(model, val_loader, criterion, device, classify, head, dropout\u001b[39m=\u001b[39m\u001b[39mFalse\u001b[39;00m, model_id\u001b[39m=\u001b[39mmodel_id, timing\u001b[39m=\u001b[39mtiming)\n",
      "File \u001b[1;32mc:\\Users\\xmoot\\Desktop\\VSCode\\ssl-seizure-detection\\notebooks\\../src\\train.py:73\u001b[0m, in \u001b[0;36mtrain_model\u001b[1;34m(model, train_loader, optimizer, criterion, device, classify, head, dropout, model_id, timing)\u001b[0m\n\u001b[0;32m     70\u001b[0m batch \u001b[39m=\u001b[39m batch\u001b[39m.\u001b[39mto(device)\n\u001b[0;32m     72\u001b[0m \u001b[39m# Compute forward pass\u001b[39;00m\n\u001b[1;32m---> 73\u001b[0m outputs \u001b[39m=\u001b[39m forward_pass(model, batch, model_id, classify, head, dropout)\n\u001b[0;32m     75\u001b[0m \u001b[39m# Calculate loss\u001b[39;00m\n\u001b[0;32m     76\u001b[0m loss \u001b[39m=\u001b[39m criterion(outputs\u001b[39m.\u001b[39msqueeze()\u001b[39m.\u001b[39mto(device), batch\u001b[39m.\u001b[39my\u001b[39m.\u001b[39mfloat()\u001b[39m.\u001b[39mto(device))\n",
      "File \u001b[1;32mc:\\Users\\xmoot\\Desktop\\VSCode\\ssl-seizure-detection\\notebooks\\../src\\train.py:50\u001b[0m, in \u001b[0;36mforward_pass\u001b[1;34m(model, batch, model_id, classify, head, dropout)\u001b[0m\n\u001b[0;32m     48\u001b[0m     \u001b[39mreturn\u001b[39;00m model(batch, classify, head, dropout)\n\u001b[0;32m     49\u001b[0m \u001b[39melif\u001b[39;00m model_id\u001b[39m==\u001b[39m\u001b[39m\"\u001b[39m\u001b[39mrelative_positioning\u001b[39m\u001b[39m\"\u001b[39m \u001b[39mor\u001b[39;00m model_id\u001b[39m==\u001b[39m\u001b[39m\"\u001b[39m\u001b[39mtemporal_shuffling\u001b[39m\u001b[39m\"\u001b[39m:\n\u001b[1;32m---> 50\u001b[0m     \u001b[39mreturn\u001b[39;00m model(batch, head)\n",
      "File \u001b[1;32mc:\\tools\\Anaconda3\\envs\\torch2_cuda11.8\\lib\\site-packages\\torch\\nn\\modules\\module.py:1501\u001b[0m, in \u001b[0;36mModule._call_impl\u001b[1;34m(self, *args, **kwargs)\u001b[0m\n\u001b[0;32m   1496\u001b[0m \u001b[39m# If we don't have any hooks, we want to skip the rest of the logic in\u001b[39;00m\n\u001b[0;32m   1497\u001b[0m \u001b[39m# this function, and just call forward.\u001b[39;00m\n\u001b[0;32m   1498\u001b[0m \u001b[39mif\u001b[39;00m \u001b[39mnot\u001b[39;00m (\u001b[39mself\u001b[39m\u001b[39m.\u001b[39m_backward_hooks \u001b[39mor\u001b[39;00m \u001b[39mself\u001b[39m\u001b[39m.\u001b[39m_backward_pre_hooks \u001b[39mor\u001b[39;00m \u001b[39mself\u001b[39m\u001b[39m.\u001b[39m_forward_hooks \u001b[39mor\u001b[39;00m \u001b[39mself\u001b[39m\u001b[39m.\u001b[39m_forward_pre_hooks\n\u001b[0;32m   1499\u001b[0m         \u001b[39mor\u001b[39;00m _global_backward_pre_hooks \u001b[39mor\u001b[39;00m _global_backward_hooks\n\u001b[0;32m   1500\u001b[0m         \u001b[39mor\u001b[39;00m _global_forward_hooks \u001b[39mor\u001b[39;00m _global_forward_pre_hooks):\n\u001b[1;32m-> 1501\u001b[0m     \u001b[39mreturn\u001b[39;00m forward_call(\u001b[39m*\u001b[39margs, \u001b[39m*\u001b[39m\u001b[39m*\u001b[39mkwargs)\n\u001b[0;32m   1502\u001b[0m \u001b[39m# Do not call functions when jit is used\u001b[39;00m\n\u001b[0;32m   1503\u001b[0m full_backward_hooks, non_full_backward_hooks \u001b[39m=\u001b[39m [], []\n",
      "File \u001b[1;32mc:\\Users\\xmoot\\Desktop\\VSCode\\ssl-seizure-detection\\notebooks\\../src\\models.py:87\u001b[0m, in \u001b[0;36mrelative_positioning.forward\u001b[1;34m(self, batch, head)\u001b[0m\n\u001b[0;32m     85\u001b[0m \u001b[39mdef\u001b[39;00m \u001b[39mforward\u001b[39m(\u001b[39mself\u001b[39m, batch, head\u001b[39m=\u001b[39m\u001b[39m\"\u001b[39m\u001b[39mlinear\u001b[39m\u001b[39m\"\u001b[39m):\n\u001b[0;32m     86\u001b[0m     \u001b[39m# Graph embeddings\u001b[39;00m\n\u001b[1;32m---> 87\u001b[0m     z1 \u001b[39m=\u001b[39m \u001b[39mself\u001b[39;49m\u001b[39m.\u001b[39;49mencoder(batch\u001b[39m.\u001b[39;49mx1, batch\u001b[39m.\u001b[39;49medge_index1, batch\u001b[39m.\u001b[39;49medge_attr1, batch\u001b[39m.\u001b[39;49mx1_batch)\n\u001b[0;32m     88\u001b[0m     z2 \u001b[39m=\u001b[39m \u001b[39mself\u001b[39m\u001b[39m.\u001b[39mencoder(batch\u001b[39m.\u001b[39mx2, batch\u001b[39m.\u001b[39medge_index2, batch\u001b[39m.\u001b[39medge_attr2, batch\u001b[39m.\u001b[39mx2_batch)\n\u001b[0;32m     90\u001b[0m     \u001b[39m# Contrast the embeddings\u001b[39;00m\n",
      "File \u001b[1;32mc:\\tools\\Anaconda3\\envs\\torch2_cuda11.8\\lib\\site-packages\\torch\\nn\\modules\\module.py:1501\u001b[0m, in \u001b[0;36mModule._call_impl\u001b[1;34m(self, *args, **kwargs)\u001b[0m\n\u001b[0;32m   1496\u001b[0m \u001b[39m# If we don't have any hooks, we want to skip the rest of the logic in\u001b[39;00m\n\u001b[0;32m   1497\u001b[0m \u001b[39m# this function, and just call forward.\u001b[39;00m\n\u001b[0;32m   1498\u001b[0m \u001b[39mif\u001b[39;00m \u001b[39mnot\u001b[39;00m (\u001b[39mself\u001b[39m\u001b[39m.\u001b[39m_backward_hooks \u001b[39mor\u001b[39;00m \u001b[39mself\u001b[39m\u001b[39m.\u001b[39m_backward_pre_hooks \u001b[39mor\u001b[39;00m \u001b[39mself\u001b[39m\u001b[39m.\u001b[39m_forward_hooks \u001b[39mor\u001b[39;00m \u001b[39mself\u001b[39m\u001b[39m.\u001b[39m_forward_pre_hooks\n\u001b[0;32m   1499\u001b[0m         \u001b[39mor\u001b[39;00m _global_backward_pre_hooks \u001b[39mor\u001b[39;00m _global_backward_hooks\n\u001b[0;32m   1500\u001b[0m         \u001b[39mor\u001b[39;00m _global_forward_hooks \u001b[39mor\u001b[39;00m _global_forward_pre_hooks):\n\u001b[1;32m-> 1501\u001b[0m     \u001b[39mreturn\u001b[39;00m forward_call(\u001b[39m*\u001b[39margs, \u001b[39m*\u001b[39m\u001b[39m*\u001b[39mkwargs)\n\u001b[0;32m   1502\u001b[0m \u001b[39m# Do not call functions when jit is used\u001b[39;00m\n\u001b[0;32m   1503\u001b[0m full_backward_hooks, non_full_backward_hooks \u001b[39m=\u001b[39m [], []\n",
      "File \u001b[1;32mc:\\Users\\xmoot\\Desktop\\VSCode\\ssl-seizure-detection\\notebooks\\../src\\models.py:54\u001b[0m, in \u001b[0;36mgnn_encoder.forward\u001b[1;34m(self, x, edge_index, edge_attr, batch)\u001b[0m\n\u001b[0;32m     51\u001b[0m x \u001b[39m=\u001b[39m F\u001b[39m.\u001b[39mrelu(\u001b[39mself\u001b[39m\u001b[39m.\u001b[39mconv1(x, edge_index, edge_attr))\n\u001b[0;32m     53\u001b[0m \u001b[39m# GATConv layer\u001b[39;00m\n\u001b[1;32m---> 54\u001b[0m x \u001b[39m=\u001b[39m F\u001b[39m.\u001b[39mrelu(\u001b[39mself\u001b[39;49m\u001b[39m.\u001b[39;49mconv2(x, edge_index))\n\u001b[0;32m     56\u001b[0m \u001b[39m# Global average pooling\u001b[39;00m\n\u001b[0;32m     57\u001b[0m x \u001b[39m=\u001b[39m global_mean_pool(x, batch) \u001b[39m#<-- batch vector to keep track of graphs\u001b[39;00m\n",
      "File \u001b[1;32mc:\\tools\\Anaconda3\\envs\\torch2_cuda11.8\\lib\\site-packages\\torch\\nn\\modules\\module.py:1501\u001b[0m, in \u001b[0;36mModule._call_impl\u001b[1;34m(self, *args, **kwargs)\u001b[0m\n\u001b[0;32m   1496\u001b[0m \u001b[39m# If we don't have any hooks, we want to skip the rest of the logic in\u001b[39;00m\n\u001b[0;32m   1497\u001b[0m \u001b[39m# this function, and just call forward.\u001b[39;00m\n\u001b[0;32m   1498\u001b[0m \u001b[39mif\u001b[39;00m \u001b[39mnot\u001b[39;00m (\u001b[39mself\u001b[39m\u001b[39m.\u001b[39m_backward_hooks \u001b[39mor\u001b[39;00m \u001b[39mself\u001b[39m\u001b[39m.\u001b[39m_backward_pre_hooks \u001b[39mor\u001b[39;00m \u001b[39mself\u001b[39m\u001b[39m.\u001b[39m_forward_hooks \u001b[39mor\u001b[39;00m \u001b[39mself\u001b[39m\u001b[39m.\u001b[39m_forward_pre_hooks\n\u001b[0;32m   1499\u001b[0m         \u001b[39mor\u001b[39;00m _global_backward_pre_hooks \u001b[39mor\u001b[39;00m _global_backward_hooks\n\u001b[0;32m   1500\u001b[0m         \u001b[39mor\u001b[39;00m _global_forward_hooks \u001b[39mor\u001b[39;00m _global_forward_pre_hooks):\n\u001b[1;32m-> 1501\u001b[0m     \u001b[39mreturn\u001b[39;00m forward_call(\u001b[39m*\u001b[39margs, \u001b[39m*\u001b[39m\u001b[39m*\u001b[39mkwargs)\n\u001b[0;32m   1502\u001b[0m \u001b[39m# Do not call functions when jit is used\u001b[39;00m\n\u001b[0;32m   1503\u001b[0m full_backward_hooks, non_full_backward_hooks \u001b[39m=\u001b[39m [], []\n",
      "File \u001b[1;32mc:\\tools\\Anaconda3\\envs\\torch2_cuda11.8\\lib\\site-packages\\torch_geometric\\nn\\conv\\gat_conv.py:237\u001b[0m, in \u001b[0;36mGATConv.forward\u001b[1;34m(self, x, edge_index, edge_attr, size, return_attention_weights)\u001b[0m\n\u001b[0;32m    235\u001b[0m         num_nodes \u001b[39m=\u001b[39m \u001b[39mmin\u001b[39m(num_nodes, x_dst\u001b[39m.\u001b[39msize(\u001b[39m0\u001b[39m))\n\u001b[0;32m    236\u001b[0m     num_nodes \u001b[39m=\u001b[39m \u001b[39mmin\u001b[39m(size) \u001b[39mif\u001b[39;00m size \u001b[39mis\u001b[39;00m \u001b[39mnot\u001b[39;00m \u001b[39mNone\u001b[39;00m \u001b[39melse\u001b[39;00m num_nodes\n\u001b[1;32m--> 237\u001b[0m     edge_index, edge_attr \u001b[39m=\u001b[39m remove_self_loops(\n\u001b[0;32m    238\u001b[0m         edge_index, edge_attr)\n\u001b[0;32m    239\u001b[0m     edge_index, edge_attr \u001b[39m=\u001b[39m add_self_loops(\n\u001b[0;32m    240\u001b[0m         edge_index, edge_attr, fill_value\u001b[39m=\u001b[39m\u001b[39mself\u001b[39m\u001b[39m.\u001b[39mfill_value,\n\u001b[0;32m    241\u001b[0m         num_nodes\u001b[39m=\u001b[39mnum_nodes)\n\u001b[0;32m    242\u001b[0m \u001b[39melif\u001b[39;00m \u001b[39misinstance\u001b[39m(edge_index, SparseTensor):\n",
      "File \u001b[1;32mc:\\tools\\Anaconda3\\envs\\torch2_cuda11.8\\lib\\site-packages\\torch_geometric\\utils\\loop.py:80\u001b[0m, in \u001b[0;36mremove_self_loops\u001b[1;34m(edge_index, edge_attr)\u001b[0m\n\u001b[0;32m     77\u001b[0m mask \u001b[39m=\u001b[39m edge_index[\u001b[39m0\u001b[39m] \u001b[39m!=\u001b[39m edge_index[\u001b[39m1\u001b[39m]\n\u001b[0;32m     78\u001b[0m edge_index \u001b[39m=\u001b[39m edge_index[:, mask]\n\u001b[1;32m---> 80\u001b[0m \u001b[39mif\u001b[39;00m layout \u001b[39mis\u001b[39;49;00m \u001b[39mnot\u001b[39;49;00m \u001b[39mNone\u001b[39;49;00m:\n\u001b[0;32m     81\u001b[0m     \u001b[39massert\u001b[39;00m edge_attr \u001b[39mis\u001b[39;00m \u001b[39mnot\u001b[39;00m \u001b[39mNone\u001b[39;00m\n\u001b[0;32m     82\u001b[0m     edge_attr \u001b[39m=\u001b[39m edge_attr[mask]\n",
      "\u001b[1;31mKeyboardInterrupt\u001b[0m: "
     ]
    }
   ],
   "source": [
    "# Mac\n",
    "data_path = \"/Users/xaviermootoo/Documents/Data/ssl-seizure-detection/patient_pyg/jh101/relative_positioning\"\n",
    "logdir = \"/Users/xaviermootoo/Documents/Data/ssl-seizure-detection/models/jh101_run1_rp\"\n",
    "\n",
    "# PC\n",
    "data_path = r\"C:\\Users\\xmoot\\Desktop\\Data\\ssl-seizure-detection\\patient_pyg\\jh101\\relative_positioning\"\n",
    "logdir = r\"C:\\Users\\xmoot\\Desktop\\Data\\ssl-seizure-detection\\patient_pyg\\test\"\n",
    "\n",
    "# Training parameters\n",
    "patient_id = \"jh101\"\n",
    "epochs = 2\n",
    "model_id = \"relative_positioning\"\n",
    "\n",
    "config = {\n",
    "    \"num_node_features\": 9,\n",
    "    \"num_edge_features\": 3,\n",
    "    \"hidden_channels\": [64, 32, 64, 128, 256],\n",
    "    }\n",
    "data_size=50000\n",
    "\n",
    "train(data_path, logdir, patient_id, epochs, config, data_size=data_size, val_ratio=0.4, test_ratio=0.1, \n",
    "          batch_size=32, num_workers=4, lr=1e-3, weight_decay=1e-3, model_id=\"relative_positioning\", timing=True, \n",
    "          classify=\"binary\", head=\"linear\", dropout=True, datetime_id=None, run_type=\"all\")"
   ]
  },
  {
   "cell_type": "markdown",
   "metadata": {},
   "source": [
    "#### Temporal Shuffling Model"
   ]
  },
  {
   "cell_type": "code",
   "execution_count": 4,
   "metadata": {},
   "outputs": [
    {
     "data": {
      "text/html": [
       "Finishing last run (ID:vz56v1nl) before initializing another..."
      ],
      "text/plain": [
       "<IPython.core.display.HTML object>"
      ]
     },
     "metadata": {},
     "output_type": "display_data"
    },
    {
     "data": {
      "text/html": [
       "Waiting for W&B process to finish... <strong style=\"color:green\">(success).</strong>"
      ],
      "text/plain": [
       "<IPython.core.display.HTML object>"
      ]
     },
     "metadata": {},
     "output_type": "display_data"
    },
    {
     "data": {
      "text/html": [
       "<style>\n",
       "    table.wandb td:nth-child(1) { padding: 0 10px; text-align: left ; width: auto;} td:nth-child(2) {text-align: left ; width: 100%}\n",
       "    .wandb-row { display: flex; flex-direction: row; flex-wrap: wrap; justify-content: flex-start; width: 100% }\n",
       "    .wandb-col { display: flex; flex-direction: column; flex-basis: 100%; flex: 1; padding: 10px; }\n",
       "    </style>\n",
       "<div class=\"wandb-row\"><div class=\"wandb-col\"><h3>Run history:</h3><br/><table class=\"wandb\"><tr><td>Epoch</td><td>▁</td></tr><tr><td>Training Accuracy</td><td>▁</td></tr><tr><td>Training Loss</td><td>▁</td></tr><tr><td>Validation Accuracy</td><td>▁</td></tr><tr><td>Validation Loss</td><td>▁</td></tr></table><br/></div><div class=\"wandb-col\"><h3>Run summary:</h3><br/><table class=\"wandb\"><tr><td>Epoch</td><td>1</td></tr><tr><td>Training Accuracy</td><td>68.67</td></tr><tr><td>Training Loss</td><td>0.57088</td></tr><tr><td>Validation Accuracy</td><td>69.125</td></tr><tr><td>Validation Loss</td><td>0.5579</td></tr></table><br/></div></div>"
      ],
      "text/plain": [
       "<IPython.core.display.HTML object>"
      ]
     },
     "metadata": {},
     "output_type": "display_data"
    },
    {
     "data": {
      "text/html": [
       " View run <strong style=\"color:#cdcd00\">jh101_relative_positioning_None_combined</strong> at: <a href='https://wandb.ai/xmootoo/ssl-seizure-detection/runs/vz56v1nl' target=\"_blank\">https://wandb.ai/xmootoo/ssl-seizure-detection/runs/vz56v1nl</a><br/>Synced 6 W&B file(s), 0 media file(s), 0 artifact file(s) and 0 other file(s)"
      ],
      "text/plain": [
       "<IPython.core.display.HTML object>"
      ]
     },
     "metadata": {},
     "output_type": "display_data"
    },
    {
     "data": {
      "text/html": [
       "Find logs at: <code>.\\wandb\\run-20231024_125428-vz56v1nl\\logs</code>"
      ],
      "text/plain": [
       "<IPython.core.display.HTML object>"
      ]
     },
     "metadata": {},
     "output_type": "display_data"
    },
    {
     "data": {
      "text/html": [
       "Successfully finished last run (ID:vz56v1nl). Initializing new run:<br/>"
      ],
      "text/plain": [
       "<IPython.core.display.HTML object>"
      ]
     },
     "metadata": {},
     "output_type": "display_data"
    },
    {
     "data": {
      "text/html": [
       "Tracking run with wandb version 0.15.12"
      ],
      "text/plain": [
       "<IPython.core.display.HTML object>"
      ]
     },
     "metadata": {},
     "output_type": "display_data"
    },
    {
     "data": {
      "text/html": [
       "Run data is saved locally in <code>c:\\Users\\xmoot\\Desktop\\VSCode\\ssl-seizure-detection\\notebooks\\wandb\\run-20231024_125814-galqw77z</code>"
      ],
      "text/plain": [
       "<IPython.core.display.HTML object>"
      ]
     },
     "metadata": {},
     "output_type": "display_data"
    },
    {
     "data": {
      "text/html": [
       "Syncing run <strong><a href='https://wandb.ai/xmootoo/ssl-seizure-detection/runs/galqw77z' target=\"_blank\">jh101_temporal_shuffling_None_combined</a></strong> to <a href='https://wandb.ai/xmootoo/ssl-seizure-detection' target=\"_blank\">Weights & Biases</a> (<a href='https://wandb.me/run' target=\"_blank\">docs</a>)<br/>"
      ],
      "text/plain": [
       "<IPython.core.display.HTML object>"
      ]
     },
     "metadata": {},
     "output_type": "display_data"
    },
    {
     "data": {
      "text/html": [
       " View project at <a href='https://wandb.ai/xmootoo/ssl-seizure-detection' target=\"_blank\">https://wandb.ai/xmootoo/ssl-seizure-detection</a>"
      ],
      "text/plain": [
       "<IPython.core.display.HTML object>"
      ]
     },
     "metadata": {},
     "output_type": "display_data"
    },
    {
     "data": {
      "text/html": [
       " View run at <a href='https://wandb.ai/xmootoo/ssl-seizure-detection/runs/galqw77z' target=\"_blank\">https://wandb.ai/xmootoo/ssl-seizure-detection/runs/galqw77z</a>"
      ],
      "text/plain": [
       "<IPython.core.display.HTML object>"
      ]
     },
     "metadata": {},
     "output_type": "display_data"
    },
    {
     "name": "stdout",
     "output_type": "stream",
     "text": [
      "Using device: cuda\n",
      "Total number of examples in dataset: 50000.\n",
      "Total number of examples used: 50000.\n",
      "Number of training examples: 10000. Number of training batches: 313.\n",
      "Number of validation examples: 40000. Number of validation batches: 1250.\n",
      "Number of test examples: 5001. Number of test batches: 157.\n",
      "Time elapsed after 100 batches (training): 14.080002069473267\n",
      "Time elapsed after 100 batches (training): 14.921999454498291\n",
      "Time elapsed after 100 batches (training): 15.10199785232544\n",
      "Time elapsed after 100 batches (training): 14.90050220489502\n",
      "Time elapsed after 100 batches (evaluation): 15.475499153137207\n",
      "Time elapsed after 100 batches (evaluation): 7.736503839492798\n",
      "Time elapsed after 100 batches (evaluation): 7.846498250961304\n",
      "Time elapsed after 100 batches (evaluation): 7.567501544952393\n",
      "Time elapsed after 100 batches (evaluation): 7.647000074386597\n",
      "Time elapsed after 100 batches (evaluation): 7.868997573852539\n",
      "Time elapsed after 100 batches (evaluation): 7.904000282287598\n",
      "Time elapsed after 100 batches (evaluation): 8.052500009536743\n",
      "Time elapsed after 100 batches (evaluation): 8.744499206542969\n",
      "Time elapsed after 100 batches (evaluation): 8.34350037574768\n",
      "Time elapsed after 100 batches (evaluation): 8.237553596496582\n",
      "Time elapsed after 100 batches (evaluation): 8.43350338935852\n",
      "Time elapsed after 100 batches (evaluation): 8.534000873565674\n",
      "Epoch: 1, Train Loss: 0.642052597035996, Train Accuracy: 61.56, Validation Loss: 0.5888549370288849, Validation Accuracy: 68.0975\n",
      "Time elapsed after 100 batches (training): 14.461621522903442\n",
      "Time elapsed after 100 batches (training): 16.179500102996826\n",
      "Time elapsed after 100 batches (training): 16.847498416900635\n"
     ]
    },
    {
     "ename": "KeyboardInterrupt",
     "evalue": "",
     "output_type": "error",
     "traceback": [
      "\u001b[1;31m---------------------------------------------------------------------------\u001b[0m",
      "\u001b[1;31mKeyboardInterrupt\u001b[0m                         Traceback (most recent call last)",
      "\u001b[1;32mc:\\Users\\xmoot\\Desktop\\VSCode\\ssl-seizure-detection\\notebooks\\train.ipynb Cell 7\u001b[0m line \u001b[0;36m2\n\u001b[0;32m     <a href='vscode-notebook-cell:/c%3A/Users/xmoot/Desktop/VSCode/ssl-seizure-detection/notebooks/train.ipynb#W6sZmlsZQ%3D%3D?line=13'>14</a>\u001b[0m config \u001b[39m=\u001b[39m {\n\u001b[0;32m     <a href='vscode-notebook-cell:/c%3A/Users/xmoot/Desktop/VSCode/ssl-seizure-detection/notebooks/train.ipynb#W6sZmlsZQ%3D%3D?line=14'>15</a>\u001b[0m     \u001b[39m\"\u001b[39m\u001b[39mnum_node_features\u001b[39m\u001b[39m\"\u001b[39m: \u001b[39m9\u001b[39m,\n\u001b[0;32m     <a href='vscode-notebook-cell:/c%3A/Users/xmoot/Desktop/VSCode/ssl-seizure-detection/notebooks/train.ipynb#W6sZmlsZQ%3D%3D?line=15'>16</a>\u001b[0m     \u001b[39m\"\u001b[39m\u001b[39mnum_edge_features\u001b[39m\u001b[39m\"\u001b[39m: \u001b[39m3\u001b[39m,\n\u001b[0;32m     <a href='vscode-notebook-cell:/c%3A/Users/xmoot/Desktop/VSCode/ssl-seizure-detection/notebooks/train.ipynb#W6sZmlsZQ%3D%3D?line=16'>17</a>\u001b[0m     \u001b[39m\"\u001b[39m\u001b[39mhidden_channels\u001b[39m\u001b[39m\"\u001b[39m: [\u001b[39m64\u001b[39m, \u001b[39m32\u001b[39m, \u001b[39m64\u001b[39m, \u001b[39m128\u001b[39m, \u001b[39m256\u001b[39m],\n\u001b[0;32m     <a href='vscode-notebook-cell:/c%3A/Users/xmoot/Desktop/VSCode/ssl-seizure-detection/notebooks/train.ipynb#W6sZmlsZQ%3D%3D?line=17'>18</a>\u001b[0m }\n\u001b[0;32m     <a href='vscode-notebook-cell:/c%3A/Users/xmoot/Desktop/VSCode/ssl-seizure-detection/notebooks/train.ipynb#W6sZmlsZQ%3D%3D?line=18'>19</a>\u001b[0m data_size \u001b[39m=\u001b[39m \u001b[39m50000\u001b[39m\n\u001b[1;32m---> <a href='vscode-notebook-cell:/c%3A/Users/xmoot/Desktop/VSCode/ssl-seizure-detection/notebooks/train.ipynb#W6sZmlsZQ%3D%3D?line=20'>21</a>\u001b[0m train(data_path, logdir, patient_id, epochs, config, data_size\u001b[39m=\u001b[39;49mdata_size, val_ratio\u001b[39m=\u001b[39;49m\u001b[39m0.8\u001b[39;49m, test_ratio\u001b[39m=\u001b[39;49m\u001b[39m0.1\u001b[39;49m, \n\u001b[0;32m     <a href='vscode-notebook-cell:/c%3A/Users/xmoot/Desktop/VSCode/ssl-seizure-detection/notebooks/train.ipynb#W6sZmlsZQ%3D%3D?line=21'>22</a>\u001b[0m           batch_size\u001b[39m=\u001b[39;49m\u001b[39m32\u001b[39;49m, num_workers\u001b[39m=\u001b[39;49m\u001b[39m4\u001b[39;49m, lr\u001b[39m=\u001b[39;49m\u001b[39m1e-3\u001b[39;49m, weight_decay\u001b[39m=\u001b[39;49m\u001b[39m1e-3\u001b[39;49m, model_id\u001b[39m=\u001b[39;49m\u001b[39m\"\u001b[39;49m\u001b[39mtemporal_shuffling\u001b[39;49m\u001b[39m\"\u001b[39;49m, timing\u001b[39m=\u001b[39;49m\u001b[39mTrue\u001b[39;49;00m, \n\u001b[0;32m     <a href='vscode-notebook-cell:/c%3A/Users/xmoot/Desktop/VSCode/ssl-seizure-detection/notebooks/train.ipynb#W6sZmlsZQ%3D%3D?line=22'>23</a>\u001b[0m           classify\u001b[39m=\u001b[39;49m\u001b[39m\"\u001b[39;49m\u001b[39mbinary\u001b[39;49m\u001b[39m\"\u001b[39;49m, head\u001b[39m=\u001b[39;49m\u001b[39m\"\u001b[39;49m\u001b[39mlinear\u001b[39;49m\u001b[39m\"\u001b[39;49m, dropout\u001b[39m=\u001b[39;49m\u001b[39mTrue\u001b[39;49;00m, datetime_id\u001b[39m=\u001b[39;49m\u001b[39mNone\u001b[39;49;00m, run_type\u001b[39m=\u001b[39;49m\u001b[39m\"\u001b[39;49m\u001b[39mall\u001b[39;49m\u001b[39m\"\u001b[39;49m)\n",
      "File \u001b[1;32mc:\\Users\\xmoot\\Desktop\\VSCode\\ssl-seizure-detection\\notebooks\\../src\\train.py:278\u001b[0m, in \u001b[0;36mtrain\u001b[1;34m(data_path, logdir, patient_id, epochs, config, data_size, val_ratio, test_ratio, batch_size, num_workers, lr, weight_decay, model_id, timing, classify, head, dropout, datetime_id, run_type)\u001b[0m\n\u001b[0;32m    274\u001b[0m \u001b[39m# Train our model for multiple epochs\u001b[39;00m\n\u001b[0;32m    275\u001b[0m \u001b[39mfor\u001b[39;00m epoch \u001b[39min\u001b[39;00m \u001b[39mrange\u001b[39m(epochs):\n\u001b[0;32m    276\u001b[0m     \n\u001b[0;32m    277\u001b[0m     \u001b[39m#<----------Training---------->\u001b[39;00m\n\u001b[1;32m--> 278\u001b[0m     epoch_train_loss, epoch_train_acc \u001b[39m=\u001b[39m train_model(model, train_loader, optimizer, criterion, device, classify, head, dropout, \n\u001b[0;32m    279\u001b[0m                                                     model_id, timing)\n\u001b[0;32m    281\u001b[0m     \u001b[39m#<----------Validation---------->\u001b[39;00m\n\u001b[0;32m    282\u001b[0m     epoch_val_loss, epoch_val_acc \u001b[39m=\u001b[39m evaluate_model(model, val_loader, criterion, device, classify, head, dropout\u001b[39m=\u001b[39m\u001b[39mFalse\u001b[39;00m, model_id\u001b[39m=\u001b[39mmodel_id, timing\u001b[39m=\u001b[39mtiming)\n",
      "File \u001b[1;32mc:\\Users\\xmoot\\Desktop\\VSCode\\ssl-seizure-detection\\notebooks\\../src\\train.py:70\u001b[0m, in \u001b[0;36mtrain_model\u001b[1;34m(model, train_loader, optimizer, criterion, device, classify, head, dropout, model_id, timing)\u001b[0m\n\u001b[0;32m     67\u001b[0m optimizer\u001b[39m.\u001b[39mzero_grad()\n\u001b[0;32m     69\u001b[0m \u001b[39m# Send batch to device\u001b[39;00m\n\u001b[1;32m---> 70\u001b[0m batch \u001b[39m=\u001b[39m batch\u001b[39m.\u001b[39;49mto(device)\n\u001b[0;32m     72\u001b[0m \u001b[39m# Compute forward pass\u001b[39;00m\n\u001b[0;32m     73\u001b[0m outputs \u001b[39m=\u001b[39m forward_pass(model, batch, model_id, classify, head, dropout)\n",
      "File \u001b[1;32mc:\\tools\\Anaconda3\\envs\\torch2_cuda11.8\\lib\\site-packages\\torch_geometric\\data\\data.py:262\u001b[0m, in \u001b[0;36mBaseData.to\u001b[1;34m(self, device, non_blocking, *args)\u001b[0m\n\u001b[0;32m    258\u001b[0m \u001b[39mdef\u001b[39;00m \u001b[39mto\u001b[39m(\u001b[39mself\u001b[39m, device: Union[\u001b[39mint\u001b[39m, \u001b[39mstr\u001b[39m], \u001b[39m*\u001b[39margs: List[\u001b[39mstr\u001b[39m],\n\u001b[0;32m    259\u001b[0m        non_blocking: \u001b[39mbool\u001b[39m \u001b[39m=\u001b[39m \u001b[39mFalse\u001b[39;00m):\n\u001b[0;32m    260\u001b[0m \u001b[39m    \u001b[39m\u001b[39mr\u001b[39m\u001b[39m\"\"\"Performs tensor device conversion, either for all attributes or\u001b[39;00m\n\u001b[0;32m    261\u001b[0m \u001b[39m    only the ones given in :obj:`*args`.\"\"\"\u001b[39;00m\n\u001b[1;32m--> 262\u001b[0m     \u001b[39mreturn\u001b[39;00m \u001b[39mself\u001b[39;49m\u001b[39m.\u001b[39;49mapply(\n\u001b[0;32m    263\u001b[0m         \u001b[39mlambda\u001b[39;49;00m x: x\u001b[39m.\u001b[39;49mto(device\u001b[39m=\u001b[39;49mdevice, non_blocking\u001b[39m=\u001b[39;49mnon_blocking), \u001b[39m*\u001b[39;49margs)\n",
      "File \u001b[1;32mc:\\tools\\Anaconda3\\envs\\torch2_cuda11.8\\lib\\site-packages\\torch_geometric\\data\\data.py:245\u001b[0m, in \u001b[0;36mBaseData.apply\u001b[1;34m(self, func, *args)\u001b[0m\n\u001b[0;32m    242\u001b[0m \u001b[39m\u001b[39m\u001b[39mr\u001b[39m\u001b[39m\"\"\"Applies the function :obj:`func`, either to all attributes or only\u001b[39;00m\n\u001b[0;32m    243\u001b[0m \u001b[39mthe ones given in :obj:`*args`.\"\"\"\u001b[39;00m\n\u001b[0;32m    244\u001b[0m \u001b[39mfor\u001b[39;00m store \u001b[39min\u001b[39;00m \u001b[39mself\u001b[39m\u001b[39m.\u001b[39mstores:\n\u001b[1;32m--> 245\u001b[0m     store\u001b[39m.\u001b[39;49mapply(func, \u001b[39m*\u001b[39;49margs)\n\u001b[0;32m    246\u001b[0m \u001b[39mreturn\u001b[39;00m \u001b[39mself\u001b[39m\n",
      "File \u001b[1;32mc:\\tools\\Anaconda3\\envs\\torch2_cuda11.8\\lib\\site-packages\\torch_geometric\\data\\storage.py:184\u001b[0m, in \u001b[0;36mBaseStorage.apply\u001b[1;34m(self, func, *args)\u001b[0m\n\u001b[0;32m    181\u001b[0m \u001b[39m\u001b[39m\u001b[39mr\u001b[39m\u001b[39m\"\"\"Applies the function :obj:`func`, either to all attributes or only\u001b[39;00m\n\u001b[0;32m    182\u001b[0m \u001b[39mthe ones given in :obj:`*args`.\"\"\"\u001b[39;00m\n\u001b[0;32m    183\u001b[0m \u001b[39mfor\u001b[39;00m key, value \u001b[39min\u001b[39;00m \u001b[39mself\u001b[39m\u001b[39m.\u001b[39mitems(\u001b[39m*\u001b[39margs):\n\u001b[1;32m--> 184\u001b[0m     \u001b[39mself\u001b[39m[key] \u001b[39m=\u001b[39m recursive_apply(value, func)\n\u001b[0;32m    185\u001b[0m \u001b[39mreturn\u001b[39;00m \u001b[39mself\u001b[39m\n",
      "File \u001b[1;32mc:\\tools\\Anaconda3\\envs\\torch2_cuda11.8\\lib\\site-packages\\torch_geometric\\data\\storage.py:680\u001b[0m, in \u001b[0;36mrecursive_apply\u001b[1;34m(data, func)\u001b[0m\n\u001b[0;32m    676\u001b[0m         \u001b[39mexcept\u001b[39;00m:  \u001b[39m# noqa\u001b[39;00m\n\u001b[0;32m    677\u001b[0m             \u001b[39mpass\u001b[39;00m\n\u001b[1;32m--> 680\u001b[0m \u001b[39mdef\u001b[39;00m \u001b[39mrecursive_apply\u001b[39m(data: Any, func: Callable) \u001b[39m-\u001b[39m\u001b[39m>\u001b[39m Any:\n\u001b[0;32m    681\u001b[0m     \u001b[39mif\u001b[39;00m \u001b[39misinstance\u001b[39m(data, Tensor):\n\u001b[0;32m    682\u001b[0m         \u001b[39mreturn\u001b[39;00m func(data)\n",
      "\u001b[1;31mKeyboardInterrupt\u001b[0m: "
     ]
    }
   ],
   "source": [
    "# Mac\n",
    "data_path = \"/Users/xaviermootoo/Documents/Data/ssl-seizure-detection/patient_pyg/jh101/temporal_shuffling/jh101_run1_12s_90_0.22sr.pt\"\n",
    "logdir = \"/Users/xaviermootoo/Documents/Data/ssl-seizure-detection/models/jh101_run1_ts\"\n",
    "\n",
    "# PC\n",
    "data_path = r\"C:\\Users\\xmoot\\Desktop\\Data\\ssl-seizure-detection\\patient_pyg\\jh101\\temporal_shuffling\"\n",
    "logdir = r\"C:\\Users\\xmoot\\Desktop\\Data\\ssl-seizure-detection\\patient_pyg\\test\"\n",
    "\n",
    "# Training parameters\n",
    "patient_id = \"jh101\"\n",
    "epochs = 2\n",
    "model_id = \"temporal_shuffling\"\n",
    "\n",
    "config = {\n",
    "    \"num_node_features\": 9,\n",
    "    \"num_edge_features\": 3,\n",
    "    \"hidden_channels\": [64, 32, 64, 128, 256],\n",
    "}\n",
    "data_size = 50000\n",
    "\n",
    "train(data_path, logdir, patient_id, epochs, config, data_size=data_size, val_ratio=0.8, test_ratio=0.1, \n",
    "          batch_size=32, num_workers=4, lr=1e-3, weight_decay=1e-3, model_id=\"temporal_shuffling\", timing=True, \n",
    "          classify=\"binary\", head=\"linear\", dropout=True, datetime_id=None, run_type=\"all\")"
   ]
  }
 ],
 "metadata": {
  "kernelspec": {
   "display_name": "torch2_mps",
   "language": "python",
   "name": "python3"
  },
  "language_info": {
   "codemirror_mode": {
    "name": "ipython",
    "version": 3
   },
   "file_extension": ".py",
   "mimetype": "text/x-python",
   "name": "python",
   "nbconvert_exporter": "python",
   "pygments_lexer": "ipython3",
   "version": "3.10.12"
  },
  "orig_nbformat": 4
 },
 "nbformat": 4,
 "nbformat_minor": 2
}
