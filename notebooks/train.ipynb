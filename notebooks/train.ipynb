{
 "cells": [
  {
   "cell_type": "code",
   "execution_count": 2,
   "metadata": {},
   "outputs": [
    {
     "name": "stdout",
     "output_type": "stream",
     "text": [
      "Intel MKL WARNING: Support of Intel(R) Streaming SIMD Extensions 4.2 (Intel(R) SSE4.2) enabled only processors has been deprecated. Intel oneAPI Math Kernel Library 2025.0 will require Intel(R) Advanced Vector Extensions (Intel(R) AVX) instructions.\n",
      "Intel MKL WARNING: Support of Intel(R) Streaming SIMD Extensions 4.2 (Intel(R) SSE4.2) enabled only processors has been deprecated. Intel oneAPI Math Kernel Library 2025.0 will require Intel(R) Advanced Vector Extensions (Intel(R) AVX) instructions.\n"
     ]
    },
    {
     "name": "stderr",
     "output_type": "stream",
     "text": [
      "/Users/xaviermootoo/opt/anaconda3/envs/torch2_mps/lib/python3.10/site-packages/torch_geometric/graphgym/config.py:19: UserWarning: Could not define global config object. Please install 'yacs' via 'pip install yacs' in order to use GraphGym\n",
      "  warnings.warn(\"Could not define global config object. Please install \"\n"
     ]
    }
   ],
   "source": [
    "import sys\n",
    "sys.path.append('../src')\n",
    "from train import train"
   ]
  },
  {
   "cell_type": "markdown",
   "metadata": {},
   "source": [
    "#### Supervised Model"
   ]
  },
  {
   "cell_type": "code",
   "execution_count": null,
   "metadata": {},
   "outputs": [],
   "source": [
    "# Mac \n",
    "data_path = \"/Users/xaviermootoo/Documents/Data/ssl-seizure-detection/patient_pyg/jh101/supervised\"\n",
    "# data_path = \"/Users/xaviermootoo/Documents/Data/ssl-seizure-detection/patient_pyg/ummc006/supervised\"\n",
    "logdir = \"/Users/xaviermootoo/Documents/Data/ssl-seizure-detection/models/jh101\"\n",
    "\n",
    "# PC\n",
    "# data_path = r\"C:\\Users\\xmoot\\Desktop\\Data\\ssl-seizure-detection\\patient_pyg\\jh101\\supervised\"\n",
    "# logdir = r\"C:\\Users\\xmoot\\Desktop\\Data\\ssl-seizure-detection\\patient_pyg\\test\"\n",
    "\n",
    "# Training parameters\n",
    "patient_id = \"dummy\"\n",
    "epochs = 1\n",
    "model_name = \"supervised\"\n",
    "\n",
    "config = {\n",
    "    \"num_node_features\": 9,\n",
    "    \"num_edge_features\": 3,\n",
    "    \"hidden_channels\": 64,\n",
    "    \"out_channels\": 32,\n",
    "    \"dropout\": 0.1,\n",
    "}\n",
    "data_size = 1.0\n",
    "\n",
    "train(data_path, logdir, patient_id, epochs, config, data_size=data_size, val_ratio=0.2, test_ratio=0.1, \n",
    "          batch_size=32, num_workers=4, lr=1e-3, weight_decay=1e-3, model_id=\"supervised\", timing=True, \n",
    "          classify=\"binary\", head=\"linear\", dropout=True, datetime_id=None, run_type=\"all\")"
   ]
  },
  {
   "cell_type": "markdown",
   "metadata": {},
   "source": [
    "#### Relative Positioning Model"
   ]
  },
  {
   "cell_type": "code",
   "execution_count": 4,
   "metadata": {},
   "outputs": [
    {
     "data": {
      "text/html": [
       "Finishing last run (ID:38qvcahu) before initializing another..."
      ],
      "text/plain": [
       "<IPython.core.display.HTML object>"
      ]
     },
     "metadata": {},
     "output_type": "display_data"
    },
    {
     "data": {
      "text/html": [
       "Waiting for W&B process to finish... <strong style=\"color:green\">(success).</strong>"
      ],
      "text/plain": [
       "<IPython.core.display.HTML object>"
      ]
     },
     "metadata": {},
     "output_type": "display_data"
    },
    {
     "name": "stderr",
     "output_type": "stream",
     "text": [
      "wandb: WARNING Source type is set to 'repo' but some required information is missing from the environment. A job will not be created from this run. See https://docs.wandb.ai/guides/launch/create-job\n"
     ]
    },
    {
     "data": {
      "text/html": [
       " View run <strong style=\"color:#cdcd00\">dummy_relative_positioning_None_all</strong> at: <a href='https://wandb.ai/xmootoo/ssl-seizure-detection/runs/38qvcahu' target=\"_blank\">https://wandb.ai/xmootoo/ssl-seizure-detection/runs/38qvcahu</a><br/>Synced 5 W&B file(s), 0 media file(s), 0 artifact file(s) and 0 other file(s)"
      ],
      "text/plain": [
       "<IPython.core.display.HTML object>"
      ]
     },
     "metadata": {},
     "output_type": "display_data"
    },
    {
     "data": {
      "text/html": [
       "Find logs at: <code>./wandb/run-20231108_111918-38qvcahu/logs</code>"
      ],
      "text/plain": [
       "<IPython.core.display.HTML object>"
      ]
     },
     "metadata": {},
     "output_type": "display_data"
    },
    {
     "data": {
      "text/html": [
       "Successfully finished last run (ID:38qvcahu). Initializing new run:<br/>"
      ],
      "text/plain": [
       "<IPython.core.display.HTML object>"
      ]
     },
     "metadata": {},
     "output_type": "display_data"
    },
    {
     "data": {
      "application/vnd.jupyter.widget-view+json": {
       "model_id": "6de5f8eae96c4f4689aa325ec1a5eae6",
       "version_major": 2,
       "version_minor": 0
      },
      "text/plain": [
       "VBox(children=(Label(value='Waiting for wandb.init()...\\r'), FloatProgress(value=0.011168484255580955, max=1.0…"
      ]
     },
     "metadata": {},
     "output_type": "display_data"
    },
    {
     "data": {
      "text/html": [
       "wandb version 0.16.0 is available!  To upgrade, please run:\n",
       " $ pip install wandb --upgrade"
      ],
      "text/plain": [
       "<IPython.core.display.HTML object>"
      ]
     },
     "metadata": {},
     "output_type": "display_data"
    },
    {
     "data": {
      "text/html": [
       "Tracking run with wandb version 0.15.12"
      ],
      "text/plain": [
       "<IPython.core.display.HTML object>"
      ]
     },
     "metadata": {},
     "output_type": "display_data"
    },
    {
     "data": {
      "text/html": [
       "Run data is saved locally in <code>/Users/xaviermootoo/Documents/VScode/ssl-seizure-detection/notebooks/wandb/run-20231108_112151-fy8pej91</code>"
      ],
      "text/plain": [
       "<IPython.core.display.HTML object>"
      ]
     },
     "metadata": {},
     "output_type": "display_data"
    },
    {
     "data": {
      "text/html": [
       "Syncing run <strong><a href='https://wandb.ai/xmootoo/ssl-seizure-detection/runs/fy8pej91' target=\"_blank\">dummy_relative_positioning_None_all</a></strong> to <a href='https://wandb.ai/xmootoo/ssl-seizure-detection' target=\"_blank\">Weights & Biases</a> (<a href='https://wandb.me/run' target=\"_blank\">docs</a>)<br/>"
      ],
      "text/plain": [
       "<IPython.core.display.HTML object>"
      ]
     },
     "metadata": {},
     "output_type": "display_data"
    },
    {
     "data": {
      "text/html": [
       " View project at <a href='https://wandb.ai/xmootoo/ssl-seizure-detection' target=\"_blank\">https://wandb.ai/xmootoo/ssl-seizure-detection</a>"
      ],
      "text/plain": [
       "<IPython.core.display.HTML object>"
      ]
     },
     "metadata": {},
     "output_type": "display_data"
    },
    {
     "data": {
      "text/html": [
       " View run at <a href='https://wandb.ai/xmootoo/ssl-seizure-detection/runs/fy8pej91' target=\"_blank\">https://wandb.ai/xmootoo/ssl-seizure-detection/runs/fy8pej91</a>"
      ],
      "text/plain": [
       "<IPython.core.display.HTML object>"
      ]
     },
     "metadata": {},
     "output_type": "display_data"
    },
    {
     "name": "stdout",
     "output_type": "stream",
     "text": [
      "Using MPS Device Acceleration.\n",
      "None\n",
      "Total number of examples in dataset: 48.\n",
      "Total number of examples used: 48.\n",
      "Number of training examples: 35. Number of training batches: 2.\n",
      "Number of validation examples: 9. Number of validation batches: 1.\n",
      "Number of test examples: 4. Number of test batches: 1.\n",
      "Intel MKL WARNING: Support of Intel(R) Streaming SIMD Extensions 4.2 (Intel(R) SSE4.2) enabled only processors has been deprecated. Intel oneAPI Math Kernel Library 2025.0 will require Intel(R) Advanced Vector Extensions (Intel(R) AVX) instructions.Intel MKL WARNING: Support of Intel(R) Streaming SIMD Extensions 4.2 (Intel(R) SSE4.2) enabled only processors has been deprecated. Intel oneAPI Math Kernel Library 2025.0 will require Intel(R) Advanced Vector Extensions (Intel(R) AVX) instructions.Intel MKL WARNING: Support of Intel(R) Streaming SIMD Extensions 4.2 (Intel(R) SSE4.2) enabled only processors has been deprecated. Intel oneAPI Math Kernel Library 2025.0 will require Intel(R) Advanced Vector Extensions (Intel(R) AVX) instructions.Intel MKL WARNING: Support of Intel(R) Streaming SIMD Extensions 4.2 (Intel(R) SSE4.2) enabled only processors has been deprecated. Intel oneAPI Math Kernel Library 2025.0 will require Intel(R) Advanced Vector Extensions (Intel(R) AVX) instructions.\n",
      "\n",
      "\n",
      "\n",
      "Intel MKL WARNING: Support of Intel(R) Streaming SIMD Extensions 4.2 (Intel(R) SSE4.2) enabled only processors has been deprecated. Intel oneAPI Math Kernel Library 2025.0 will require Intel(R) Advanced Vector Extensions (Intel(R) AVX) instructions.\n",
      "Intel MKL WARNING: Support of Intel(R) Streaming SIMD Extensions 4.2 (Intel(R) SSE4.2) enabled only processors has been deprecated. Intel oneAPI Math Kernel Library 2025.0 will require Intel(R) Advanced Vector Extensions (Intel(R) AVX) instructions.\n",
      "Intel MKL WARNING: Support of Intel(R) Streaming SIMD Extensions 4.2 (Intel(R) SSE4.2) enabled only processors has been deprecated. Intel oneAPI Math Kernel Library 2025.0 will require Intel(R) Advanced Vector Extensions (Intel(R) AVX) instructions.\n",
      "Intel MKL WARNING: Support of Intel(R) Streaming SIMD Extensions 4.2 (Intel(R) SSE4.2) enabled only processors has been deprecated. Intel oneAPI Math Kernel Library 2025.0 will require Intel(R) Advanced Vector Extensions (Intel(R) AVX) instructions.\n",
      "Time elapsed after 100 batches (training): 10.609113693237305\n",
      "Intel MKL WARNING: Support of Intel(R) Streaming SIMD Extensions 4.2 (Intel(R) SSE4.2) enabled only processors has been deprecated. Intel oneAPI Math Kernel Library 2025.0 will require Intel(R) Advanced Vector Extensions (Intel(R) AVX) instructions.\n",
      "Intel MKL WARNING: Support of Intel(R) Streaming SIMD Extensions 4.2 (Intel(R) SSE4.2) enabled only processors has been deprecated. Intel oneAPI Math Kernel Library 2025.0 will require Intel(R) Advanced Vector Extensions (Intel(R) AVX) instructions.\n",
      "Intel MKL WARNING: Support of Intel(R) Streaming SIMD Extensions 4.2 (Intel(R) SSE4.2) enabled only processors has been deprecated. Intel oneAPI Math Kernel Library 2025.0 will require Intel(R) Advanced Vector Extensions (Intel(R) AVX) instructions.\n",
      "Intel MKL WARNING: Support of Intel(R) Streaming SIMD Extensions 4.2 (Intel(R) SSE4.2) enabled only processors has been deprecated. Intel oneAPI Math Kernel Library 2025.0 will require Intel(R) Advanced Vector Extensions (Intel(R) AVX) instructions.\n",
      "Intel MKL WARNING: Support of Intel(R) Streaming SIMD Extensions 4.2 (Intel(R) SSE4.2) enabled only processors has been deprecated. Intel oneAPI Math Kernel Library 2025.0 will require Intel(R) Advanced Vector Extensions (Intel(R) AVX) instructions.\n",
      "Intel MKL WARNING: Support of Intel(R) Streaming SIMD Extensions 4.2 (Intel(R) SSE4.2) enabled only processors has been deprecated. Intel oneAPI Math Kernel Library 2025.0 will require Intel(R) Advanced Vector Extensions (Intel(R) AVX) instructions.\n",
      "Intel MKL WARNING: Support of Intel(R) Streaming SIMD Extensions 4.2 (Intel(R) SSE4.2) enabled only processors has been deprecated. Intel oneAPI Math Kernel Library 2025.0 will require Intel(R) Advanced Vector Extensions (Intel(R) AVX) instructions.\n",
      "Intel MKL WARNING: Support of Intel(R) Streaming SIMD Extensions 4.2 (Intel(R) SSE4.2) enabled only processors has been deprecated. Intel oneAPI Math Kernel Library 2025.0 will require Intel(R) Advanced Vector Extensions (Intel(R) AVX) instructions.\n",
      "Time elapsed after 100 batches (evaluation): 3.3722307682037354\n",
      "Epoch: 1, Train Loss: 0.701060950756073, Train Accuracy: 28.571428571428573, Validation Loss: 0.676397979259491, Validation Accuracy: 66.66666666666667\n",
      "Intel MKL WARNING: Support of Intel(R) Streaming SIMD Extensions 4.2 (Intel(R) SSE4.2) enabled only processors has been deprecated. Intel oneAPI Math Kernel Library 2025.0 will require Intel(R) Advanced Vector Extensions (Intel(R) AVX) instructions.\n",
      "Intel MKL WARNING: Support of Intel(R) Streaming SIMD Extensions 4.2 (Intel(R) SSE4.2) enabled only processors has been deprecated. Intel oneAPI Math Kernel Library 2025.0 will require Intel(R) Advanced Vector Extensions (Intel(R) AVX) instructions.\n",
      "Intel MKL WARNING: Support of Intel(R) Streaming SIMD Extensions 4.2 (Intel(R) SSE4.2) enabled only processors has been deprecated. Intel oneAPI Math Kernel Library 2025.0 will require Intel(R) Advanced Vector Extensions (Intel(R) AVX) instructions.\n",
      "Intel MKL WARNING: Support of Intel(R) Streaming SIMD Extensions 4.2 (Intel(R) SSE4.2) enabled only processors has been deprecated. Intel oneAPI Math Kernel Library 2025.0 will require Intel(R) Advanced Vector Extensions (Intel(R) AVX) instructions.\n",
      "Intel MKL WARNING: Support of Intel(R) Streaming SIMD Extensions 4.2 (Intel(R) SSE4.2) enabled only processors has been deprecated. Intel oneAPI Math Kernel Library 2025.0 will require Intel(R) Advanced Vector Extensions (Intel(R) AVX) instructions.\n",
      "Intel MKL WARNING: Support of Intel(R) Streaming SIMD Extensions 4.2 (Intel(R) SSE4.2) enabled only processors has been deprecated. Intel oneAPI Math Kernel Library 2025.0 will require Intel(R) Advanced Vector Extensions (Intel(R) AVX) instructions.\n",
      "Intel MKL WARNING: Support of Intel(R) Streaming SIMD Extensions 4.2 (Intel(R) SSE4.2) enabled only processors has been deprecated. Intel oneAPI Math Kernel Library 2025.0 will require Intel(R) Advanced Vector Extensions (Intel(R) AVX) instructions.\n",
      "Intel MKL WARNING: Support of Intel(R) Streaming SIMD Extensions 4.2 (Intel(R) SSE4.2) enabled only processors has been deprecated. Intel oneAPI Math Kernel Library 2025.0 will require Intel(R) Advanced Vector Extensions (Intel(R) AVX) instructions.\n",
      "Time elapsed after 100 batches (evaluation): 3.2797398567199707\n",
      "Epoch: 1. Test Loss: 0.6882766485214233. Test Accuracy: 50.0.\n",
      "Training complete.\n"
     ]
    },
    {
     "data": {
      "text/html": [
       "Waiting for W&B process to finish... <strong style=\"color:green\">(success).</strong>"
      ],
      "text/plain": [
       "<IPython.core.display.HTML object>"
      ]
     },
     "metadata": {},
     "output_type": "display_data"
    },
    {
     "name": "stderr",
     "output_type": "stream",
     "text": [
      "wandb: WARNING Source type is set to 'repo' but some required information is missing from the environment. A job will not be created from this run. See https://docs.wandb.ai/guides/launch/create-job\n"
     ]
    },
    {
     "data": {
      "application/vnd.jupyter.widget-view+json": {
       "model_id": "16b5971eb3da4b9e8a642b61c24f204b",
       "version_major": 2,
       "version_minor": 0
      },
      "text/plain": [
       "VBox(children=(Label(value='0.001 MB of 0.020 MB uploaded (0.000 MB deduped)\\r'), FloatProgress(value=0.054930…"
      ]
     },
     "metadata": {},
     "output_type": "display_data"
    },
    {
     "data": {
      "text/html": [
       "<style>\n",
       "    table.wandb td:nth-child(1) { padding: 0 10px; text-align: left ; width: auto;} td:nth-child(2) {text-align: left ; width: 100%}\n",
       "    .wandb-row { display: flex; flex-direction: row; flex-wrap: wrap; justify-content: flex-start; width: 100% }\n",
       "    .wandb-col { display: flex; flex-direction: column; flex-basis: 100%; flex: 1; padding: 10px; }\n",
       "    </style>\n",
       "<div class=\"wandb-row\"><div class=\"wandb-col\"><h3>Run history:</h3><br/><table class=\"wandb\"><tr><td>Epoch</td><td>▁</td></tr><tr><td>Test Accuracy</td><td>▁</td></tr><tr><td>Test Loss</td><td>▁</td></tr><tr><td>Training Accuracy</td><td>▁</td></tr><tr><td>Training Loss</td><td>▁</td></tr><tr><td>Validation Accuracy</td><td>▁</td></tr><tr><td>Validation Loss</td><td>▁</td></tr></table><br/></div><div class=\"wandb-col\"><h3>Run summary:</h3><br/><table class=\"wandb\"><tr><td>Epoch</td><td>1</td></tr><tr><td>Test Accuracy</td><td>50.0</td></tr><tr><td>Test Loss</td><td>0.68828</td></tr><tr><td>Training Accuracy</td><td>28.57143</td></tr><tr><td>Training Loss</td><td>0.70106</td></tr><tr><td>Validation Accuracy</td><td>66.66667</td></tr><tr><td>Validation Loss</td><td>0.6764</td></tr></table><br/></div></div>"
      ],
      "text/plain": [
       "<IPython.core.display.HTML object>"
      ]
     },
     "metadata": {},
     "output_type": "display_data"
    },
    {
     "data": {
      "text/html": [
       " View run <strong style=\"color:#cdcd00\">dummy_relative_positioning_None_all</strong> at: <a href='https://wandb.ai/xmootoo/ssl-seizure-detection/runs/fy8pej91' target=\"_blank\">https://wandb.ai/xmootoo/ssl-seizure-detection/runs/fy8pej91</a><br/>Synced 6 W&B file(s), 0 media file(s), 0 artifact file(s) and 0 other file(s)"
      ],
      "text/plain": [
       "<IPython.core.display.HTML object>"
      ]
     },
     "metadata": {},
     "output_type": "display_data"
    },
    {
     "data": {
      "text/html": [
       "Find logs at: <code>./wandb/run-20231108_112151-fy8pej91/logs</code>"
      ],
      "text/plain": [
       "<IPython.core.display.HTML object>"
      ]
     },
     "metadata": {},
     "output_type": "display_data"
    }
   ],
   "source": [
    "# Mac\n",
    "data_path = \"/Users/xaviermootoo/Documents/Data/ssl-seizure-detection/patient_pyg/jh101/relative_positioning/12s_90s\"\n",
    "logdir = \"/Users/xaviermootoo/Documents/Data/ssl-seizure-detection/models/jh101\"\n",
    "\n",
    "# PC\n",
    "# data_path = r\"C:\\Users\\xmoot\\Desktop\\Data\\ssl-seizure-detection\\patient_pyg\\jh101\\relative_positioning\"\n",
    "# logdir = r\"C:\\Users\\xmoot\\Desktop\\Data\\ssl-seizure-detection\\patient_pyg\\test\"\n",
    "\n",
    "# Training parameters\n",
    "patient_id = \"dummy\"\n",
    "epochs = 1\n",
    "model_id = \"relative_positioning\"\n",
    "\n",
    "config = {\n",
    "    \"num_node_features\": 9,\n",
    "    \"num_edge_features\": 3,\n",
    "    \"hidden_channels\": [64, 32, 64, 128, 256],\n",
    "    }\n",
    "data_size=50\n",
    "\n",
    "train(data_path, logdir, patient_id, epochs, config, data_size=data_size, val_ratio=0.2, test_ratio=0.1, \n",
    "          batch_size=32, num_workers=4, lr=1e-3, weight_decay=1e-3, model_id=\"relative_positioning\", timing=True, \n",
    "          classify=\"binary\", head=\"linear\", dropout=True, datetime_id=None, run_type=\"all\")"
   ]
  },
  {
   "cell_type": "markdown",
   "metadata": {},
   "source": [
    "#### Temporal Shuffling Model"
   ]
  },
  {
   "cell_type": "code",
   "execution_count": null,
   "metadata": {},
   "outputs": [],
   "source": [
    "# Mac\n",
    "data_path = \"/Users/xaviermootoo/Documents/Data/ssl-seizure-detection/patient_pyg/jh101/temporal_shuffling/12s_90s\"\n",
    "logdir = \"/Users/xaviermootoo/Documents/Data/ssl-seizure-detection/models/jh101\"\n",
    "\n",
    "# PC\n",
    "# data_path = r\"C:\\Users\\xmoot\\Desktop\\Data\\ssl-seizure-detection\\patient_pyg\\jh101\\temporal_shuffling\"\n",
    "# logdir = r\"C:\\Users\\xmoot\\Desktop\\Data\\ssl-seizure-detection\\patient_pyg\\test\"\n",
    "\n",
    "# Training parameters\n",
    "patient_id = \"dummy\"\n",
    "epochs = 1\n",
    "model_id = \"temporal_shuffling\"\n",
    "\n",
    "config = {\n",
    "    \"num_node_features\": 9,\n",
    "    \"num_edge_features\": 3,\n",
    "    \"hidden_channels\": [64, 32, 64, 128, 256],\n",
    "}\n",
    "data_size = 1000\n",
    "\n",
    "train(data_path, logdir, patient_id, epochs, config, data_size=data_size, val_ratio=0.8, test_ratio=0.1, \n",
    "          batch_size=32, num_workers=4, lr=1e-3, weight_decay=1e-3, model_id=\"temporal_shuffling\", timing=True, \n",
    "          classify=\"binary\", head=\"linear\", dropout=True, datetime_id=None, run_type=\"all\")"
   ]
  },
  {
   "cell_type": "markdown",
   "metadata": {},
   "source": [
    "#### Transfer Learning"
   ]
  },
  {
   "cell_type": "code",
   "execution_count": 2,
   "metadata": {},
   "outputs": [
    {
     "name": "stderr",
     "output_type": "stream",
     "text": [
      "c:\\tools\\Anaconda3\\envs\\torch2_cuda11.8\\lib\\site-packages\\torch_geometric\\graphgym\\config.py:19: UserWarning: Could not define global config object. Please install 'yacs' via 'pip install yacs' in order to use GraphGym\n",
      "  warnings.warn(\"Could not define global config object. Please install \"\n",
      "c:\\tools\\Anaconda3\\envs\\torch2_cuda11.8\\lib\\site-packages\\torchaudio\\backend\\utils.py:74: UserWarning: No audio backend is available.\n",
      "  warnings.warn(\"No audio backend is available.\")\n",
      "Failed to detect the name of this notebook, you can set it manually with the WANDB_NOTEBOOK_NAME environment variable to enable code saving.\n",
      "\u001b[34m\u001b[1mwandb\u001b[0m: Currently logged in as: \u001b[33mxmootoo\u001b[0m. Use \u001b[1m`wandb login --relogin`\u001b[0m to force relogin\n"
     ]
    },
    {
     "data": {
      "text/html": [
       "Tracking run with wandb version 0.15.12"
      ],
      "text/plain": [
       "<IPython.core.display.HTML object>"
      ]
     },
     "metadata": {},
     "output_type": "display_data"
    },
    {
     "data": {
      "text/html": [
       "Run data is saved locally in <code>c:\\Users\\xmoot\\Desktop\\VSCode\\ssl-seizure-detection\\notebooks\\wandb\\run-20231028_153012-72kef9hg</code>"
      ],
      "text/plain": [
       "<IPython.core.display.HTML object>"
      ]
     },
     "metadata": {},
     "output_type": "display_data"
    },
    {
     "data": {
      "text/html": [
       "Syncing run <strong><a href='https://wandb.ai/xmootoo/ssl-seizure-detection/runs/72kef9hg' target=\"_blank\">dummy_downstream1_None_combined</a></strong> to <a href='https://wandb.ai/xmootoo/ssl-seizure-detection' target=\"_blank\">Weights & Biases</a> (<a href='https://wandb.me/run' target=\"_blank\">docs</a>)<br/>"
      ],
      "text/plain": [
       "<IPython.core.display.HTML object>"
      ]
     },
     "metadata": {},
     "output_type": "display_data"
    },
    {
     "data": {
      "text/html": [
       " View project at <a href='https://wandb.ai/xmootoo/ssl-seizure-detection' target=\"_blank\">https://wandb.ai/xmootoo/ssl-seizure-detection</a>"
      ],
      "text/plain": [
       "<IPython.core.display.HTML object>"
      ]
     },
     "metadata": {},
     "output_type": "display_data"
    },
    {
     "data": {
      "text/html": [
       " View run at <a href='https://wandb.ai/xmootoo/ssl-seizure-detection/runs/72kef9hg' target=\"_blank\">https://wandb.ai/xmootoo/ssl-seizure-detection/runs/72kef9hg</a>"
      ],
      "text/plain": [
       "<IPython.core.display.HTML object>"
      ]
     },
     "metadata": {},
     "output_type": "display_data"
    },
    {
     "name": "stdout",
     "output_type": "stream",
     "text": [
      "Using device: cuda\n",
      "Total number of examples in dataset: 114.\n",
      "Total number of examples used: 114.\n",
      "Number of training examples: 91. Number of training batches: 3.\n",
      "Number of validation examples: 23. Number of validation batches: 1.\n",
      "Number of test examples: 12. Number of test batches: 1.\n",
      "Time elapsed after 100 batches (training): 5.245997190475464\n",
      "Time elapsed after 100 batches (evaluation): 3.0409908294677734\n",
      "Epoch: 1, Train Loss: 1.7619579434394836, Train Accuracy: 70.32967032967034, Validation Loss: 0.8314409255981445, Validation Accuracy: 73.91304347826087\n",
      "Time elapsed after 100 batches (training): 3.364001512527466\n",
      "Time elapsed after 100 batches (evaluation): 2.979996919631958\n",
      "Epoch: 2, Train Loss: 0.8047553499539694, Train Accuracy: 76.92307692307692, Validation Loss: 0.6233078837394714, Validation Accuracy: 73.91304347826087\n",
      "Time elapsed after 100 batches (evaluation): 2.9710004329681396\n",
      "Epoch: 2. Test Loss: 0.7712494134902954. Test Accuracy: 66.66666666666667.\n",
      "Training complete.\n"
     ]
    },
    {
     "data": {
      "text/html": [
       "Waiting for W&B process to finish... <strong style=\"color:green\">(success).</strong>"
      ],
      "text/plain": [
       "<IPython.core.display.HTML object>"
      ]
     },
     "metadata": {},
     "output_type": "display_data"
    },
    {
     "data": {
      "text/html": [
       "<style>\n",
       "    table.wandb td:nth-child(1) { padding: 0 10px; text-align: left ; width: auto;} td:nth-child(2) {text-align: left ; width: 100%}\n",
       "    .wandb-row { display: flex; flex-direction: row; flex-wrap: wrap; justify-content: flex-start; width: 100% }\n",
       "    .wandb-col { display: flex; flex-direction: column; flex-basis: 100%; flex: 1; padding: 10px; }\n",
       "    </style>\n",
       "<div class=\"wandb-row\"><div class=\"wandb-col\"><h3>Run history:</h3><br/><table class=\"wandb\"><tr><td>Epoch</td><td>▁█</td></tr><tr><td>Test Accuracy</td><td>▁</td></tr><tr><td>Test Loss</td><td>▁</td></tr><tr><td>Training Accuracy</td><td>▁█</td></tr><tr><td>Training Loss</td><td>█▁</td></tr><tr><td>Validation Accuracy</td><td>▁▁</td></tr><tr><td>Validation Loss</td><td>█▁</td></tr></table><br/></div><div class=\"wandb-col\"><h3>Run summary:</h3><br/><table class=\"wandb\"><tr><td>Epoch</td><td>2</td></tr><tr><td>Test Accuracy</td><td>66.66667</td></tr><tr><td>Test Loss</td><td>0.77125</td></tr><tr><td>Training Accuracy</td><td>76.92308</td></tr><tr><td>Training Loss</td><td>0.80476</td></tr><tr><td>Validation Accuracy</td><td>73.91304</td></tr><tr><td>Validation Loss</td><td>0.62331</td></tr></table><br/></div></div>"
      ],
      "text/plain": [
       "<IPython.core.display.HTML object>"
      ]
     },
     "metadata": {},
     "output_type": "display_data"
    },
    {
     "data": {
      "text/html": [
       " View run <strong style=\"color:#cdcd00\">dummy_downstream1_None_combined</strong> at: <a href='https://wandb.ai/xmootoo/ssl-seizure-detection/runs/72kef9hg' target=\"_blank\">https://wandb.ai/xmootoo/ssl-seizure-detection/runs/72kef9hg</a><br/>Synced 6 W&B file(s), 0 media file(s), 0 artifact file(s) and 0 other file(s)"
      ],
      "text/plain": [
       "<IPython.core.display.HTML object>"
      ]
     },
     "metadata": {},
     "output_type": "display_data"
    },
    {
     "data": {
      "text/html": [
       "Find logs at: <code>.\\wandb\\run-20231028_153012-72kef9hg\\logs</code>"
      ],
      "text/plain": [
       "<IPython.core.display.HTML object>"
      ]
     },
     "metadata": {},
     "output_type": "display_data"
    }
   ],
   "source": [
    "import sys\n",
    "sys.path.append('../src')\n",
    "from train import train\n",
    "\n",
    "#Mac\n",
    "# data_path = \"C:\\Users\\xmoot\\Desktop\\Data\\ssl-seizure-detection\\patient_pyg\\jh101\\supervised\"\n",
    "# logdir = \"/Users/xaviermootoo/Documents/Data/ssl-seizure-detection/models/downstream\"\n",
    "# model_path = \"/Users/xaviermootoo/Documents/Data/ssl-seizure-detection/models/jh101/model/relative_positioning.pth\"\n",
    "# model_dict_path = \"/Users/xaviermootoo/Documents/Data/ssl-seizure-detection/models/jh101/model/relative_positioning_state_dict.pth\"\n",
    "\n",
    "# PC\n",
    "data_path = r\"C:\\Users\\xmoot\\Desktop\\Data\\ssl-seizure-detection\\patient_pyg\\jh101\\supervised\"\n",
    "logdir = r\"C:\\Users\\xmoot\\Desktop\\Models\\ssl-seizure-detection\\jh101\"\n",
    "model_path = r\"C:\\Users\\xmoot\\Desktop\\Models\\ssl-seizure-detection\\jh101\\model\\relative_positioning.pth\"\n",
    "model_dict_path = r\"C:\\Users\\xmoot\\Desktop\\Models\\ssl-seizure-detection\\jh101\\model\\relative_positioning_state_dict.pth\"\n",
    "\n",
    "\n",
    "# Training parameters\n",
    "model_id = \"downstream1\"\n",
    "\n",
    "config = {\n",
    "        \"hidden_channels\": [64, 64, 32],\n",
    "        \"dropout\": 0.1,\n",
    "}\n",
    "\n",
    "train(data_path, logdir, patient_id=\"dummy\", epochs=2, config=config, data_size=0.05, val_ratio=0.2, test_ratio=0.1, \n",
    "          batch_size=32, num_workers=4, lr=1e-3, weight_decay=1e-3, model_id=model_id, timing=True, \n",
    "          classify=\"binary\", head=\"linear\", dropout=True, datetime_id=None, run_type=\"all\", \n",
    "          frozen=False, model_path=model_path, model_dict_path=model_dict_path, transfer_id=\"relative_positioning\")"
   ]
  },
  {
   "cell_type": "markdown",
   "metadata": {},
   "source": [
    "Temporal shuffling:"
   ]
  },
  {
   "cell_type": "code",
   "execution_count": 3,
   "metadata": {},
   "outputs": [
    {
     "data": {
      "text/html": [
       "Tracking run with wandb version 0.15.12"
      ],
      "text/plain": [
       "<IPython.core.display.HTML object>"
      ]
     },
     "metadata": {},
     "output_type": "display_data"
    },
    {
     "data": {
      "text/html": [
       "Run data is saved locally in <code>c:\\Users\\xmoot\\Desktop\\VSCode\\ssl-seizure-detection\\notebooks\\wandb\\run-20231030_215204-o0n7nihj</code>"
      ],
      "text/plain": [
       "<IPython.core.display.HTML object>"
      ]
     },
     "metadata": {},
     "output_type": "display_data"
    },
    {
     "data": {
      "text/html": [
       "Syncing run <strong><a href='https://wandb.ai/xmootoo/ssl-seizure-detection/runs/o0n7nihj' target=\"_blank\">dummy_downstream1_None_all</a></strong> to <a href='https://wandb.ai/xmootoo/ssl-seizure-detection' target=\"_blank\">Weights & Biases</a> (<a href='https://wandb.me/run' target=\"_blank\">docs</a>)<br/>"
      ],
      "text/plain": [
       "<IPython.core.display.HTML object>"
      ]
     },
     "metadata": {},
     "output_type": "display_data"
    },
    {
     "data": {
      "text/html": [
       " View project at <a href='https://wandb.ai/xmootoo/ssl-seizure-detection' target=\"_blank\">https://wandb.ai/xmootoo/ssl-seizure-detection</a>"
      ],
      "text/plain": [
       "<IPython.core.display.HTML object>"
      ]
     },
     "metadata": {},
     "output_type": "display_data"
    },
    {
     "data": {
      "text/html": [
       " View run at <a href='https://wandb.ai/xmootoo/ssl-seizure-detection/runs/o0n7nihj' target=\"_blank\">https://wandb.ai/xmootoo/ssl-seizure-detection/runs/o0n7nihj</a>"
      ],
      "text/plain": [
       "<IPython.core.display.HTML object>"
      ]
     },
     "metadata": {},
     "output_type": "display_data"
    },
    {
     "name": "stdout",
     "output_type": "stream",
     "text": [
      "Using device: cuda\n",
      "Total number of examples in dataset: 114.\n",
      "Total number of examples used: 114.\n",
      "Number of training examples: 91. Number of training batches: 3.\n",
      "Number of validation examples: 23. Number of validation batches: 1.\n",
      "Number of test examples: 12. Number of test batches: 1.\n",
      "Time elapsed after 100 batches (training): 5.320472002029419\n",
      "Time elapsed after 100 batches (evaluation): 2.9870007038116455\n",
      "Epoch: 1, Train Loss: 2.090369780858358, Train Accuracy: 64.83516483516483, Validation Loss: 0.5646125674247742, Validation Accuracy: 86.95652173913044\n",
      "Time elapsed after 100 batches (training): 4.167500734329224\n",
      "Time elapsed after 100 batches (evaluation): 2.947999954223633\n",
      "Epoch: 2, Train Loss: 1.0236262083053589, Train Accuracy: 78.02197802197803, Validation Loss: 1.0802534818649292, Validation Accuracy: 86.95652173913044\n",
      "Time elapsed after 100 batches (evaluation): 3.0094995498657227\n",
      "Epoch: 2. Test Loss: 1.986357569694519. Test Accuracy: 75.0.\n",
      "Training complete.\n"
     ]
    },
    {
     "data": {
      "text/html": [
       "Waiting for W&B process to finish... <strong style=\"color:green\">(success).</strong>"
      ],
      "text/plain": [
       "<IPython.core.display.HTML object>"
      ]
     },
     "metadata": {},
     "output_type": "display_data"
    },
    {
     "data": {
      "text/html": [
       "<style>\n",
       "    table.wandb td:nth-child(1) { padding: 0 10px; text-align: left ; width: auto;} td:nth-child(2) {text-align: left ; width: 100%}\n",
       "    .wandb-row { display: flex; flex-direction: row; flex-wrap: wrap; justify-content: flex-start; width: 100% }\n",
       "    .wandb-col { display: flex; flex-direction: column; flex-basis: 100%; flex: 1; padding: 10px; }\n",
       "    </style>\n",
       "<div class=\"wandb-row\"><div class=\"wandb-col\"><h3>Run history:</h3><br/><table class=\"wandb\"><tr><td>Epoch</td><td>▁█</td></tr><tr><td>Test Accuracy</td><td>▁</td></tr><tr><td>Test Loss</td><td>▁</td></tr><tr><td>Training Accuracy</td><td>▁█</td></tr><tr><td>Training Loss</td><td>█▁</td></tr><tr><td>Validation Accuracy</td><td>▁▁</td></tr><tr><td>Validation Loss</td><td>▁█</td></tr></table><br/></div><div class=\"wandb-col\"><h3>Run summary:</h3><br/><table class=\"wandb\"><tr><td>Epoch</td><td>2</td></tr><tr><td>Test Accuracy</td><td>75.0</td></tr><tr><td>Test Loss</td><td>1.98636</td></tr><tr><td>Training Accuracy</td><td>78.02198</td></tr><tr><td>Training Loss</td><td>1.02363</td></tr><tr><td>Validation Accuracy</td><td>86.95652</td></tr><tr><td>Validation Loss</td><td>1.08025</td></tr></table><br/></div></div>"
      ],
      "text/plain": [
       "<IPython.core.display.HTML object>"
      ]
     },
     "metadata": {},
     "output_type": "display_data"
    },
    {
     "data": {
      "text/html": [
       " View run <strong style=\"color:#cdcd00\">dummy_downstream1_None_all</strong> at: <a href='https://wandb.ai/xmootoo/ssl-seizure-detection/runs/o0n7nihj' target=\"_blank\">https://wandb.ai/xmootoo/ssl-seizure-detection/runs/o0n7nihj</a><br/>Synced 6 W&B file(s), 0 media file(s), 0 artifact file(s) and 0 other file(s)"
      ],
      "text/plain": [
       "<IPython.core.display.HTML object>"
      ]
     },
     "metadata": {},
     "output_type": "display_data"
    },
    {
     "data": {
      "text/html": [
       "Find logs at: <code>.\\wandb\\run-20231030_215204-o0n7nihj\\logs</code>"
      ],
      "text/plain": [
       "<IPython.core.display.HTML object>"
      ]
     },
     "metadata": {},
     "output_type": "display_data"
    }
   ],
   "source": [
    "import sys\n",
    "sys.path.append('../src')\n",
    "from train import train\n",
    "\n",
    "\n",
    "# Mac\n",
    "data_path = \"/Users/xaviermootoo/Documents/Data/ssl-seizure-detection/patient_pyg/jh101/supervised\"\n",
    "logdir = \"/Users/xaviermootoo/Documents/Data/ssl-seizure-detection/models/downstream\"\n",
    "model_path = \"/Users/xaviermootoo/Documents/Data/ssl-seizure-detection/models/jh101/model/temporal_shuffling.pth\"\n",
    "model_dict_path = \"/Users/xaviermootoo/Documents/Data/ssl-seizure-detection/models/jh101/model/temporal_shuffling_state_dict.pth\"\n",
    "\n",
    "# PC\n",
    "data_path = r\"C:\\Users\\xmoot\\Desktop\\Data\\ssl-seizure-detection\\patient_pyg\\jh101\\supervised\"\n",
    "logdir = r\"C:\\Users\\xmoot\\Desktop\\Models\\ssl-seizure-detection\\jh101\"\n",
    "model_path = r\"C:\\Users\\xmoot\\Desktop\\Models\\ssl-seizure-detection\\jh101\\model\\temporal_shuffling.pth\"\n",
    "model_dict_path = r\"C:\\Users\\xmoot\\Desktop\\Models\\ssl-seizure-detection\\jh101\\model\\temporal_shuffling_state_dict.pth\"\n",
    "\n",
    "\n",
    "# Patient identifier\n",
    "patient_id = \"dummy\"\n",
    "\n",
    "# Model identifier\n",
    "model_id1 = \"downstream1\"\n",
    "model_id2 = \"downstream2\"\n",
    "\n",
    "# Date and time identifier\n",
    "datetime_id = None\n",
    "\n",
    "# Run identifier\n",
    "run_type = \"all\"\n",
    "\n",
    "transfer_id = \"temporal_shuffling\"\n",
    "\n",
    "config1 = {\n",
    "        \"hidden_channels\": [64, 64, 32],\n",
    "        \"dropout\": 0.1,\n",
    "}\n",
    "\n",
    "config2 = {\n",
    "        \"hidden_channels\": 32,\n",
    "        \"dropout\": 0.1,\n",
    "}\n",
    "\n",
    "train(data_path, logdir, patient_id, epochs=2, config=config1, data_size=0.05, val_ratio=0.2, test_ratio=0.1, \n",
    "          batch_size=32, num_workers=4, lr=1e-3, weight_decay=1e-3, model_id=model_id1, timing=True, \n",
    "          classify=\"binary\", head=\"linear\", dropout=True, datetime_id=datetime_id, run_type=run_type, \n",
    "          frozen=False, model_path=model_path, model_dict_path=model_dict_path, transfer_id=transfer_id)"
   ]
  }
 ],
 "metadata": {
  "kernelspec": {
   "display_name": "torch2_mps",
   "language": "python",
   "name": "python3"
  },
  "language_info": {
   "codemirror_mode": {
    "name": "ipython",
    "version": 3
   },
   "file_extension": ".py",
   "mimetype": "text/x-python",
   "name": "python",
   "nbconvert_exporter": "python",
   "pygments_lexer": "ipython3",
   "version": "3.10.12"
  },
  "orig_nbformat": 4
 },
 "nbformat": 4,
 "nbformat_minor": 2
}
