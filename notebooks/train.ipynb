{
 "cells": [
  {
   "cell_type": "markdown",
   "metadata": {},
   "source": [
    "#### Supervised Model"
   ]
  },
  {
   "cell_type": "code",
   "execution_count": 1,
   "metadata": {},
   "outputs": [
    {
     "name": "stderr",
     "output_type": "stream",
     "text": [
      "c:\\tools\\Anaconda3\\envs\\torch2_cuda11.8\\lib\\site-packages\\torchaudio\\backend\\utils.py:74: UserWarning: No audio backend is available.\n",
      "  warnings.warn(\"No audio backend is available.\")\n",
      "Failed to detect the name of this notebook, you can set it manually with the WANDB_NOTEBOOK_NAME environment variable to enable code saving.\n",
      "\u001b[34m\u001b[1mwandb\u001b[0m: Currently logged in as: \u001b[33mxmootoo\u001b[0m. Use \u001b[1m`wandb login --relogin`\u001b[0m to force relogin\n"
     ]
    },
    {
     "data": {
      "text/html": [
       "wandb version 0.16.1 is available!  To upgrade, please run:\n",
       " $ pip install wandb --upgrade"
      ],
      "text/plain": [
       "<IPython.core.display.HTML object>"
      ]
     },
     "metadata": {},
     "output_type": "display_data"
    },
    {
     "data": {
      "text/html": [
       "Tracking run with wandb version 0.15.12"
      ],
      "text/plain": [
       "<IPython.core.display.HTML object>"
      ]
     },
     "metadata": {},
     "output_type": "display_data"
    },
    {
     "data": {
      "text/html": [
       "Run data is saved locally in <code>c:\\Users\\xmoot\\Desktop\\VSCode\\ssl-seizure-detection\\notebooks\\wandb\\run-20231217_224501-5emc6wtv</code>"
      ],
      "text/plain": [
       "<IPython.core.display.HTML object>"
      ]
     },
     "metadata": {},
     "output_type": "display_data"
    },
    {
     "data": {
      "text/html": [
       "Syncing run <strong><a href='https://wandb.ai/xmootoo/Test_Bay/runs/5emc6wtv' target=\"_blank\">dummy_supervised_None_all</a></strong> to <a href='https://wandb.ai/xmootoo/Test_Bay' target=\"_blank\">Weights & Biases</a> (<a href='https://wandb.me/run' target=\"_blank\">docs</a>)<br/>"
      ],
      "text/plain": [
       "<IPython.core.display.HTML object>"
      ]
     },
     "metadata": {},
     "output_type": "display_data"
    },
    {
     "data": {
      "text/html": [
       " View project at <a href='https://wandb.ai/xmootoo/Test_Bay' target=\"_blank\">https://wandb.ai/xmootoo/Test_Bay</a>"
      ],
      "text/plain": [
       "<IPython.core.display.HTML object>"
      ]
     },
     "metadata": {},
     "output_type": "display_data"
    },
    {
     "data": {
      "text/html": [
       " View run at <a href='https://wandb.ai/xmootoo/Test_Bay/runs/5emc6wtv' target=\"_blank\">https://wandb.ai/xmootoo/Test_Bay/runs/5emc6wtv</a>"
      ],
      "text/plain": [
       "<IPython.core.display.HTML object>"
      ]
     },
     "metadata": {},
     "output_type": "display_data"
    },
    {
     "name": "stdout",
     "output_type": "stream",
     "text": [
      "Using device: cuda\n",
      "Total number of examples in dataset: 1152.\n",
      "Total number of examples used: 1152.\n",
      "Number of training examples: 807. Number of training batches: 26.\n",
      "Number of validation examples: 230. Number of validation batches: 8.\n",
      "Number of test examples: 115. Number of test batches: 4.\n",
      "Time elapsed after 100 batches (training): 12.18s\n",
      "Time elapsed after 100 batches (evaluation): 10.00s\n",
      "Epoch: 1, Train Loss: 0.44335023084512126, Train Accuracy: 82.40396530359355, Validation Loss: 0.46540678292512894, Validation Accuracy: 85.21739130434783\n",
      "Epoch 1/40 - Current Learning Rate: 0.001001541333133436\n",
      "Time elapsed after 100 batches (training): 10.01s\n",
      "Time elapsed after 100 batches (evaluation): 9.72s\n",
      "Epoch: 2, Train Loss: 0.29103979009848374, Train Accuracy: 87.73234200743494, Validation Loss: 0.31207449408248067, Validation Accuracy: 86.52173913043478\n",
      "Epoch 2/40 - Current Learning Rate: 0.0010061558297024312\n"
     ]
    },
    {
     "ename": "KeyboardInterrupt",
     "evalue": "",
     "output_type": "error",
     "traceback": [
      "\u001b[1;31m---------------------------------------------------------------------------\u001b[0m",
      "\u001b[1;31mKeyboardInterrupt\u001b[0m                         Traceback (most recent call last)",
      "Cell \u001b[1;32mIn[1], line 20\u001b[0m\n\u001b[0;32m      9\u001b[0m \u001b[38;5;66;03m# Model parameters\u001b[39;00m\n\u001b[0;32m     10\u001b[0m config \u001b[38;5;241m=\u001b[39m {\n\u001b[0;32m     11\u001b[0m     \u001b[38;5;124m\"\u001b[39m\u001b[38;5;124mnum_node_features\u001b[39m\u001b[38;5;124m\"\u001b[39m: \u001b[38;5;241m9\u001b[39m,\n\u001b[0;32m     12\u001b[0m     \u001b[38;5;124m\"\u001b[39m\u001b[38;5;124mnum_edge_features\u001b[39m\u001b[38;5;124m\"\u001b[39m: \u001b[38;5;241m3\u001b[39m,\n\u001b[1;32m   (...)\u001b[0m\n\u001b[0;32m     16\u001b[0m     \u001b[38;5;124m\"\u001b[39m\u001b[38;5;124mhead\u001b[39m\u001b[38;5;124m\"\u001b[39m: \u001b[38;5;124m\"\u001b[39m\u001b[38;5;124mlinear\u001b[39m\u001b[38;5;124m\"\u001b[39m,\n\u001b[0;32m     17\u001b[0m }\n\u001b[1;32m---> 20\u001b[0m \u001b[43mtrain\u001b[49m\u001b[43m(\u001b[49m\u001b[43mdata_path\u001b[49m\u001b[38;5;241;43m=\u001b[39;49m\u001b[43mdata_path\u001b[49m\u001b[43m,\u001b[49m\u001b[43m \u001b[49m\u001b[43mlogdir\u001b[49m\u001b[38;5;241;43m=\u001b[39;49m\u001b[43mlogdir\u001b[49m\u001b[43m,\u001b[49m\u001b[43m \u001b[49m\u001b[43mpatient_id\u001b[49m\u001b[38;5;241;43m=\u001b[39;49m\u001b[38;5;124;43m\"\u001b[39;49m\u001b[38;5;124;43mdummy\u001b[39;49m\u001b[38;5;124;43m\"\u001b[39;49m\u001b[43m,\u001b[49m\u001b[43m \u001b[49m\u001b[43mepochs\u001b[49m\u001b[38;5;241;43m=\u001b[39;49m\u001b[38;5;241;43m40\u001b[39;49m\u001b[43m,\u001b[49m\u001b[43m \u001b[49m\u001b[43mconfig\u001b[49m\u001b[38;5;241;43m=\u001b[39;49m\u001b[43mconfig\u001b[49m\u001b[43m,\u001b[49m\u001b[43m \u001b[49m\u001b[43mdata_size\u001b[49m\u001b[38;5;241;43m=\u001b[39;49m\u001b[38;5;241;43m0.5\u001b[39;49m\u001b[43m,\u001b[49m\u001b[43m \u001b[49m\u001b[43mval_ratio\u001b[49m\u001b[38;5;241;43m=\u001b[39;49m\u001b[38;5;241;43m0.2\u001b[39;49m\u001b[43m,\u001b[49m\u001b[43m \u001b[49m\u001b[43mtest_ratio\u001b[49m\u001b[38;5;241;43m=\u001b[39;49m\u001b[38;5;241;43m0.1\u001b[39;49m\u001b[43m,\u001b[49m\u001b[43m \u001b[49m\n\u001b[0;32m     21\u001b[0m \u001b[43m          \u001b[49m\u001b[43mbatch_size\u001b[49m\u001b[38;5;241;43m=\u001b[39;49m\u001b[38;5;241;43m32\u001b[39;49m\u001b[43m,\u001b[49m\u001b[43m \u001b[49m\u001b[43mnum_workers\u001b[49m\u001b[38;5;241;43m=\u001b[39;49m\u001b[38;5;241;43m4\u001b[39;49m\u001b[43m,\u001b[49m\u001b[43m \u001b[49m\u001b[43mlr\u001b[49m\u001b[38;5;241;43m=\u001b[39;49m\u001b[43m[\u001b[49m\u001b[38;5;241;43m1e-3\u001b[39;49m\u001b[43m,\u001b[49m\u001b[43m \u001b[49m\u001b[38;5;241;43m0.02\u001b[39;49m\u001b[43m]\u001b[49m\u001b[43m,\u001b[49m\u001b[43m \u001b[49m\u001b[43mweight_decay\u001b[49m\u001b[38;5;241;43m=\u001b[39;49m\u001b[38;5;241;43m1e-5\u001b[39;49m\u001b[43m,\u001b[49m\u001b[43m \u001b[49m\u001b[43mmodel_id\u001b[49m\u001b[38;5;241;43m=\u001b[39;49m\u001b[38;5;124;43m\"\u001b[39;49m\u001b[38;5;124;43msupervised\u001b[39;49m\u001b[38;5;124;43m\"\u001b[39;49m\u001b[43m,\u001b[49m\u001b[43m \u001b[49m\u001b[43mtiming\u001b[49m\u001b[38;5;241;43m=\u001b[39;49m\u001b[38;5;28;43;01mTrue\u001b[39;49;00m\u001b[43m,\u001b[49m\u001b[43m \u001b[49m\n\u001b[0;32m     22\u001b[0m \u001b[43m          \u001b[49m\u001b[43mclassify\u001b[49m\u001b[38;5;241;43m=\u001b[39;49m\u001b[43mconfig\u001b[49m\u001b[43m[\u001b[49m\u001b[38;5;124;43m\"\u001b[39;49m\u001b[38;5;124;43mclassify\u001b[39;49m\u001b[38;5;124;43m\"\u001b[39;49m\u001b[43m]\u001b[49m\u001b[43m,\u001b[49m\u001b[43m \u001b[49m\u001b[43mhead\u001b[49m\u001b[38;5;241;43m=\u001b[39;49m\u001b[43mconfig\u001b[49m\u001b[43m[\u001b[49m\u001b[38;5;124;43m\"\u001b[39;49m\u001b[38;5;124;43mhead\u001b[39;49m\u001b[38;5;124;43m\"\u001b[39;49m\u001b[43m]\u001b[49m\u001b[43m,\u001b[49m\u001b[43m \u001b[49m\u001b[43mdropout\u001b[49m\u001b[38;5;241;43m=\u001b[39;49m\u001b[38;5;28;43;01mFalse\u001b[39;49;00m\u001b[43m,\u001b[49m\u001b[43m \u001b[49m\u001b[43mdatetime_id\u001b[49m\u001b[38;5;241;43m=\u001b[39;49m\u001b[38;5;28;43;01mNone\u001b[39;49;00m\u001b[43m,\u001b[49m\u001b[43m \u001b[49m\u001b[43mrun_type\u001b[49m\u001b[38;5;241;43m=\u001b[39;49m\u001b[38;5;124;43m\"\u001b[39;49m\u001b[38;5;124;43mall\u001b[39;49m\u001b[38;5;124;43m\"\u001b[39;49m\u001b[43m,\u001b[49m\u001b[43m \u001b[49m\u001b[43mrequires_grad\u001b[49m\u001b[38;5;241;43m=\u001b[39;49m\u001b[38;5;28;43;01mTrue\u001b[39;49;00m\u001b[43m,\u001b[49m\n\u001b[0;32m     23\u001b[0m \u001b[43m          \u001b[49m\u001b[43mmodel_path\u001b[49m\u001b[38;5;241;43m=\u001b[39;49m\u001b[38;5;28;43;01mNone\u001b[39;49;00m\u001b[43m,\u001b[49m\u001b[43m \u001b[49m\u001b[43mmodel_dict_path\u001b[49m\u001b[38;5;241;43m=\u001b[39;49m\u001b[38;5;28;43;01mNone\u001b[39;49;00m\u001b[43m,\u001b[49m\u001b[43m \u001b[49m\u001b[43mtransfer_id\u001b[49m\u001b[38;5;241;43m=\u001b[39;49m\u001b[38;5;28;43;01mNone\u001b[39;49;00m\u001b[43m,\u001b[49m\u001b[43m \u001b[49m\u001b[43mtrain_ratio\u001b[49m\u001b[38;5;241;43m=\u001b[39;49m\u001b[38;5;28;43;01mNone\u001b[39;49;00m\u001b[43m,\u001b[49m\u001b[43m \u001b[49m\u001b[43mloss_config\u001b[49m\u001b[38;5;241;43m=\u001b[39;49m\u001b[38;5;28;43;01mNone\u001b[39;49;00m\u001b[43m,\u001b[49m\n\u001b[0;32m     24\u001b[0m \u001b[43m          \u001b[49m\u001b[43mproject_id\u001b[49m\u001b[38;5;241;43m=\u001b[39;49m\u001b[38;5;124;43m\"\u001b[39;49m\u001b[38;5;124;43mTest_Bay\u001b[39;49m\u001b[38;5;124;43m\"\u001b[39;49m\u001b[43m,\u001b[49m\u001b[43m \u001b[49m\u001b[43mpatience\u001b[49m\u001b[43m \u001b[49m\u001b[38;5;241;43m=\u001b[39;49m\u001b[43m \u001b[49m\u001b[38;5;241;43m20\u001b[39;49m\u001b[43m,\u001b[49m\u001b[43m \u001b[49m\u001b[43meta_min\u001b[49m\u001b[38;5;241;43m=\u001b[39;49m\u001b[38;5;241;43m0.002\u001b[39;49m\u001b[43m)\u001b[49m\n",
      "File \u001b[1;32mc:\\Users\\xmoot\\Desktop\\VSCode\\ssl-seizure-detection\\notebooks\\../src\\train.py:395\u001b[0m, in \u001b[0;36mtrain\u001b[1;34m(data_path, logdir, patient_id, epochs, config, data_size, val_ratio, test_ratio, batch_size, num_workers, lr, weight_decay, model_id, timing, classify, head, dropout, datetime_id, run_type, requires_grad, model_path, model_dict_path, transfer_id, train_ratio, loss_config, project_id, patience, eta_min)\u001b[0m\n\u001b[0;32m    391\u001b[0m \u001b[38;5;66;03m# Train our model for multiple epochs\u001b[39;00m\n\u001b[0;32m    392\u001b[0m \u001b[38;5;28;01mfor\u001b[39;00m epoch \u001b[38;5;129;01min\u001b[39;00m \u001b[38;5;28mrange\u001b[39m(epochs):\n\u001b[0;32m    393\u001b[0m \n\u001b[0;32m    394\u001b[0m     \u001b[38;5;66;03m#<----------Training---------->\u001b[39;00m\n\u001b[1;32m--> 395\u001b[0m     epoch_train_loss, epoch_train_acc \u001b[38;5;241m=\u001b[39m \u001b[43mprocess_model\u001b[49m\u001b[43m(\u001b[49m\u001b[43mmodel\u001b[49m\u001b[38;5;241;43m=\u001b[39;49m\u001b[43mmodel\u001b[49m\u001b[43m,\u001b[49m\u001b[43m \u001b[49m\u001b[43mloader\u001b[49m\u001b[38;5;241;43m=\u001b[39;49m\u001b[43mtrain_loader\u001b[49m\u001b[43m,\u001b[49m\u001b[43m \u001b[49m\u001b[43mcriterion\u001b[49m\u001b[38;5;241;43m=\u001b[39;49m\u001b[43mcriterion\u001b[49m\u001b[43m,\u001b[49m\u001b[43m \u001b[49m\u001b[43mdevice\u001b[49m\u001b[38;5;241;43m=\u001b[39;49m\u001b[43mdevice\u001b[49m\u001b[43m,\u001b[49m\u001b[43m \u001b[49m\u001b[43mclassify\u001b[49m\u001b[38;5;241;43m=\u001b[39;49m\u001b[43mclassify\u001b[49m\u001b[43m,\u001b[49m\u001b[43m \u001b[49m\u001b[43mhead\u001b[49m\u001b[38;5;241;43m=\u001b[39;49m\u001b[43mhead\u001b[49m\u001b[43m,\u001b[49m\u001b[43m \u001b[49m\n\u001b[0;32m    396\u001b[0m \u001b[43m                                                       \u001b[49m\u001b[43mdropout\u001b[49m\u001b[38;5;241;43m=\u001b[39;49m\u001b[43mdropout\u001b[49m\u001b[43m,\u001b[49m\u001b[43m \u001b[49m\u001b[43mmodel_id\u001b[49m\u001b[38;5;241;43m=\u001b[39;49m\u001b[43mmodel_id\u001b[49m\u001b[43m,\u001b[49m\u001b[43m \u001b[49m\u001b[43mtiming\u001b[49m\u001b[38;5;241;43m=\u001b[39;49m\u001b[43mtiming\u001b[49m\u001b[43m,\u001b[49m\u001b[43m \u001b[49m\u001b[43mmode\u001b[49m\u001b[38;5;241;43m=\u001b[39;49m\u001b[38;5;124;43m\"\u001b[39;49m\u001b[38;5;124;43mtraining\u001b[39;49m\u001b[38;5;124;43m\"\u001b[39;49m\u001b[43m,\u001b[49m\u001b[43m \u001b[49m\u001b[43moptimizer\u001b[49m\u001b[38;5;241;43m=\u001b[39;49m\u001b[43moptimizer\u001b[49m\u001b[43m)\u001b[49m\n\u001b[0;32m    398\u001b[0m     \u001b[38;5;66;03m#<----------Validation---------->\u001b[39;00m\n\u001b[0;32m    399\u001b[0m     epoch_val_loss, epoch_val_acc \u001b[38;5;241m=\u001b[39m process_model(model\u001b[38;5;241m=\u001b[39mmodel, loader\u001b[38;5;241m=\u001b[39mval_loader, criterion\u001b[38;5;241m=\u001b[39mcriterion, device\u001b[38;5;241m=\u001b[39mdevice, classify\u001b[38;5;241m=\u001b[39mclassify, head\u001b[38;5;241m=\u001b[39mhead, \n\u001b[0;32m    400\u001b[0m                                                        dropout\u001b[38;5;241m=\u001b[39m\u001b[38;5;28;01mFalse\u001b[39;00m, model_id\u001b[38;5;241m=\u001b[39mmodel_id, timing\u001b[38;5;241m=\u001b[39mtiming, mode\u001b[38;5;241m=\u001b[39m\u001b[38;5;124m\"\u001b[39m\u001b[38;5;124mevaluation\u001b[39m\u001b[38;5;124m\"\u001b[39m, optimizer\u001b[38;5;241m=\u001b[39moptimizer)\n",
      "File \u001b[1;32mc:\\Users\\xmoot\\Desktop\\VSCode\\ssl-seizure-detection\\notebooks\\../src\\train.py:146\u001b[0m, in \u001b[0;36mprocess_model\u001b[1;34m(model, loader, criterion, device, classify, head, dropout, model_id, timing, mode, optimizer)\u001b[0m\n\u001b[0;32m    143\u001b[0m \u001b[38;5;28;01mif\u001b[39;00m timing:\n\u001b[0;32m    144\u001b[0m     start_time \u001b[38;5;241m=\u001b[39m time\u001b[38;5;241m.\u001b[39mtime()\n\u001b[1;32m--> 146\u001b[0m \u001b[38;5;28;01mfor\u001b[39;00m batch_idx, batch \u001b[38;5;129;01min\u001b[39;00m \u001b[38;5;28;43menumerate\u001b[39;49m\u001b[43m(\u001b[49m\u001b[43mloader\u001b[49m\u001b[43m)\u001b[49m:\n\u001b[0;32m    147\u001b[0m     batch \u001b[38;5;241m=\u001b[39m batch\u001b[38;5;241m.\u001b[39mto(device)\n\u001b[0;32m    148\u001b[0m     \u001b[38;5;28;01mwith\u001b[39;00m torch\u001b[38;5;241m.\u001b[39mset_grad_enabled(mode \u001b[38;5;241m==\u001b[39m \u001b[38;5;124m\"\u001b[39m\u001b[38;5;124mtraining\u001b[39m\u001b[38;5;124m\"\u001b[39m):\n",
      "File \u001b[1;32mc:\\tools\\Anaconda3\\envs\\torch2_cuda11.8\\lib\\site-packages\\torch\\utils\\data\\dataloader.py:441\u001b[0m, in \u001b[0;36mDataLoader.__iter__\u001b[1;34m(self)\u001b[0m\n\u001b[0;32m    439\u001b[0m     \u001b[38;5;28;01mreturn\u001b[39;00m \u001b[38;5;28mself\u001b[39m\u001b[38;5;241m.\u001b[39m_iterator\n\u001b[0;32m    440\u001b[0m \u001b[38;5;28;01melse\u001b[39;00m:\n\u001b[1;32m--> 441\u001b[0m     \u001b[38;5;28;01mreturn\u001b[39;00m \u001b[38;5;28;43mself\u001b[39;49m\u001b[38;5;241;43m.\u001b[39;49m\u001b[43m_get_iterator\u001b[49m\u001b[43m(\u001b[49m\u001b[43m)\u001b[49m\n",
      "File \u001b[1;32mc:\\tools\\Anaconda3\\envs\\torch2_cuda11.8\\lib\\site-packages\\torch\\utils\\data\\dataloader.py:388\u001b[0m, in \u001b[0;36mDataLoader._get_iterator\u001b[1;34m(self)\u001b[0m\n\u001b[0;32m    386\u001b[0m \u001b[38;5;28;01melse\u001b[39;00m:\n\u001b[0;32m    387\u001b[0m     \u001b[38;5;28mself\u001b[39m\u001b[38;5;241m.\u001b[39mcheck_worker_number_rationality()\n\u001b[1;32m--> 388\u001b[0m     \u001b[38;5;28;01mreturn\u001b[39;00m \u001b[43m_MultiProcessingDataLoaderIter\u001b[49m\u001b[43m(\u001b[49m\u001b[38;5;28;43mself\u001b[39;49m\u001b[43m)\u001b[49m\n",
      "File \u001b[1;32mc:\\tools\\Anaconda3\\envs\\torch2_cuda11.8\\lib\\site-packages\\torch\\utils\\data\\dataloader.py:1042\u001b[0m, in \u001b[0;36m_MultiProcessingDataLoaderIter.__init__\u001b[1;34m(self, loader)\u001b[0m\n\u001b[0;32m   1035\u001b[0m w\u001b[38;5;241m.\u001b[39mdaemon \u001b[38;5;241m=\u001b[39m \u001b[38;5;28;01mTrue\u001b[39;00m\n\u001b[0;32m   1036\u001b[0m \u001b[38;5;66;03m# NB: Process.start() actually take some time as it needs to\u001b[39;00m\n\u001b[0;32m   1037\u001b[0m \u001b[38;5;66;03m#     start a process and pass the arguments over via a pipe.\u001b[39;00m\n\u001b[0;32m   1038\u001b[0m \u001b[38;5;66;03m#     Therefore, we only add a worker to self._workers list after\u001b[39;00m\n\u001b[0;32m   1039\u001b[0m \u001b[38;5;66;03m#     it started, so that we do not call .join() if program dies\u001b[39;00m\n\u001b[0;32m   1040\u001b[0m \u001b[38;5;66;03m#     before it starts, and __del__ tries to join but will get:\u001b[39;00m\n\u001b[0;32m   1041\u001b[0m \u001b[38;5;66;03m#     AssertionError: can only join a started process.\u001b[39;00m\n\u001b[1;32m-> 1042\u001b[0m \u001b[43mw\u001b[49m\u001b[38;5;241;43m.\u001b[39;49m\u001b[43mstart\u001b[49m\u001b[43m(\u001b[49m\u001b[43m)\u001b[49m\n\u001b[0;32m   1043\u001b[0m \u001b[38;5;28mself\u001b[39m\u001b[38;5;241m.\u001b[39m_index_queues\u001b[38;5;241m.\u001b[39mappend(index_queue)\n\u001b[0;32m   1044\u001b[0m \u001b[38;5;28mself\u001b[39m\u001b[38;5;241m.\u001b[39m_workers\u001b[38;5;241m.\u001b[39mappend(w)\n",
      "File \u001b[1;32mc:\\tools\\Anaconda3\\envs\\torch2_cuda11.8\\lib\\multiprocessing\\process.py:121\u001b[0m, in \u001b[0;36mBaseProcess.start\u001b[1;34m(self)\u001b[0m\n\u001b[0;32m    118\u001b[0m \u001b[38;5;28;01massert\u001b[39;00m \u001b[38;5;129;01mnot\u001b[39;00m _current_process\u001b[38;5;241m.\u001b[39m_config\u001b[38;5;241m.\u001b[39mget(\u001b[38;5;124m'\u001b[39m\u001b[38;5;124mdaemon\u001b[39m\u001b[38;5;124m'\u001b[39m), \\\n\u001b[0;32m    119\u001b[0m        \u001b[38;5;124m'\u001b[39m\u001b[38;5;124mdaemonic processes are not allowed to have children\u001b[39m\u001b[38;5;124m'\u001b[39m\n\u001b[0;32m    120\u001b[0m _cleanup()\n\u001b[1;32m--> 121\u001b[0m \u001b[38;5;28mself\u001b[39m\u001b[38;5;241m.\u001b[39m_popen \u001b[38;5;241m=\u001b[39m \u001b[38;5;28;43mself\u001b[39;49m\u001b[38;5;241;43m.\u001b[39;49m\u001b[43m_Popen\u001b[49m\u001b[43m(\u001b[49m\u001b[38;5;28;43mself\u001b[39;49m\u001b[43m)\u001b[49m\n\u001b[0;32m    122\u001b[0m \u001b[38;5;28mself\u001b[39m\u001b[38;5;241m.\u001b[39m_sentinel \u001b[38;5;241m=\u001b[39m \u001b[38;5;28mself\u001b[39m\u001b[38;5;241m.\u001b[39m_popen\u001b[38;5;241m.\u001b[39msentinel\n\u001b[0;32m    123\u001b[0m \u001b[38;5;66;03m# Avoid a refcycle if the target function holds an indirect\u001b[39;00m\n\u001b[0;32m    124\u001b[0m \u001b[38;5;66;03m# reference to the process object (see bpo-30775)\u001b[39;00m\n",
      "File \u001b[1;32mc:\\tools\\Anaconda3\\envs\\torch2_cuda11.8\\lib\\multiprocessing\\context.py:224\u001b[0m, in \u001b[0;36mProcess._Popen\u001b[1;34m(process_obj)\u001b[0m\n\u001b[0;32m    222\u001b[0m \u001b[38;5;129m@staticmethod\u001b[39m\n\u001b[0;32m    223\u001b[0m \u001b[38;5;28;01mdef\u001b[39;00m \u001b[38;5;21m_Popen\u001b[39m(process_obj):\n\u001b[1;32m--> 224\u001b[0m     \u001b[38;5;28;01mreturn\u001b[39;00m \u001b[43m_default_context\u001b[49m\u001b[38;5;241;43m.\u001b[39;49m\u001b[43mget_context\u001b[49m\u001b[43m(\u001b[49m\u001b[43m)\u001b[49m\u001b[38;5;241;43m.\u001b[39;49m\u001b[43mProcess\u001b[49m\u001b[38;5;241;43m.\u001b[39;49m\u001b[43m_Popen\u001b[49m\u001b[43m(\u001b[49m\u001b[43mprocess_obj\u001b[49m\u001b[43m)\u001b[49m\n",
      "File \u001b[1;32mc:\\tools\\Anaconda3\\envs\\torch2_cuda11.8\\lib\\multiprocessing\\context.py:336\u001b[0m, in \u001b[0;36mSpawnProcess._Popen\u001b[1;34m(process_obj)\u001b[0m\n\u001b[0;32m    333\u001b[0m \u001b[38;5;129m@staticmethod\u001b[39m\n\u001b[0;32m    334\u001b[0m \u001b[38;5;28;01mdef\u001b[39;00m \u001b[38;5;21m_Popen\u001b[39m(process_obj):\n\u001b[0;32m    335\u001b[0m     \u001b[38;5;28;01mfrom\u001b[39;00m \u001b[38;5;21;01m.\u001b[39;00m\u001b[38;5;21;01mpopen_spawn_win32\u001b[39;00m \u001b[38;5;28;01mimport\u001b[39;00m Popen\n\u001b[1;32m--> 336\u001b[0m     \u001b[38;5;28;01mreturn\u001b[39;00m \u001b[43mPopen\u001b[49m\u001b[43m(\u001b[49m\u001b[43mprocess_obj\u001b[49m\u001b[43m)\u001b[49m\n",
      "File \u001b[1;32mc:\\tools\\Anaconda3\\envs\\torch2_cuda11.8\\lib\\multiprocessing\\popen_spawn_win32.py:93\u001b[0m, in \u001b[0;36mPopen.__init__\u001b[1;34m(self, process_obj)\u001b[0m\n\u001b[0;32m     91\u001b[0m \u001b[38;5;28;01mtry\u001b[39;00m:\n\u001b[0;32m     92\u001b[0m     reduction\u001b[38;5;241m.\u001b[39mdump(prep_data, to_child)\n\u001b[1;32m---> 93\u001b[0m     \u001b[43mreduction\u001b[49m\u001b[38;5;241;43m.\u001b[39;49m\u001b[43mdump\u001b[49m\u001b[43m(\u001b[49m\u001b[43mprocess_obj\u001b[49m\u001b[43m,\u001b[49m\u001b[43m \u001b[49m\u001b[43mto_child\u001b[49m\u001b[43m)\u001b[49m\n\u001b[0;32m     94\u001b[0m \u001b[38;5;28;01mfinally\u001b[39;00m:\n\u001b[0;32m     95\u001b[0m     set_spawning_popen(\u001b[38;5;28;01mNone\u001b[39;00m)\n",
      "File \u001b[1;32mc:\\tools\\Anaconda3\\envs\\torch2_cuda11.8\\lib\\multiprocessing\\reduction.py:60\u001b[0m, in \u001b[0;36mdump\u001b[1;34m(obj, file, protocol)\u001b[0m\n\u001b[0;32m     58\u001b[0m \u001b[38;5;28;01mdef\u001b[39;00m \u001b[38;5;21mdump\u001b[39m(obj, file, protocol\u001b[38;5;241m=\u001b[39m\u001b[38;5;28;01mNone\u001b[39;00m):\n\u001b[0;32m     59\u001b[0m \u001b[38;5;250m    \u001b[39m\u001b[38;5;124;03m'''Replacement for pickle.dump() using ForkingPickler.'''\u001b[39;00m\n\u001b[1;32m---> 60\u001b[0m     \u001b[43mForkingPickler\u001b[49m\u001b[43m(\u001b[49m\u001b[43mfile\u001b[49m\u001b[43m,\u001b[49m\u001b[43m \u001b[49m\u001b[43mprotocol\u001b[49m\u001b[43m)\u001b[49m\u001b[38;5;241;43m.\u001b[39;49m\u001b[43mdump\u001b[49m\u001b[43m(\u001b[49m\u001b[43mobj\u001b[49m\u001b[43m)\u001b[49m\n",
      "\u001b[1;31mKeyboardInterrupt\u001b[0m: "
     ]
    }
   ],
   "source": [
    "import sys\n",
    "sys.path.append('../src')\n",
    "from train import train\n",
    "import torch\n",
    "\n",
    "data_path = r\"C:\\Users\\xmoot\\Desktop\\Data\\ssl-seizure-detection\\patient_pyg\\jh101\\supervised\"\n",
    "logdir = r\"C:\\Users\\xmoot\\Desktop\\Data\\ssl-seizure-detection\\patient_pyg\\test\"\n",
    "\n",
    "# Model parameters\n",
    "config = {\n",
    "    \"num_node_features\": 9,\n",
    "    \"num_edge_features\": 3,\n",
    "    \"hidden_channels\": [32, 16, 16],\n",
    "    \"batch_norm\": True,\n",
    "    \"classify\": \"binary\",\n",
    "    \"head\": \"linear\",\n",
    "}\n",
    "\n",
    "\n",
    "train(data_path=data_path, logdir=logdir, patient_id=\"dummy\", epochs=40, config=config, data_size=0.5, val_ratio=0.2, test_ratio=0.1, \n",
    "          batch_size=32, num_workers=4, lr=[1e-3, 0.02], weight_decay=1e-3, model_id=\"supervised\", timing=True, \n",
    "          classify=config[\"classify\"], head=config[\"head\"], dropout=False, datetime_id=None, run_type=\"all\", requires_grad=True,\n",
    "          model_path=None, model_dict_path=None, transfer_id=None, train_ratio=None, loss_config=None,\n",
    "          project_id=\"Test_Bay\", patience = 20, eta_min=0.002)"
   ]
  },
  {
   "cell_type": "markdown",
   "metadata": {},
   "source": [
    "#### Relative Positioning Model"
   ]
  },
  {
   "cell_type": "code",
   "execution_count": 5,
   "metadata": {},
   "outputs": [
    {
     "data": {
      "text/html": [
       "wandb version 0.16.1 is available!  To upgrade, please run:\n",
       " $ pip install wandb --upgrade"
      ],
      "text/plain": [
       "<IPython.core.display.HTML object>"
      ]
     },
     "metadata": {},
     "output_type": "display_data"
    },
    {
     "data": {
      "text/html": [
       "Tracking run with wandb version 0.15.12"
      ],
      "text/plain": [
       "<IPython.core.display.HTML object>"
      ]
     },
     "metadata": {},
     "output_type": "display_data"
    },
    {
     "data": {
      "text/html": [
       "Run data is saved locally in <code>c:\\Users\\xmoot\\Desktop\\VSCode\\ssl-seizure-detection\\notebooks\\wandb\\run-20231210_233851-a6j7juud</code>"
      ],
      "text/plain": [
       "<IPython.core.display.HTML object>"
      ]
     },
     "metadata": {},
     "output_type": "display_data"
    },
    {
     "data": {
      "text/html": [
       "Syncing run <strong><a href='https://wandb.ai/xmootoo/ssl-seizure-detection/runs/a6j7juud' target=\"_blank\">dummy_relative_positioning_None_all</a></strong> to <a href='https://wandb.ai/xmootoo/ssl-seizure-detection' target=\"_blank\">Weights & Biases</a> (<a href='https://wandb.me/run' target=\"_blank\">docs</a>)<br/>"
      ],
      "text/plain": [
       "<IPython.core.display.HTML object>"
      ]
     },
     "metadata": {},
     "output_type": "display_data"
    },
    {
     "data": {
      "text/html": [
       " View project at <a href='https://wandb.ai/xmootoo/ssl-seizure-detection' target=\"_blank\">https://wandb.ai/xmootoo/ssl-seizure-detection</a>"
      ],
      "text/plain": [
       "<IPython.core.display.HTML object>"
      ]
     },
     "metadata": {},
     "output_type": "display_data"
    },
    {
     "data": {
      "text/html": [
       " View run at <a href='https://wandb.ai/xmootoo/ssl-seizure-detection/runs/a6j7juud' target=\"_blank\">https://wandb.ai/xmootoo/ssl-seizure-detection/runs/a6j7juud</a>"
      ],
      "text/plain": [
       "<IPython.core.display.HTML object>"
      ]
     },
     "metadata": {},
     "output_type": "display_data"
    },
    {
     "name": "stdout",
     "output_type": "stream",
     "text": [
      "Using device: cuda\n",
      "None\n",
      "Total number of examples in dataset: 50.\n",
      "Total number of examples used: 50.\n",
      "Number of training examples: 35. Number of training batches: 2.\n",
      "Number of validation examples: 10. Number of validation batches: 1.\n",
      "Number of test examples: 5. Number of test batches: 1.\n",
      "Time elapsed after 100 batches (training): 3.91554856300354\n",
      "Time elapsed after 100 batches (evaluation): 3.7740020751953125\n",
      "Epoch: 1, Train Loss: 0.6954334378242493, Train Accuracy: 54.285714285714285, Validation Loss: 0.6861836314201355, Validation Accuracy: 60.0\n",
      "Time elapsed after 100 batches (evaluation): 3.752501964569092\n",
      "Training complete. Test Loss: 0.6738660931587219. Test Accuracy: 60.0.\n",
      "Training complete.\n"
     ]
    },
    {
     "data": {
      "text/html": [
       "Waiting for W&B process to finish... <strong style=\"color:green\">(success).</strong>"
      ],
      "text/plain": [
       "<IPython.core.display.HTML object>"
      ]
     },
     "metadata": {},
     "output_type": "display_data"
    },
    {
     "data": {
      "text/html": [
       "<style>\n",
       "    table.wandb td:nth-child(1) { padding: 0 10px; text-align: left ; width: auto;} td:nth-child(2) {text-align: left ; width: 100%}\n",
       "    .wandb-row { display: flex; flex-direction: row; flex-wrap: wrap; justify-content: flex-start; width: 100% }\n",
       "    .wandb-col { display: flex; flex-direction: column; flex-basis: 100%; flex: 1; padding: 10px; }\n",
       "    </style>\n",
       "<div class=\"wandb-row\"><div class=\"wandb-col\"><h3>Run history:</h3><br/><table class=\"wandb\"><tr><td>Epoch</td><td>▁</td></tr><tr><td>Test Accuracy</td><td>▁</td></tr><tr><td>Test Loss</td><td>▁</td></tr><tr><td>Training Accuracy</td><td>▁</td></tr><tr><td>Training Loss</td><td>▁</td></tr><tr><td>Validation Accuracy</td><td>▁</td></tr><tr><td>Validation Loss</td><td>▁</td></tr></table><br/></div><div class=\"wandb-col\"><h3>Run summary:</h3><br/><table class=\"wandb\"><tr><td>Epoch</td><td>1</td></tr><tr><td>Test Accuracy</td><td>60.0</td></tr><tr><td>Test Loss</td><td>0.67387</td></tr><tr><td>Training Accuracy</td><td>54.28571</td></tr><tr><td>Training Loss</td><td>0.69543</td></tr><tr><td>Validation Accuracy</td><td>60.0</td></tr><tr><td>Validation Loss</td><td>0.68618</td></tr></table><br/></div></div>"
      ],
      "text/plain": [
       "<IPython.core.display.HTML object>"
      ]
     },
     "metadata": {},
     "output_type": "display_data"
    },
    {
     "data": {
      "text/html": [
       " View run <strong style=\"color:#cdcd00\">dummy_relative_positioning_None_all</strong> at: <a href='https://wandb.ai/xmootoo/ssl-seizure-detection/runs/a6j7juud' target=\"_blank\">https://wandb.ai/xmootoo/ssl-seizure-detection/runs/a6j7juud</a><br/>Synced 6 W&B file(s), 0 media file(s), 0 artifact file(s) and 0 other file(s)"
      ],
      "text/plain": [
       "<IPython.core.display.HTML object>"
      ]
     },
     "metadata": {},
     "output_type": "display_data"
    },
    {
     "data": {
      "text/html": [
       "Find logs at: <code>.\\wandb\\run-20231210_233851-a6j7juud\\logs</code>"
      ],
      "text/plain": [
       "<IPython.core.display.HTML object>"
      ]
     },
     "metadata": {},
     "output_type": "display_data"
    }
   ],
   "source": [
    "# Mac\n",
    "# data_path = \"/Users/xaviermootoo/Documents/Data/ssl-seizure-detection/patient_pyg/jh101/relative_positioning/12s_90s\"\n",
    "# logdir = \"/Users/xaviermootoo/Documents/Data/ssl-seizure-detection/models/jh101\"\n",
    "\n",
    "# PC\n",
    "data_path = r\"C:\\Users\\xmoot\\Desktop\\Data\\ssl-seizure-detection\\patient_pyg\\jh101\\relative_positioning\"\n",
    "logdir = r\"C:\\Users\\xmoot\\Desktop\\Data\\ssl-seizure-detection\\patient_pyg\\test\"\n",
    "\n",
    "# Training parameters\n",
    "patient_id = \"dummy\"\n",
    "epochs = 1\n",
    "model_id = \"relative_positioning\"\n",
    "\n",
    "config = {\n",
    "    \"num_node_features\": 9,\n",
    "    \"num_edge_features\": 3,\n",
    "    \"hidden_channels\": [64, 32, 64, 128, 256],\n",
    "    }\n",
    "data_size=50\n",
    "\n",
    "train(data_path, logdir, patient_id, epochs, config, data_size=data_size, val_ratio=0.2, test_ratio=0.1, \n",
    "          batch_size=32, num_workers=4, lr=1e-3, weight_decay=1e-3, model_id=\"relative_positioning\", timing=True, \n",
    "          classify=\"binary\", head=\"linear\", dropout=True, datetime_id=None, run_type=\"all\")"
   ]
  },
  {
   "cell_type": "markdown",
   "metadata": {},
   "source": [
    "#### Temporal Shuffling Model"
   ]
  },
  {
   "cell_type": "code",
   "execution_count": 4,
   "metadata": {},
   "outputs": [
    {
     "data": {
      "text/html": [
       "wandb version 0.16.1 is available!  To upgrade, please run:\n",
       " $ pip install wandb --upgrade"
      ],
      "text/plain": [
       "<IPython.core.display.HTML object>"
      ]
     },
     "metadata": {},
     "output_type": "display_data"
    },
    {
     "data": {
      "text/html": [
       "Tracking run with wandb version 0.15.12"
      ],
      "text/plain": [
       "<IPython.core.display.HTML object>"
      ]
     },
     "metadata": {},
     "output_type": "display_data"
    },
    {
     "data": {
      "text/html": [
       "Run data is saved locally in <code>c:\\Users\\xmoot\\Desktop\\VSCode\\ssl-seizure-detection\\notebooks\\wandb\\run-20231210_233758-d40tlcg7</code>"
      ],
      "text/plain": [
       "<IPython.core.display.HTML object>"
      ]
     },
     "metadata": {},
     "output_type": "display_data"
    },
    {
     "data": {
      "text/html": [
       "Syncing run <strong><a href='https://wandb.ai/xmootoo/ssl-seizure-detection/runs/d40tlcg7' target=\"_blank\">dummy_temporal_shuffling_None_all</a></strong> to <a href='https://wandb.ai/xmootoo/ssl-seizure-detection' target=\"_blank\">Weights & Biases</a> (<a href='https://wandb.me/run' target=\"_blank\">docs</a>)<br/>"
      ],
      "text/plain": [
       "<IPython.core.display.HTML object>"
      ]
     },
     "metadata": {},
     "output_type": "display_data"
    },
    {
     "data": {
      "text/html": [
       " View project at <a href='https://wandb.ai/xmootoo/ssl-seizure-detection' target=\"_blank\">https://wandb.ai/xmootoo/ssl-seizure-detection</a>"
      ],
      "text/plain": [
       "<IPython.core.display.HTML object>"
      ]
     },
     "metadata": {},
     "output_type": "display_data"
    },
    {
     "data": {
      "text/html": [
       " View run at <a href='https://wandb.ai/xmootoo/ssl-seizure-detection/runs/d40tlcg7' target=\"_blank\">https://wandb.ai/xmootoo/ssl-seizure-detection/runs/d40tlcg7</a>"
      ],
      "text/plain": [
       "<IPython.core.display.HTML object>"
      ]
     },
     "metadata": {},
     "output_type": "display_data"
    },
    {
     "name": "stdout",
     "output_type": "stream",
     "text": [
      "Using device: cuda\n",
      "None\n",
      "Total number of examples in dataset: 1000.\n",
      "Total number of examples used: 1000.\n",
      "Number of training examples: 100. Number of training batches: 4.\n",
      "Number of validation examples: 800. Number of validation batches: 25.\n",
      "Number of test examples: 100. Number of test batches: 4.\n",
      "Time elapsed after 100 batches (training): 3.8819971084594727\n",
      "Time elapsed after 100 batches (evaluation): 13.195449829101562\n",
      "Epoch: 1, Train Loss: 0.6687844693660736, Train Accuracy: 52.0, Validation Loss: 0.6969042730331421, Validation Accuracy: 51.25\n",
      "Time elapsed after 100 batches (evaluation): 3.9409987926483154\n",
      "Training complete. Test Loss: 0.712275430560112. Test Accuracy: 52.0.\n",
      "Training complete.\n"
     ]
    },
    {
     "data": {
      "text/html": [
       "Waiting for W&B process to finish... <strong style=\"color:green\">(success).</strong>"
      ],
      "text/plain": [
       "<IPython.core.display.HTML object>"
      ]
     },
     "metadata": {},
     "output_type": "display_data"
    },
    {
     "data": {
      "text/html": [
       "<style>\n",
       "    table.wandb td:nth-child(1) { padding: 0 10px; text-align: left ; width: auto;} td:nth-child(2) {text-align: left ; width: 100%}\n",
       "    .wandb-row { display: flex; flex-direction: row; flex-wrap: wrap; justify-content: flex-start; width: 100% }\n",
       "    .wandb-col { display: flex; flex-direction: column; flex-basis: 100%; flex: 1; padding: 10px; }\n",
       "    </style>\n",
       "<div class=\"wandb-row\"><div class=\"wandb-col\"><h3>Run history:</h3><br/><table class=\"wandb\"><tr><td>Epoch</td><td>▁</td></tr><tr><td>Test Accuracy</td><td>▁</td></tr><tr><td>Test Loss</td><td>▁</td></tr><tr><td>Training Accuracy</td><td>▁</td></tr><tr><td>Training Loss</td><td>▁</td></tr><tr><td>Validation Accuracy</td><td>▁</td></tr><tr><td>Validation Loss</td><td>▁</td></tr></table><br/></div><div class=\"wandb-col\"><h3>Run summary:</h3><br/><table class=\"wandb\"><tr><td>Epoch</td><td>1</td></tr><tr><td>Test Accuracy</td><td>52.0</td></tr><tr><td>Test Loss</td><td>0.71228</td></tr><tr><td>Training Accuracy</td><td>52.0</td></tr><tr><td>Training Loss</td><td>0.66878</td></tr><tr><td>Validation Accuracy</td><td>51.25</td></tr><tr><td>Validation Loss</td><td>0.6969</td></tr></table><br/></div></div>"
      ],
      "text/plain": [
       "<IPython.core.display.HTML object>"
      ]
     },
     "metadata": {},
     "output_type": "display_data"
    },
    {
     "data": {
      "text/html": [
       " View run <strong style=\"color:#cdcd00\">dummy_temporal_shuffling_None_all</strong> at: <a href='https://wandb.ai/xmootoo/ssl-seizure-detection/runs/d40tlcg7' target=\"_blank\">https://wandb.ai/xmootoo/ssl-seizure-detection/runs/d40tlcg7</a><br/>Synced 6 W&B file(s), 0 media file(s), 0 artifact file(s) and 0 other file(s)"
      ],
      "text/plain": [
       "<IPython.core.display.HTML object>"
      ]
     },
     "metadata": {},
     "output_type": "display_data"
    },
    {
     "data": {
      "text/html": [
       "Find logs at: <code>.\\wandb\\run-20231210_233758-d40tlcg7\\logs</code>"
      ],
      "text/plain": [
       "<IPython.core.display.HTML object>"
      ]
     },
     "metadata": {},
     "output_type": "display_data"
    }
   ],
   "source": [
    "# Mac\n",
    "# data_path = \"/Users/xaviermootoo/Documents/Data/ssl-seizure-detection/patient_pyg/jh101/temporal_shuffling/12s_90s\"\n",
    "# logdir = \"/Users/xaviermootoo/Documents/Data/ssl-seizure-detection/models/jh101\"\n",
    "\n",
    "# PC\n",
    "data_path = r\"C:\\Users\\xmoot\\Desktop\\Data\\ssl-seizure-detection\\patient_pyg\\jh101\\temporal_shuffling\"\n",
    "logdir = r\"C:\\Users\\xmoot\\Desktop\\Data\\ssl-seizure-detection\\patient_pyg\\test\"\n",
    "\n",
    "# Training parameters\n",
    "patient_id = \"dummy\"\n",
    "epochs = 1\n",
    "model_id = \"temporal_shuffling\"\n",
    "\n",
    "config = {\n",
    "    \"num_node_features\": 9,\n",
    "    \"num_edge_features\": 3,\n",
    "    \"hidden_channels\": [64, 32, 64, 128, 256],\n",
    "}\n",
    "data_size = 1000\n",
    "\n",
    "train(data_path, logdir, patient_id, epochs, config, data_size=data_size, val_ratio=0.8, test_ratio=0.1, \n",
    "          batch_size=32, num_workers=4, lr=1e-3, weight_decay=1e-3, model_id=\"temporal_shuffling\", timing=True, \n",
    "          classify=\"binary\", head=\"linear\", dropout=True, datetime_id=None, run_type=\"all\")"
   ]
  },
  {
   "cell_type": "markdown",
   "metadata": {},
   "source": [
    "#### Transfer Learning\n",
    "Relative Positioning:"
   ]
  },
  {
   "cell_type": "code",
   "execution_count": 3,
   "metadata": {},
   "outputs": [
    {
     "data": {
      "text/html": [
       "wandb version 0.16.1 is available!  To upgrade, please run:\n",
       " $ pip install wandb --upgrade"
      ],
      "text/plain": [
       "<IPython.core.display.HTML object>"
      ]
     },
     "metadata": {},
     "output_type": "display_data"
    },
    {
     "data": {
      "text/html": [
       "Tracking run with wandb version 0.15.12"
      ],
      "text/plain": [
       "<IPython.core.display.HTML object>"
      ]
     },
     "metadata": {},
     "output_type": "display_data"
    },
    {
     "data": {
      "text/html": [
       "Run data is saved locally in <code>c:\\Users\\xmoot\\Desktop\\VSCode\\ssl-seizure-detection\\notebooks\\wandb\\run-20231210_233710-o6mfr48i</code>"
      ],
      "text/plain": [
       "<IPython.core.display.HTML object>"
      ]
     },
     "metadata": {},
     "output_type": "display_data"
    },
    {
     "data": {
      "text/html": [
       "Syncing run <strong><a href='https://wandb.ai/xmootoo/ssl-seizure-detection/runs/o6mfr48i' target=\"_blank\">dummy_downstream1_None_all</a></strong> to <a href='https://wandb.ai/xmootoo/ssl-seizure-detection' target=\"_blank\">Weights & Biases</a> (<a href='https://wandb.me/run' target=\"_blank\">docs</a>)<br/>"
      ],
      "text/plain": [
       "<IPython.core.display.HTML object>"
      ]
     },
     "metadata": {},
     "output_type": "display_data"
    },
    {
     "data": {
      "text/html": [
       " View project at <a href='https://wandb.ai/xmootoo/ssl-seizure-detection' target=\"_blank\">https://wandb.ai/xmootoo/ssl-seizure-detection</a>"
      ],
      "text/plain": [
       "<IPython.core.display.HTML object>"
      ]
     },
     "metadata": {},
     "output_type": "display_data"
    },
    {
     "data": {
      "text/html": [
       " View run at <a href='https://wandb.ai/xmootoo/ssl-seizure-detection/runs/o6mfr48i' target=\"_blank\">https://wandb.ai/xmootoo/ssl-seizure-detection/runs/o6mfr48i</a>"
      ],
      "text/plain": [
       "<IPython.core.display.HTML object>"
      ]
     },
     "metadata": {},
     "output_type": "display_data"
    },
    {
     "name": "stdout",
     "output_type": "stream",
     "text": [
      "Using device: cuda\n",
      "None\n",
      "Total number of examples in dataset: 114.\n",
      "Total number of examples used: 114.\n",
      "Number of training examples: 81. Number of training batches: 3.\n",
      "Number of validation examples: 22. Number of validation batches: 1.\n",
      "Number of test examples: 11. Number of test batches: 1.\n",
      "Time elapsed after 100 batches (training): 3.9454996585845947\n",
      "Time elapsed after 100 batches (evaluation): 2.8545029163360596\n",
      "Epoch: 1, Train Loss: 3.4345645904541016, Train Accuracy: 49.382716049382715, Validation Loss: 1.4942657947540283, Validation Accuracy: 59.09090909090909\n",
      "Time elapsed after 100 batches (training): 3.860501766204834\n",
      "Time elapsed after 100 batches (evaluation): 3.0605010986328125\n",
      "Epoch: 2, Train Loss: 2.4021639029184976, Train Accuracy: 40.74074074074074, Validation Loss: 1.0440126657485962, Validation Accuracy: 63.63636363636363\n",
      "Time elapsed after 100 batches (evaluation): 2.7449991703033447\n",
      "Training complete. Test Loss: 1.3754545450210571. Test Accuracy: 54.54545454545455.\n",
      "Training complete.\n"
     ]
    },
    {
     "data": {
      "text/html": [
       "Waiting for W&B process to finish... <strong style=\"color:green\">(success).</strong>"
      ],
      "text/plain": [
       "<IPython.core.display.HTML object>"
      ]
     },
     "metadata": {},
     "output_type": "display_data"
    },
    {
     "data": {
      "text/html": [
       "<style>\n",
       "    table.wandb td:nth-child(1) { padding: 0 10px; text-align: left ; width: auto;} td:nth-child(2) {text-align: left ; width: 100%}\n",
       "    .wandb-row { display: flex; flex-direction: row; flex-wrap: wrap; justify-content: flex-start; width: 100% }\n",
       "    .wandb-col { display: flex; flex-direction: column; flex-basis: 100%; flex: 1; padding: 10px; }\n",
       "    </style>\n",
       "<div class=\"wandb-row\"><div class=\"wandb-col\"><h3>Run history:</h3><br/><table class=\"wandb\"><tr><td>Epoch</td><td>▁█</td></tr><tr><td>Test Accuracy</td><td>▁</td></tr><tr><td>Test Loss</td><td>▁</td></tr><tr><td>Training Accuracy</td><td>█▁</td></tr><tr><td>Training Loss</td><td>█▁</td></tr><tr><td>Validation Accuracy</td><td>▁█</td></tr><tr><td>Validation Loss</td><td>█▁</td></tr></table><br/></div><div class=\"wandb-col\"><h3>Run summary:</h3><br/><table class=\"wandb\"><tr><td>Epoch</td><td>2</td></tr><tr><td>Test Accuracy</td><td>54.54545</td></tr><tr><td>Test Loss</td><td>1.37545</td></tr><tr><td>Training Accuracy</td><td>40.74074</td></tr><tr><td>Training Loss</td><td>2.40216</td></tr><tr><td>Validation Accuracy</td><td>63.63636</td></tr><tr><td>Validation Loss</td><td>1.04401</td></tr></table><br/></div></div>"
      ],
      "text/plain": [
       "<IPython.core.display.HTML object>"
      ]
     },
     "metadata": {},
     "output_type": "display_data"
    },
    {
     "data": {
      "text/html": [
       " View run <strong style=\"color:#cdcd00\">dummy_downstream1_None_all</strong> at: <a href='https://wandb.ai/xmootoo/ssl-seizure-detection/runs/o6mfr48i' target=\"_blank\">https://wandb.ai/xmootoo/ssl-seizure-detection/runs/o6mfr48i</a><br/>Synced 6 W&B file(s), 0 media file(s), 0 artifact file(s) and 0 other file(s)"
      ],
      "text/plain": [
       "<IPython.core.display.HTML object>"
      ]
     },
     "metadata": {},
     "output_type": "display_data"
    },
    {
     "data": {
      "text/html": [
       "Find logs at: <code>.\\wandb\\run-20231210_233710-o6mfr48i\\logs</code>"
      ],
      "text/plain": [
       "<IPython.core.display.HTML object>"
      ]
     },
     "metadata": {},
     "output_type": "display_data"
    }
   ],
   "source": [
    "import sys\n",
    "sys.path.append('../src')\n",
    "from train import train\n",
    "\n",
    "# Mac\n",
    "# data_path = \"C:\\Users\\xmoot\\Desktop\\Data\\ssl-seizure-detection\\patient_pyg\\jh101\\supervised\"\n",
    "# logdir = \"/Users/xaviermootoo/Documents/Data/ssl-seizure-detection/models/downstream\"\n",
    "# model_path = \"/Users/xaviermootoo/Documents/Data/ssl-seizure-detection/models/jh101/model/relative_positioning.pth\"\n",
    "# model_dict_path = \"/Users/xaviermootoo/Documents/Data/ssl-seizure-detection/models/jh101/model/relative_positioning_state_dict.pth\"\n",
    "\n",
    "# PC\n",
    "data_path = r\"C:\\Users\\xmoot\\Desktop\\Data\\ssl-seizure-detection\\patient_pyg\\jh101\\supervised\"\n",
    "logdir = r\"C:\\Users\\xmoot\\Desktop\\Models\\ssl-seizure-detection\\jh101\"\n",
    "model_path = r\"C:\\Users\\xmoot\\Desktop\\Data\\ssl-seizure-detection\\patient_pyg\\test\\model\\relative_positioning.pth\"\n",
    "model_dict_path = r\"C:\\Users\\xmoot\\Desktop\\Data\\ssl-seizure-detection\\patient_pyg\\test\\model\\relative_positioning_state_dict.pth\"\n",
    "\n",
    "\n",
    "# Model configurations\n",
    "model_id1 = \"downstream1\"\n",
    "config1 = {\n",
    "        \"hidden_channels\": [64, 64, 32],\n",
    "        \"dropout\": 0.1,\n",
    "}\n",
    "\n",
    "\n",
    "model_id2 = \"downstream2\"\n",
    "config2 = {\n",
    "        \"hidden_channels\": 32,\n",
    "        \"dropout\": 0.1,\n",
    "}\n",
    "\n",
    "\n",
    "train(data_path, logdir, patient_id=\"dummy\", epochs=2, config=config1, data_size=0.05, val_ratio=0.2, test_ratio=0.1, \n",
    "          batch_size=32, num_workers=4, lr=1e-3, weight_decay=1e-3, model_id=model_id1, timing=True, \n",
    "          classify=\"multiclass\", head=\"linear\", dropout=True, datetime_id=None, run_type=\"all\", \n",
    "          frozen=False, model_path=model_path, model_dict_path=model_dict_path, transfer_id=\"relative_positioning\")"
   ]
  },
  {
   "cell_type": "markdown",
   "metadata": {},
   "source": [
    "Temporal shuffling:"
   ]
  },
  {
   "cell_type": "code",
   "execution_count": 2,
   "metadata": {},
   "outputs": [
    {
     "data": {
      "text/html": [
       "wandb version 0.16.1 is available!  To upgrade, please run:\n",
       " $ pip install wandb --upgrade"
      ],
      "text/plain": [
       "<IPython.core.display.HTML object>"
      ]
     },
     "metadata": {},
     "output_type": "display_data"
    },
    {
     "data": {
      "text/html": [
       "Tracking run with wandb version 0.15.12"
      ],
      "text/plain": [
       "<IPython.core.display.HTML object>"
      ]
     },
     "metadata": {},
     "output_type": "display_data"
    },
    {
     "data": {
      "text/html": [
       "Run data is saved locally in <code>c:\\Users\\xmoot\\Desktop\\VSCode\\ssl-seizure-detection\\notebooks\\wandb\\run-20231210_233621-eyw68ffi</code>"
      ],
      "text/plain": [
       "<IPython.core.display.HTML object>"
      ]
     },
     "metadata": {},
     "output_type": "display_data"
    },
    {
     "data": {
      "text/html": [
       "Syncing run <strong><a href='https://wandb.ai/xmootoo/ssl-seizure-detection/runs/eyw68ffi' target=\"_blank\">dummy_downstream1_None_all</a></strong> to <a href='https://wandb.ai/xmootoo/ssl-seizure-detection' target=\"_blank\">Weights & Biases</a> (<a href='https://wandb.me/run' target=\"_blank\">docs</a>)<br/>"
      ],
      "text/plain": [
       "<IPython.core.display.HTML object>"
      ]
     },
     "metadata": {},
     "output_type": "display_data"
    },
    {
     "data": {
      "text/html": [
       " View project at <a href='https://wandb.ai/xmootoo/ssl-seizure-detection' target=\"_blank\">https://wandb.ai/xmootoo/ssl-seizure-detection</a>"
      ],
      "text/plain": [
       "<IPython.core.display.HTML object>"
      ]
     },
     "metadata": {},
     "output_type": "display_data"
    },
    {
     "data": {
      "text/html": [
       " View run at <a href='https://wandb.ai/xmootoo/ssl-seizure-detection/runs/eyw68ffi' target=\"_blank\">https://wandb.ai/xmootoo/ssl-seizure-detection/runs/eyw68ffi</a>"
      ],
      "text/plain": [
       "<IPython.core.display.HTML object>"
      ]
     },
     "metadata": {},
     "output_type": "display_data"
    },
    {
     "name": "stdout",
     "output_type": "stream",
     "text": [
      "Using device: cuda\n",
      "None\n",
      "Total number of examples in dataset: 114.\n",
      "Total number of examples used: 114.\n",
      "Number of training examples: 81. Number of training batches: 3.\n",
      "Number of validation examples: 22. Number of validation batches: 1.\n",
      "Number of test examples: 11. Number of test batches: 1.\n",
      "Time elapsed after 100 batches (training): 4.502000570297241\n",
      "Time elapsed after 100 batches (evaluation): 3.020418882369995\n",
      "Epoch: 1, Train Loss: 1.9184710780779521, Train Accuracy: 55.55555555555556, Validation Loss: 0.37488746643066406, Validation Accuracy: 90.9090909090909\n",
      "Time elapsed after 100 batches (training): 3.985499382019043\n",
      "Time elapsed after 100 batches (evaluation): 3.043998956680298\n",
      "Epoch: 2, Train Loss: 0.5761664907137553, Train Accuracy: 76.54320987654322, Validation Loss: 0.3191727101802826, Validation Accuracy: 90.9090909090909\n",
      "Time elapsed after 100 batches (evaluation): 2.9595015048980713\n",
      "Training complete. Test Loss: 0.2639373540878296. Test Accuracy: 90.9090909090909.\n",
      "Training complete.\n"
     ]
    },
    {
     "data": {
      "text/html": [
       "Waiting for W&B process to finish... <strong style=\"color:green\">(success).</strong>"
      ],
      "text/plain": [
       "<IPython.core.display.HTML object>"
      ]
     },
     "metadata": {},
     "output_type": "display_data"
    },
    {
     "data": {
      "text/html": [
       "<style>\n",
       "    table.wandb td:nth-child(1) { padding: 0 10px; text-align: left ; width: auto;} td:nth-child(2) {text-align: left ; width: 100%}\n",
       "    .wandb-row { display: flex; flex-direction: row; flex-wrap: wrap; justify-content: flex-start; width: 100% }\n",
       "    .wandb-col { display: flex; flex-direction: column; flex-basis: 100%; flex: 1; padding: 10px; }\n",
       "    </style>\n",
       "<div class=\"wandb-row\"><div class=\"wandb-col\"><h3>Run history:</h3><br/><table class=\"wandb\"><tr><td>Epoch</td><td>▁█</td></tr><tr><td>Test Accuracy</td><td>▁</td></tr><tr><td>Test Loss</td><td>▁</td></tr><tr><td>Training Accuracy</td><td>▁█</td></tr><tr><td>Training Loss</td><td>█▁</td></tr><tr><td>Validation Accuracy</td><td>▁▁</td></tr><tr><td>Validation Loss</td><td>█▁</td></tr></table><br/></div><div class=\"wandb-col\"><h3>Run summary:</h3><br/><table class=\"wandb\"><tr><td>Epoch</td><td>2</td></tr><tr><td>Test Accuracy</td><td>90.90909</td></tr><tr><td>Test Loss</td><td>0.26394</td></tr><tr><td>Training Accuracy</td><td>76.54321</td></tr><tr><td>Training Loss</td><td>0.57617</td></tr><tr><td>Validation Accuracy</td><td>90.90909</td></tr><tr><td>Validation Loss</td><td>0.31917</td></tr></table><br/></div></div>"
      ],
      "text/plain": [
       "<IPython.core.display.HTML object>"
      ]
     },
     "metadata": {},
     "output_type": "display_data"
    },
    {
     "data": {
      "text/html": [
       " View run <strong style=\"color:#cdcd00\">dummy_downstream1_None_all</strong> at: <a href='https://wandb.ai/xmootoo/ssl-seizure-detection/runs/eyw68ffi' target=\"_blank\">https://wandb.ai/xmootoo/ssl-seizure-detection/runs/eyw68ffi</a><br/>Synced 6 W&B file(s), 0 media file(s), 0 artifact file(s) and 0 other file(s)"
      ],
      "text/plain": [
       "<IPython.core.display.HTML object>"
      ]
     },
     "metadata": {},
     "output_type": "display_data"
    },
    {
     "data": {
      "text/html": [
       "Find logs at: <code>.\\wandb\\run-20231210_233621-eyw68ffi\\logs</code>"
      ],
      "text/plain": [
       "<IPython.core.display.HTML object>"
      ]
     },
     "metadata": {},
     "output_type": "display_data"
    }
   ],
   "source": [
    "import sys\n",
    "sys.path.append('../src')\n",
    "from train import train\n",
    "\n",
    "\n",
    "# Mac\n",
    "data_path = \"/Users/xaviermootoo/Documents/Data/ssl-seizure-detection/patient_pyg/jh101/supervised\"\n",
    "logdir = \"/Users/xaviermootoo/Documents/Data/ssl-seizure-detection/models/downstream\"\n",
    "model_path = \"/Users/xaviermootoo/Documents/Data/ssl-seizure-detection/models/jh101/model/temporal_shuffling.pth\"\n",
    "model_dict_path = \"/Users/xaviermootoo/Documents/Data/ssl-seizure-detection/models/jh101/model/temporal_shuffling_state_dict.pth\"\n",
    "\n",
    "# PC\n",
    "data_path = r\"C:\\Users\\xmoot\\Desktop\\Data\\ssl-seizure-detection\\patient_pyg\\jh101\\supervised\"\n",
    "logdir = r\"C:\\Users\\xmoot\\Desktop\\Models\\ssl-seizure-detection\\jh101\"\n",
    "model_path = r\"C:\\Users\\xmoot\\Desktop\\Data\\ssl-seizure-detection\\patient_pyg\\test\\model\\temporal_shuffling.pth\"\n",
    "model_dict_path = r\"C:\\Users\\xmoot\\Desktop\\Data\\ssl-seizure-detection\\patient_pyg\\test\\model\\temporal_shuffling_state_dict.pth\"\n",
    "\n",
    "\n",
    "# Arguments\n",
    "patient_id = \"dummy\"\n",
    "datetime_id = None\n",
    "run_type = \"all\"\n",
    "transfer_id = \"temporal_shuffling\"\n",
    "\n",
    "\n",
    "model_id1 = \"downstream1\"\n",
    "config1 = {\n",
    "        \"hidden_channels\": [64, 64, 32],\n",
    "        \"dropout\": 0.1,\n",
    "}\n",
    "\n",
    "\n",
    "model_id2 = \"downstream2\"\n",
    "config2 = {\n",
    "        \"hidden_channels\": 32,\n",
    "        \"dropout\": 0.1,\n",
    "}\n",
    "\n",
    "train(data_path, logdir, patient_id, epochs=2, config=config1, data_size=0.05, val_ratio=0.2, test_ratio=0.1, \n",
    "          batch_size=32, num_workers=4, lr=1e-3, weight_decay=1e-3, model_id=model_id1, timing=True, \n",
    "          classify=\"binary\", head=\"linear\", dropout=True, datetime_id=datetime_id, run_type=run_type, frozen=False,\n",
    "          model_path=model_path, model_dict_path=model_dict_path, transfer_id=transfer_id)"
   ]
  },
  {
   "cell_type": "markdown",
   "metadata": {},
   "source": [
    "### VICRegT1"
   ]
  },
  {
   "cell_type": "code",
   "execution_count": 1,
   "metadata": {},
   "outputs": [
    {
     "name": "stderr",
     "output_type": "stream",
     "text": [
      "/home/xmootoo/miniconda3/envs/torch2024/lib/python3.10/site-packages/tqdm/auto.py:21: TqdmWarning: IProgress not found. Please update jupyter and ipywidgets. See https://ipywidgets.readthedocs.io/en/stable/user_install.html\n",
      "  from .autonotebook import tqdm as notebook_tqdm\n",
      "/home/xmootoo/miniconda3/envs/torch2024/lib/python3.10/site-packages/torch_geometric/graphgym/config.py:19: UserWarning: Could not define global config object. Please install 'yacs' via 'pip install yacs' in order to use GraphGym\n",
      "  warnings.warn(\"Could not define global config object. Please install \"\n",
      "Failed to detect the name of this notebook, you can set it manually with the WANDB_NOTEBOOK_NAME environment variable to enable code saving.\n",
      "\u001b[34m\u001b[1mwandb\u001b[0m: Currently logged in as: \u001b[33mxmootoo\u001b[0m. Use \u001b[1m`wandb login --relogin`\u001b[0m to force relogin\n"
     ]
    },
    {
     "data": {
      "text/html": [
       "Tracking run with wandb version 0.16.2"
      ],
      "text/plain": [
       "<IPython.core.display.HTML object>"
      ]
     },
     "metadata": {},
     "output_type": "display_data"
    },
    {
     "data": {
      "text/html": [
       "Run data is saved locally in <code>/home/xmootoo/Documents/VSCode/ssl-seizure-detection/notebooks/wandb/run-20240116_194327-5o3hblkr</code>"
      ],
      "text/plain": [
       "<IPython.core.display.HTML object>"
      ]
     },
     "metadata": {},
     "output_type": "display_data"
    },
    {
     "data": {
      "text/html": [
       "Syncing run <strong><a href='https://wandb.ai/xmootoo/Test_Bay/runs/5o3hblkr' target=\"_blank\">jh101_VICRegT1_None_all</a></strong> to <a href='https://wandb.ai/xmootoo/Test_Bay' target=\"_blank\">Weights & Biases</a> (<a href='https://wandb.me/run' target=\"_blank\">docs</a>)<br/>"
      ],
      "text/plain": [
       "<IPython.core.display.HTML object>"
      ]
     },
     "metadata": {},
     "output_type": "display_data"
    },
    {
     "data": {
      "text/html": [
       " View project at <a href='https://wandb.ai/xmootoo/Test_Bay' target=\"_blank\">https://wandb.ai/xmootoo/Test_Bay</a>"
      ],
      "text/plain": [
       "<IPython.core.display.HTML object>"
      ]
     },
     "metadata": {},
     "output_type": "display_data"
    },
    {
     "data": {
      "text/html": [
       " View run at <a href='https://wandb.ai/xmootoo/Test_Bay/runs/5o3hblkr' target=\"_blank\">https://wandb.ai/xmootoo/Test_Bay/runs/5o3hblkr</a>"
      ],
      "text/plain": [
       "<IPython.core.display.HTML object>"
      ]
     },
     "metadata": {},
     "output_type": "display_data"
    },
    {
     "name": "stdout",
     "output_type": "stream",
     "text": [
      "Using device: cuda\n",
      "Total number of examples in dataset: 2184.\n",
      "Total number of examples used: 2184.\n",
      "Number of training examples: 1530. Number of training batches: 48.\n",
      "Number of validation examples: 436. Number of validation batches: 14.\n",
      "Number of test examples: 218. Number of test batches: 7.\n",
      "Invariance loss unscaled: 318.8221, Variance loss unscaled: 0.1204, Covariance loss unscaled: 38.8333\n",
      "Time elapsed after 100 batches (training): 0.90s\n",
      "Invariance loss unscaled: 316.3354, Variance loss unscaled: 0.1773, Covariance loss unscaled: 37.2703\n",
      "Invariance loss unscaled: 186.9166, Variance loss unscaled: 0.3126, Covariance loss unscaled: 31.8838\n",
      "Invariance loss unscaled: 85.2573, Variance loss unscaled: 0.3895, Covariance loss unscaled: 38.6621\n",
      "Invariance loss unscaled: 62.7962, Variance loss unscaled: 0.4174, Covariance loss unscaled: 71.4661\n",
      "Invariance loss unscaled: 54.2681, Variance loss unscaled: 0.4207, Covariance loss unscaled: 88.1471\n",
      "Invariance loss unscaled: 46.1651, Variance loss unscaled: 0.4775, Covariance loss unscaled: 52.6254\n",
      "Invariance loss unscaled: 81.3243, Variance loss unscaled: 0.5183, Covariance loss unscaled: 28.6382\n",
      "Invariance loss unscaled: 38.1919, Variance loss unscaled: 0.6398, Covariance loss unscaled: 8.9197\n",
      "Invariance loss unscaled: 39.6742, Variance loss unscaled: 0.5753, Covariance loss unscaled: 21.7560\n",
      "Invariance loss unscaled: 49.6228, Variance loss unscaled: 0.5217, Covariance loss unscaled: 54.0899\n",
      "Invariance loss unscaled: 32.6720, Variance loss unscaled: 0.5030, Covariance loss unscaled: 55.6614\n",
      "Invariance loss unscaled: 47.4980, Variance loss unscaled: 0.4985, Covariance loss unscaled: 57.7138\n",
      "Invariance loss unscaled: 29.8624, Variance loss unscaled: 0.5323, Covariance loss unscaled: 63.4503\n",
      "Invariance loss unscaled: 37.8928, Variance loss unscaled: 0.5552, Covariance loss unscaled: 41.7065\n",
      "Invariance loss unscaled: 38.1865, Variance loss unscaled: 0.5917, Covariance loss unscaled: 28.9430\n",
      "Invariance loss unscaled: 32.1339, Variance loss unscaled: 0.6787, Covariance loss unscaled: 6.7487\n",
      "Invariance loss unscaled: 22.4060, Variance loss unscaled: 0.7215, Covariance loss unscaled: 2.6391\n",
      "Invariance loss unscaled: 30.4048, Variance loss unscaled: 0.6987, Covariance loss unscaled: 3.2143\n",
      "Invariance loss unscaled: 20.1313, Variance loss unscaled: 0.6569, Covariance loss unscaled: 12.3712\n",
      "Invariance loss unscaled: 75.3095, Variance loss unscaled: 0.5734, Covariance loss unscaled: 31.1651\n",
      "Invariance loss unscaled: 26.4574, Variance loss unscaled: 0.6747, Covariance loss unscaled: 11.6706\n",
      "Invariance loss unscaled: 8.5195, Variance loss unscaled: 0.7324, Covariance loss unscaled: 4.3931\n",
      "Invariance loss unscaled: 39.2961, Variance loss unscaled: 0.7059, Covariance loss unscaled: 5.0609\n",
      "Invariance loss unscaled: 15.6816, Variance loss unscaled: 0.6672, Covariance loss unscaled: 10.9425\n",
      "Invariance loss unscaled: 24.4649, Variance loss unscaled: 0.6049, Covariance loss unscaled: 26.6005\n",
      "Invariance loss unscaled: 7.5480, Variance loss unscaled: 0.5529, Covariance loss unscaled: 66.8583\n",
      "Invariance loss unscaled: 26.4533, Variance loss unscaled: 0.5242, Covariance loss unscaled: 89.9485\n",
      "Invariance loss unscaled: 19.0629, Variance loss unscaled: 0.5626, Covariance loss unscaled: 56.7308\n",
      "Invariance loss unscaled: 34.6124, Variance loss unscaled: 0.5705, Covariance loss unscaled: 49.4118\n",
      "Invariance loss unscaled: 21.4735, Variance loss unscaled: 0.6537, Covariance loss unscaled: 19.1731\n",
      "Invariance loss unscaled: 11.3457, Variance loss unscaled: 0.7314, Covariance loss unscaled: 8.6175\n",
      "Invariance loss unscaled: 17.4178, Variance loss unscaled: 0.7527, Covariance loss unscaled: 2.5018\n",
      "Invariance loss unscaled: 10.1401, Variance loss unscaled: 0.7859, Covariance loss unscaled: 2.3332\n",
      "Invariance loss unscaled: 16.1254, Variance loss unscaled: 0.7677, Covariance loss unscaled: 2.0227\n",
      "Invariance loss unscaled: 6.4529, Variance loss unscaled: 0.7425, Covariance loss unscaled: 5.5863\n",
      "Invariance loss unscaled: 12.4805, Variance loss unscaled: 0.7238, Covariance loss unscaled: 8.6697\n",
      "Invariance loss unscaled: 9.8931, Variance loss unscaled: 0.7033, Covariance loss unscaled: 9.8618\n",
      "Invariance loss unscaled: 13.4822, Variance loss unscaled: 0.6857, Covariance loss unscaled: 9.7973\n",
      "Invariance loss unscaled: 63.9532, Variance loss unscaled: 0.6794, Covariance loss unscaled: 13.4908\n",
      "Invariance loss unscaled: 14.7027, Variance loss unscaled: 0.7780, Covariance loss unscaled: 2.5599\n",
      "Invariance loss unscaled: 15.6136, Variance loss unscaled: 0.8368, Covariance loss unscaled: 0.8623\n",
      "Invariance loss unscaled: 11.2658, Variance loss unscaled: 0.8049, Covariance loss unscaled: 0.9291\n",
      "Invariance loss unscaled: 7.0125, Variance loss unscaled: 0.7427, Covariance loss unscaled: 4.4032\n",
      "Invariance loss unscaled: 10.8681, Variance loss unscaled: 0.6743, Covariance loss unscaled: 16.9625\n",
      "Invariance loss unscaled: 11.3037, Variance loss unscaled: 0.6209, Covariance loss unscaled: 30.1404\n",
      "Invariance loss unscaled: 16.1058, Variance loss unscaled: 0.6027, Covariance loss unscaled: 36.2742\n",
      "Invariance loss unscaled: 16.9877, Variance loss unscaled: 0.6033, Covariance loss unscaled: 35.0611\n",
      "Invariance loss unscaled: 10.9433, Variance loss unscaled: 0.6217, Covariance loss unscaled: 37.8295\n",
      "Time elapsed after 100 batches (evaluation): 0.25s\n",
      "Invariance loss unscaled: 6.4631, Variance loss unscaled: 0.5338, Covariance loss unscaled: 91.4258\n",
      "Invariance loss unscaled: 6.2047, Variance loss unscaled: 0.5936, Covariance loss unscaled: 48.8201\n",
      "Invariance loss unscaled: 17.2747, Variance loss unscaled: 0.7648, Covariance loss unscaled: 5.7912\n",
      "Invariance loss unscaled: 4.3777, Variance loss unscaled: 0.8512, Covariance loss unscaled: 0.7790\n",
      "Invariance loss unscaled: 7.7835, Variance loss unscaled: 0.7547, Covariance loss unscaled: 5.4835\n",
      "Invariance loss unscaled: 3.1154, Variance loss unscaled: 0.8392, Covariance loss unscaled: 1.2150\n",
      "Invariance loss unscaled: 13.9717, Variance loss unscaled: 0.5410, Covariance loss unscaled: 92.7558\n",
      "Invariance loss unscaled: 7.6272, Variance loss unscaled: 0.8603, Covariance loss unscaled: 0.7834\n",
      "Invariance loss unscaled: 19.8567, Variance loss unscaled: 0.5371, Covariance loss unscaled: 84.7851\n",
      "Invariance loss unscaled: 19.1938, Variance loss unscaled: 0.6549, Covariance loss unscaled: 41.0595\n",
      "Invariance loss unscaled: 11.3228, Variance loss unscaled: 0.6085, Covariance loss unscaled: 42.8904\n",
      "Invariance loss unscaled: 18.2790, Variance loss unscaled: 0.6219, Covariance loss unscaled: 38.5519\n",
      "Invariance loss unscaled: 1.6636, Variance loss unscaled: 0.8630, Covariance loss unscaled: 0.4633\n",
      "Epoch: 1, Train Loss: 1154.1291459401448, Train Accuracy: None, Validation Loss: 316.83617401123047, Validation Accuracy: None\n",
      "New lr: 0.005005\n",
      "Invariance loss unscaled: 11.6612, Variance loss unscaled: 0.6013, Covariance loss unscaled: 40.2201\n",
      "Time elapsed after 100 batches (training): 0.26s\n",
      "Invariance loss unscaled: 12.6965, Variance loss unscaled: 0.6228, Covariance loss unscaled: 29.0449\n",
      "Invariance loss unscaled: 16.1512, Variance loss unscaled: 0.6311, Covariance loss unscaled: 28.1313\n",
      "Invariance loss unscaled: 4.4306, Variance loss unscaled: 0.6605, Covariance loss unscaled: 19.6556\n",
      "Invariance loss unscaled: 10.0380, Variance loss unscaled: 0.6886, Covariance loss unscaled: 12.2271\n",
      "Invariance loss unscaled: 7.8409, Variance loss unscaled: 0.7484, Covariance loss unscaled: 3.6665\n",
      "Invariance loss unscaled: 5.9937, Variance loss unscaled: 0.7102, Covariance loss unscaled: 10.0512\n",
      "Invariance loss unscaled: 13.9692, Variance loss unscaled: 0.7597, Covariance loss unscaled: 3.4249\n",
      "Invariance loss unscaled: 8.5271, Variance loss unscaled: 0.7677, Covariance loss unscaled: 4.0567\n",
      "Invariance loss unscaled: 7.5192, Variance loss unscaled: 0.8063, Covariance loss unscaled: 1.5990\n",
      "Invariance loss unscaled: 7.4713, Variance loss unscaled: 0.8149, Covariance loss unscaled: 1.5640\n",
      "Invariance loss unscaled: 5.7920, Variance loss unscaled: 0.8489, Covariance loss unscaled: 0.2537\n",
      "Invariance loss unscaled: 5.2245, Variance loss unscaled: 0.8511, Covariance loss unscaled: 0.2810\n",
      "Invariance loss unscaled: 4.9528, Variance loss unscaled: 0.8644, Covariance loss unscaled: 0.2071\n",
      "Invariance loss unscaled: 6.3098, Variance loss unscaled: 0.8609, Covariance loss unscaled: 0.0574\n",
      "Invariance loss unscaled: 3.2933, Variance loss unscaled: 0.8794, Covariance loss unscaled: 0.1389\n",
      "Invariance loss unscaled: 5.4484, Variance loss unscaled: 0.8720, Covariance loss unscaled: 0.0535\n",
      "Invariance loss unscaled: 3.5522, Variance loss unscaled: 0.8883, Covariance loss unscaled: 0.0584\n",
      "Invariance loss unscaled: 6.0357, Variance loss unscaled: 0.8793, Covariance loss unscaled: 0.0393\n",
      "Invariance loss unscaled: 3.7796, Variance loss unscaled: 0.8883, Covariance loss unscaled: 0.0476\n",
      "Invariance loss unscaled: 5.7904, Variance loss unscaled: 0.8814, Covariance loss unscaled: 0.0467\n",
      "Invariance loss unscaled: 3.3543, Variance loss unscaled: 0.8958, Covariance loss unscaled: 0.0302\n",
      "Invariance loss unscaled: 2.3433, Variance loss unscaled: 0.9038, Covariance loss unscaled: 0.0248\n",
      "Invariance loss unscaled: 4.6568, Variance loss unscaled: 0.9000, Covariance loss unscaled: 0.0243\n",
      "Invariance loss unscaled: 3.9977, Variance loss unscaled: 0.8863, Covariance loss unscaled: 0.0274\n",
      "Invariance loss unscaled: 3.9884, Variance loss unscaled: 0.8958, Covariance loss unscaled: 0.0247\n",
      "Invariance loss unscaled: 1.0851, Variance loss unscaled: 0.9111, Covariance loss unscaled: 0.0344\n",
      "Invariance loss unscaled: 3.7813, Variance loss unscaled: 0.9118, Covariance loss unscaled: 0.0382\n",
      "Invariance loss unscaled: 2.3087, Variance loss unscaled: 0.8978, Covariance loss unscaled: 0.0673\n",
      "Invariance loss unscaled: 3.1290, Variance loss unscaled: 0.9022, Covariance loss unscaled: 0.0462\n",
      "Invariance loss unscaled: 4.2469, Variance loss unscaled: 0.8998, Covariance loss unscaled: 0.0503\n",
      "Invariance loss unscaled: 3.5969, Variance loss unscaled: 0.8992, Covariance loss unscaled: 0.1170\n",
      "Invariance loss unscaled: 4.4737, Variance loss unscaled: 0.8918, Covariance loss unscaled: 0.0459\n",
      "Invariance loss unscaled: 3.3845, Variance loss unscaled: 0.8948, Covariance loss unscaled: 0.1119\n",
      "Invariance loss unscaled: 3.7398, Variance loss unscaled: 0.8983, Covariance loss unscaled: 0.0696\n",
      "Invariance loss unscaled: 2.4209, Variance loss unscaled: 0.9055, Covariance loss unscaled: 0.0555\n",
      "Invariance loss unscaled: 3.6997, Variance loss unscaled: 0.9090, Covariance loss unscaled: 0.0564\n",
      "Invariance loss unscaled: 2.2014, Variance loss unscaled: 0.9051, Covariance loss unscaled: 0.0375\n",
      "Invariance loss unscaled: 2.5463, Variance loss unscaled: 0.8884, Covariance loss unscaled: 0.0294\n",
      "Invariance loss unscaled: 5.2025, Variance loss unscaled: 0.9022, Covariance loss unscaled: 0.0330\n",
      "Invariance loss unscaled: 3.6893, Variance loss unscaled: 0.9134, Covariance loss unscaled: 0.0318\n",
      "Invariance loss unscaled: 2.0308, Variance loss unscaled: 0.9183, Covariance loss unscaled: 0.0511\n",
      "Invariance loss unscaled: 2.5197, Variance loss unscaled: 0.9187, Covariance loss unscaled: 0.0155\n",
      "Invariance loss unscaled: 1.7028, Variance loss unscaled: 0.9222, Covariance loss unscaled: 0.0084\n",
      "Invariance loss unscaled: 3.0786, Variance loss unscaled: 0.9249, Covariance loss unscaled: 0.0252\n",
      "Invariance loss unscaled: 1.3740, Variance loss unscaled: 0.9275, Covariance loss unscaled: 0.0116\n",
      "Invariance loss unscaled: 3.1417, Variance loss unscaled: 0.9231, Covariance loss unscaled: 0.0105\n",
      "Invariance loss unscaled: 3.7769, Variance loss unscaled: 0.9170, Covariance loss unscaled: 0.0096\n",
      "Invariance loss unscaled: 0.3220, Variance loss unscaled: 0.9593, Covariance loss unscaled: 0.0016\n",
      "Time elapsed after 100 batches (evaluation): 0.27s\n",
      "Invariance loss unscaled: 0.1325, Variance loss unscaled: 0.9565, Covariance loss unscaled: 0.0023\n",
      "Invariance loss unscaled: 0.2546, Variance loss unscaled: 0.9565, Covariance loss unscaled: 0.0017\n",
      "Invariance loss unscaled: 0.4329, Variance loss unscaled: 0.9667, Covariance loss unscaled: 0.0004\n",
      "Invariance loss unscaled: 0.1415, Variance loss unscaled: 0.9730, Covariance loss unscaled: 0.0001\n",
      "Invariance loss unscaled: 0.4044, Variance loss unscaled: 0.9634, Covariance loss unscaled: 0.0006\n",
      "Invariance loss unscaled: 0.0992, Variance loss unscaled: 0.9767, Covariance loss unscaled: 0.0000\n",
      "Invariance loss unscaled: 0.1727, Variance loss unscaled: 0.9634, Covariance loss unscaled: 0.0016\n",
      "Invariance loss unscaled: 0.1647, Variance loss unscaled: 0.9747, Covariance loss unscaled: 0.0001\n",
      "Invariance loss unscaled: 0.2181, Variance loss unscaled: 0.9566, Covariance loss unscaled: 0.0031\n",
      "Invariance loss unscaled: 0.2749, Variance loss unscaled: 0.9642, Covariance loss unscaled: 0.0010\n",
      "Invariance loss unscaled: 0.1869, Variance loss unscaled: 0.9604, Covariance loss unscaled: 0.0017\n",
      "Invariance loss unscaled: 0.3141, Variance loss unscaled: 0.9598, Covariance loss unscaled: 0.0008\n",
      "Invariance loss unscaled: 0.1274, Variance loss unscaled: 0.9748, Covariance loss unscaled: 0.0001\n",
      "Epoch: 2, Train Loss: 150.61159102121988, Train Accuracy: None, Validation Loss: 29.91557720729283, Validation Accuracy: None\n",
      "New lr: 0.000010\n",
      "Invariance loss unscaled: 0.2726, Variance loss unscaled: 0.9603, Covariance loss unscaled: 0.0014\n",
      "Time elapsed after 100 batches (evaluation): 0.26s\n",
      "Invariance loss unscaled: 0.2974, Variance loss unscaled: 0.9446, Covariance loss unscaled: 0.0076\n",
      "Invariance loss unscaled: 0.3435, Variance loss unscaled: 0.9598, Covariance loss unscaled: 0.0015\n",
      "Invariance loss unscaled: 0.2055, Variance loss unscaled: 0.9617, Covariance loss unscaled: 0.0012\n",
      "Invariance loss unscaled: 0.2062, Variance loss unscaled: 0.9490, Covariance loss unscaled: 0.0036\n",
      "Invariance loss unscaled: 0.3364, Variance loss unscaled: 0.9647, Covariance loss unscaled: 0.0009\n",
      "Invariance loss unscaled: 0.1565, Variance loss unscaled: 0.9674, Covariance loss unscaled: 0.0005\n",
      "Training complete. Test Loss: 30.451040540422714. Test Accuracy: None.\n",
      "Training complete.\n"
     ]
    },
    {
     "name": "stderr",
     "output_type": "stream",
     "text": [
      "wandb: WARNING Source type is set to 'repo' but some required information is missing from the environment. A job will not be created from this run. See https://docs.wandb.ai/guides/launch/create-job\n"
     ]
    },
    {
     "data": {
      "text/html": [
       "<style>\n",
       "    table.wandb td:nth-child(1) { padding: 0 10px; text-align: left ; width: auto;} td:nth-child(2) {text-align: left ; width: 100%}\n",
       "    .wandb-row { display: flex; flex-direction: row; flex-wrap: wrap; justify-content: flex-start; width: 100% }\n",
       "    .wandb-col { display: flex; flex-direction: column; flex-basis: 100%; flex: 1; padding: 10px; }\n",
       "    </style>\n",
       "<div class=\"wandb-row\"><div class=\"wandb-col\"><h3>Run history:</h3><br/><table class=\"wandb\"><tr><td>Epoch</td><td>▁█</td></tr><tr><td>Test Loss</td><td>▁</td></tr><tr><td>Training Loss</td><td>█▁</td></tr><tr><td>Validation Loss</td><td>█▁</td></tr></table><br/></div><div class=\"wandb-col\"><h3>Run summary:</h3><br/><table class=\"wandb\"><tr><td>Epoch</td><td>2</td></tr><tr><td>Test Loss</td><td>30.45104</td></tr><tr><td>Training Loss</td><td>150.61159</td></tr><tr><td>Validation Loss</td><td>29.91558</td></tr></table><br/></div></div>"
      ],
      "text/plain": [
       "<IPython.core.display.HTML object>"
      ]
     },
     "metadata": {},
     "output_type": "display_data"
    },
    {
     "data": {
      "text/html": [
       " View run <strong style=\"color:#cdcd00\">jh101_VICRegT1_None_all</strong> at: <a href='https://wandb.ai/xmootoo/Test_Bay/runs/5o3hblkr' target=\"_blank\">https://wandb.ai/xmootoo/Test_Bay/runs/5o3hblkr</a><br/>Synced 6 W&B file(s), 0 media file(s), 0 artifact file(s) and 0 other file(s)"
      ],
      "text/plain": [
       "<IPython.core.display.HTML object>"
      ]
     },
     "metadata": {},
     "output_type": "display_data"
    },
    {
     "data": {
      "text/html": [
       "Find logs at: <code>./wandb/run-20240116_194327-5o3hblkr/logs</code>"
      ],
      "text/plain": [
       "<IPython.core.display.HTML object>"
      ]
     },
     "metadata": {},
     "output_type": "display_data"
    }
   ],
   "source": [
    "import sys\n",
    "sys.path.append('../src')\n",
    "from train import train\n",
    "from config import ModelConfig, LossConfig, TrainConfig\n",
    "\n",
    "# Linux\n",
    "data_path = \"/home/xmootoo/Documents/Data/ssl-seizure-detection/jh101/VICRegT1/5.0var_0.05tau_1.0sr/\"\n",
    "logdir = \"/home/xmootoo/Documents/Models/ssl-seizure-detection/1.0/VICRegT1/\"\n",
    "\n",
    "model_config = ModelConfig(\n",
    "    num_node_features=9,\n",
    "    num_edge_features=3,\n",
    "    hidden_channels=[64, 128, 128, 512, 512, 512],\n",
    "    batch_norm=True,\n",
    "    dropout=True,\n",
    "    p=0.1,\n",
    ")\n",
    "\n",
    "loss_config = LossConfig(\n",
    "    loss_coeffs=(25, 25, 1), \n",
    "    TSF_scale=True, \n",
    "    gamma=1, \n",
    "    epsilon=1e-4)\n",
    "\n",
    "train_config = TrainConfig(\n",
    "    data_path=data_path,\n",
    "    logdir=logdir,\n",
    "    patient_id=\"jh101\",\n",
    "    epochs=2,\n",
    "    data_size=0.03,\n",
    "    val_ratio=0.2,\n",
    "    test_ratio=0.1,\n",
    "    batch_size=32,\n",
    "    num_workers=4,\n",
    "    lr=0.01,\n",
    "    weight_decay=1e-6,\n",
    "    model_id=\"VICRegT1\",\n",
    "    timing=True,\n",
    "    datetime_id=None,\n",
    "    run_type=\"all\",\n",
    "    project_id=\"Test_Bay\",\n",
    "    patience=10000,\n",
    "    eta_min=1e-5,\n",
    "    exp_id=1.0,\n",
    ")\n",
    "\n",
    "\n",
    "train(train_config, model_config, loss_config)"
   ]
  },
  {
   "cell_type": "markdown",
   "metadata": {},
   "source": [
    "### Downstream3"
   ]
  },
  {
   "cell_type": "code",
   "execution_count": 1,
   "metadata": {},
   "outputs": [
    {
     "name": "stderr",
     "output_type": "stream",
     "text": [
      "c:\\tools\\Anaconda3\\envs\\torch2_cuda11.8\\lib\\site-packages\\torchaudio\\backend\\utils.py:74: UserWarning: No audio backend is available.\n",
      "  warnings.warn(\"No audio backend is available.\")\n",
      "Failed to detect the name of this notebook, you can set it manually with the WANDB_NOTEBOOK_NAME environment variable to enable code saving.\n",
      "\u001b[34m\u001b[1mwandb\u001b[0m: Currently logged in as: \u001b[33mxmootoo\u001b[0m. Use \u001b[1m`wandb login --relogin`\u001b[0m to force relogin\n"
     ]
    },
    {
     "data": {
      "text/html": [
       "wandb version 0.16.1 is available!  To upgrade, please run:\n",
       " $ pip install wandb --upgrade"
      ],
      "text/plain": [
       "<IPython.core.display.HTML object>"
      ]
     },
     "metadata": {},
     "output_type": "display_data"
    },
    {
     "data": {
      "text/html": [
       "Tracking run with wandb version 0.15.12"
      ],
      "text/plain": [
       "<IPython.core.display.HTML object>"
      ]
     },
     "metadata": {},
     "output_type": "display_data"
    },
    {
     "data": {
      "text/html": [
       "Run data is saved locally in <code>c:\\Users\\xmoot\\Desktop\\VSCode\\ssl-seizure-detection\\notebooks\\wandb\\run-20231216_234903-leqg2q1j</code>"
      ],
      "text/plain": [
       "<IPython.core.display.HTML object>"
      ]
     },
     "metadata": {},
     "output_type": "display_data"
    },
    {
     "data": {
      "text/html": [
       "Syncing run <strong><a href='https://wandb.ai/xmootoo/Test_Bay/runs/leqg2q1j' target=\"_blank\">dummy_downstream3_None_all</a></strong> to <a href='https://wandb.ai/xmootoo/Test_Bay' target=\"_blank\">Weights & Biases</a> (<a href='https://wandb.me/run' target=\"_blank\">docs</a>)<br/>"
      ],
      "text/plain": [
       "<IPython.core.display.HTML object>"
      ]
     },
     "metadata": {},
     "output_type": "display_data"
    },
    {
     "data": {
      "text/html": [
       " View project at <a href='https://wandb.ai/xmootoo/Test_Bay' target=\"_blank\">https://wandb.ai/xmootoo/Test_Bay</a>"
      ],
      "text/plain": [
       "<IPython.core.display.HTML object>"
      ]
     },
     "metadata": {},
     "output_type": "display_data"
    },
    {
     "data": {
      "text/html": [
       " View run at <a href='https://wandb.ai/xmootoo/Test_Bay/runs/leqg2q1j' target=\"_blank\">https://wandb.ai/xmootoo/Test_Bay/runs/leqg2q1j</a>"
      ],
      "text/plain": [
       "<IPython.core.display.HTML object>"
      ]
     },
     "metadata": {},
     "output_type": "display_data"
    },
    {
     "name": "stdout",
     "output_type": "stream",
     "text": [
      "Using device: cuda\n",
      "Total number of examples in dataset: 230.\n",
      "Total number of examples used: 230.\n",
      "Number of training examples: 161. Number of training batches: 6.\n",
      "Number of validation examples: 46. Number of validation batches: 2.\n",
      "Number of test examples: 23. Number of test batches: 1.\n",
      "Time elapsed after 100 batches (training): 3.52s\n",
      "Time elapsed after 100 batches (evaluation): 2.87s\n",
      "Epoch: 1, Train Loss: 0.3737010558446248, Train Accuracy: 83.85093167701864, Validation Loss: 0.7598891854286194, Validation Accuracy: 86.95652173913044\n",
      "Time elapsed after 100 batches (training): 3.00s\n",
      "Time elapsed after 100 batches (evaluation): 2.88s\n",
      "Epoch: 2, Train Loss: 0.35824765016635257, Train Accuracy: 86.33540372670808, Validation Loss: 0.549247533082962, Validation Accuracy: 80.43478260869566\n",
      "Time elapsed after 100 batches (training): 2.89s\n",
      "Time elapsed after 100 batches (evaluation): 2.57s\n",
      "Epoch: 3, Train Loss: 0.30598020801941556, Train Accuracy: 86.95652173913044, Validation Loss: 0.4354470521211624, Validation Accuracy: 84.78260869565217\n",
      "Time elapsed after 100 batches (training): 3.04s\n",
      "Time elapsed after 100 batches (evaluation): 2.83s\n",
      "Epoch: 4, Train Loss: 0.28747732440630597, Train Accuracy: 86.33540372670808, Validation Loss: 0.3802538514137268, Validation Accuracy: 84.78260869565217\n",
      "Time elapsed after 100 batches (training): 3.13s\n",
      "Time elapsed after 100 batches (evaluation): 2.72s\n",
      "Epoch: 5, Train Loss: 0.262720229725043, Train Accuracy: 86.95652173913044, Validation Loss: 0.3972380608320236, Validation Accuracy: 86.95652173913044\n",
      "Time elapsed after 100 batches (training): 2.85s\n",
      "Time elapsed after 100 batches (evaluation): 2.66s\n",
      "Epoch: 6, Train Loss: 0.25353922819097835, Train Accuracy: 87.5776397515528, Validation Loss: 0.42555975914001465, Validation Accuracy: 86.95652173913044\n",
      "Time elapsed after 100 batches (training): 2.89s\n",
      "Time elapsed after 100 batches (evaluation): 2.61s\n",
      "Epoch: 7, Train Loss: 0.24412561456362405, Train Accuracy: 87.5776397515528, Validation Loss: 0.4192555993795395, Validation Accuracy: 86.95652173913044\n",
      "Time elapsed after 100 batches (training): 2.87s\n",
      "Time elapsed after 100 batches (evaluation): 2.55s\n",
      "Epoch: 8, Train Loss: 0.23224514226118723, Train Accuracy: 90.6832298136646, Validation Loss: 0.4141577035188675, Validation Accuracy: 82.6086956521739\n",
      "Time elapsed after 100 batches (training): 2.90s\n",
      "Time elapsed after 100 batches (evaluation): 2.59s\n",
      "Epoch: 9, Train Loss: 0.22128350287675858, Train Accuracy: 90.06211180124224, Validation Loss: 0.4122242033481598, Validation Accuracy: 82.6086956521739\n",
      "Time elapsed after 100 batches (training): 2.88s\n",
      "Time elapsed after 100 batches (evaluation): 2.60s\n",
      "Epoch: 10, Train Loss: 0.21000769113500914, Train Accuracy: 90.6832298136646, Validation Loss: 0.41441451013088226, Validation Accuracy: 86.95652173913044\n",
      "Time elapsed after 100 batches (training): 3.08s\n",
      "Time elapsed after 100 batches (evaluation): 2.86s\n",
      "Epoch: 11, Train Loss: 0.2002290946741899, Train Accuracy: 91.30434782608695, Validation Loss: 0.4151405990123749, Validation Accuracy: 84.78260869565217\n",
      "Time elapsed after 100 batches (training): 3.05s\n",
      "Time elapsed after 100 batches (evaluation): 2.89s\n",
      "Epoch: 12, Train Loss: 0.1903183956940969, Train Accuracy: 90.6832298136646, Validation Loss: 0.4176039844751358, Validation Accuracy: 84.78260869565217\n",
      "Time elapsed after 100 batches (training): 2.89s\n",
      "Time elapsed after 100 batches (evaluation): 2.69s\n",
      "Epoch: 13, Train Loss: 0.18055077021320662, Train Accuracy: 91.30434782608695, Validation Loss: 0.42239323258399963, Validation Accuracy: 84.78260869565217\n",
      "Time elapsed after 100 batches (training): 2.92s\n",
      "Time elapsed after 100 batches (evaluation): 2.66s\n",
      "Epoch: 14, Train Loss: 0.17074388824403286, Train Accuracy: 91.30434782608695, Validation Loss: 0.4251963049173355, Validation Accuracy: 84.78260869565217\n",
      "Time elapsed after 100 batches (training): 2.95s\n",
      "Time elapsed after 100 batches (evaluation): 2.56s\n",
      "Epoch: 15, Train Loss: 0.16095459337035814, Train Accuracy: 91.30434782608695, Validation Loss: 0.42332157492637634, Validation Accuracy: 86.95652173913044\n",
      "Time elapsed after 100 batches (training): 2.85s\n",
      "Time elapsed after 100 batches (evaluation): 2.53s\n",
      "Epoch: 16, Train Loss: 0.15120105383296809, Train Accuracy: 91.30434782608695, Validation Loss: 0.4131416976451874, Validation Accuracy: 86.95652173913044\n",
      "Time elapsed after 100 batches (training): 2.95s\n",
      "Time elapsed after 100 batches (evaluation): 2.59s\n",
      "Epoch: 17, Train Loss: 0.14092933324476084, Train Accuracy: 93.16770186335404, Validation Loss: 0.39782416820526123, Validation Accuracy: 86.95652173913044\n",
      "Time elapsed after 100 batches (training): 2.79s\n",
      "Time elapsed after 100 batches (evaluation): 2.53s\n",
      "Epoch: 18, Train Loss: 0.13032321507732073, Train Accuracy: 93.7888198757764, Validation Loss: 0.3804096132516861, Validation Accuracy: 86.95652173913044\n",
      "Time elapsed after 100 batches (training): 3.10s\n",
      "Time elapsed after 100 batches (evaluation): 3.12s\n",
      "Epoch: 19, Train Loss: 0.11928852026661237, Train Accuracy: 93.7888198757764, Validation Loss: 0.3629259243607521, Validation Accuracy: 86.95652173913044\n",
      "Time elapsed after 100 batches (training): 2.98s\n",
      "Time elapsed after 100 batches (evaluation): 2.92s\n",
      "Epoch: 20, Train Loss: 0.10776035736004512, Train Accuracy: 94.40993788819875, Validation Loss: 0.3528404012322426, Validation Accuracy: 86.95652173913044\n",
      "Time elapsed after 100 batches (training): 3.31s\n",
      "Time elapsed after 100 batches (evaluation): 2.83s\n",
      "Epoch: 21, Train Loss: 0.09657447288433711, Train Accuracy: 94.40993788819875, Validation Loss: 0.3679318055510521, Validation Accuracy: 86.95652173913044\n",
      "Time elapsed after 100 batches (training): 2.82s\n",
      "Time elapsed after 100 batches (evaluation): 2.60s\n",
      "Epoch: 22, Train Loss: 0.08544218664367993, Train Accuracy: 96.8944099378882, Validation Loss: 0.3831646591424942, Validation Accuracy: 84.78260869565217\n",
      "Time elapsed after 100 batches (training): 2.87s\n",
      "Time elapsed after 100 batches (evaluation): 2.63s\n",
      "Epoch: 23, Train Loss: 0.07399424693236749, Train Accuracy: 97.51552795031056, Validation Loss: 0.3907533809542656, Validation Accuracy: 84.78260869565217\n",
      "Time elapsed after 100 batches (training): 2.90s\n",
      "Time elapsed after 100 batches (evaluation): 2.81s\n",
      "Epoch: 24, Train Loss: 0.06431173409024875, Train Accuracy: 99.37888198757764, Validation Loss: 0.38407424092292786, Validation Accuracy: 84.78260869565217\n",
      "Time elapsed after 100 batches (training): 3.35s\n",
      "Time elapsed after 100 batches (evaluation): 2.74s\n",
      "Epoch: 25, Train Loss: 0.05480860328922669, Train Accuracy: 99.37888198757764, Validation Loss: 0.3800913617014885, Validation Accuracy: 82.6086956521739\n",
      "Time elapsed after 100 batches (training): 3.05s\n",
      "Time elapsed after 100 batches (evaluation): 2.68s\n",
      "Epoch: 26, Train Loss: 0.04683096179117759, Train Accuracy: 99.37888198757764, Validation Loss: 0.3752043768763542, Validation Accuracy: 84.78260869565217\n",
      "Time elapsed after 100 batches (training): 2.91s\n",
      "Time elapsed after 100 batches (evaluation): 2.75s\n",
      "Epoch: 27, Train Loss: 0.03988808703919252, Train Accuracy: 100.0, Validation Loss: 0.36439915746450424, Validation Accuracy: 84.78260869565217\n",
      "Time elapsed after 100 batches (training): 2.91s\n",
      "Time elapsed after 100 batches (evaluation): 2.76s\n",
      "Epoch: 28, Train Loss: 0.03401946990440289, Train Accuracy: 100.0, Validation Loss: 0.35372244566679, Validation Accuracy: 84.78260869565217\n",
      "Time elapsed after 100 batches (training): 2.86s\n",
      "Time elapsed after 100 batches (evaluation): 2.80s\n",
      "Epoch: 29, Train Loss: 0.029142709138492744, Train Accuracy: 100.0, Validation Loss: 0.34938354790210724, Validation Accuracy: 86.95652173913044\n",
      "Time elapsed after 100 batches (training): 3.02s\n",
      "Time elapsed after 100 batches (evaluation): 2.83s\n",
      "Epoch: 30, Train Loss: 0.02519000166406234, Train Accuracy: 100.0, Validation Loss: 0.3460400700569153, Validation Accuracy: 86.95652173913044\n",
      "Training complete. Test Loss: 0.6279059648513794. Test Accuracy: 86.95652173913044.\n",
      "Training complete.\n"
     ]
    },
    {
     "data": {
      "text/html": [
       "Waiting for W&B process to finish... <strong style=\"color:green\">(success).</strong>"
      ],
      "text/plain": [
       "<IPython.core.display.HTML object>"
      ]
     },
     "metadata": {},
     "output_type": "display_data"
    },
    {
     "data": {
      "text/html": [
       "<style>\n",
       "    table.wandb td:nth-child(1) { padding: 0 10px; text-align: left ; width: auto;} td:nth-child(2) {text-align: left ; width: 100%}\n",
       "    .wandb-row { display: flex; flex-direction: row; flex-wrap: wrap; justify-content: flex-start; width: 100% }\n",
       "    .wandb-col { display: flex; flex-direction: column; flex-basis: 100%; flex: 1; padding: 10px; }\n",
       "    </style>\n",
       "<div class=\"wandb-row\"><div class=\"wandb-col\"><h3>Run history:</h3><br/><table class=\"wandb\"><tr><td>Epoch</td><td>▁▁▁▂▂▂▂▃▃▃▃▄▄▄▄▅▅▅▅▆▆▆▆▇▇▇▇███</td></tr><tr><td>Test Accuracy</td><td>▁</td></tr><tr><td>Test Loss</td><td>▁</td></tr><tr><td>Training Accuracy</td><td>▁▂▂▂▂▃▃▄▄▄▄▄▄▄▄▄▅▅▅▆▆▇▇███████</td></tr><tr><td>Training Loss</td><td>██▇▆▆▆▅▅▅▅▅▄▄▄▄▄▃▃▃▃▂▂▂▂▂▁▁▁▁▁</td></tr><tr><td>Validation Accuracy</td><td>█▁▆▆███▃▃█▆▆▆▆███████▆▆▆▃▆▆▆██</td></tr><tr><td>Validation Loss</td><td>█▄▃▂▂▂▂▂▂▂▂▂▂▂▂▂▂▂▁▁▁▂▂▂▂▁▁▁▁▁</td></tr></table><br/></div><div class=\"wandb-col\"><h3>Run summary:</h3><br/><table class=\"wandb\"><tr><td>Epoch</td><td>30</td></tr><tr><td>Test Accuracy</td><td>86.95652</td></tr><tr><td>Test Loss</td><td>0.62791</td></tr><tr><td>Training Accuracy</td><td>100.0</td></tr><tr><td>Training Loss</td><td>0.02519</td></tr><tr><td>Validation Accuracy</td><td>86.95652</td></tr><tr><td>Validation Loss</td><td>0.34604</td></tr></table><br/></div></div>"
      ],
      "text/plain": [
       "<IPython.core.display.HTML object>"
      ]
     },
     "metadata": {},
     "output_type": "display_data"
    },
    {
     "data": {
      "text/html": [
       " View run <strong style=\"color:#cdcd00\">dummy_downstream3_None_all</strong> at: <a href='https://wandb.ai/xmootoo/Test_Bay/runs/leqg2q1j' target=\"_blank\">https://wandb.ai/xmootoo/Test_Bay/runs/leqg2q1j</a><br/>Synced 6 W&B file(s), 0 media file(s), 0 artifact file(s) and 0 other file(s)"
      ],
      "text/plain": [
       "<IPython.core.display.HTML object>"
      ]
     },
     "metadata": {},
     "output_type": "display_data"
    },
    {
     "data": {
      "text/html": [
       "Find logs at: <code>.\\wandb\\run-20231216_234903-leqg2q1j\\logs</code>"
      ],
      "text/plain": [
       "<IPython.core.display.HTML object>"
      ]
     },
     "metadata": {},
     "output_type": "display_data"
    }
   ],
   "source": [
    "import sys\n",
    "sys.path.append('../src')\n",
    "from train import train\n",
    "\n",
    "# PC\n",
    "data_path = r\"C:\\Users\\xmoot\\Desktop\\Data\\ssl-seizure-detection\\patient_pyg\\jh101\\supervised\"\n",
    "logdir = r\"C:\\Users\\xmoot\\Desktop\\Data\\ssl-seizure-detection\\patient_pyg\\test\"\n",
    "transfer_id = \"VICRegT1\"\n",
    "model_path = rf\"C:\\Users\\xmoot\\Desktop\\Data\\ssl-seizure-detection\\patient_pyg\\test\\model\\{transfer_id}.pth\"\n",
    "model_dict_path = rf\"C:\\Users\\xmoot\\Desktop\\Data\\ssl-seizure-detection\\patient_pyg\\test\\model\\{transfer_id}_state_dict.pth\"\n",
    "\n",
    "\n",
    "# Model parameters\n",
    "config = {\"classify\": \"binary\", \"head\": \"linear\"}\n",
    "\n",
    "train(data_path=data_path, logdir=logdir, patient_id=\"dummy\", epochs=30, config=config, data_size=0.1, val_ratio=0.2, test_ratio=0.1, \n",
    "          batch_size=32, num_workers=4, lr=[1e-3, 0.02], weight_decay=1e-3, model_id=\"downstream3\", timing=True, \n",
    "          classify=config[\"classify\"], head=config[\"head\"], dropout=False, datetime_id=None, run_type=\"all\", requires_grad=True,\n",
    "          model_path=model_path, model_dict_path=model_dict_path, transfer_id=\"VICRegT1\", train_ratio=None, loss_config=None,\n",
    "          project_id=\"Test_Bay\", patience = 20, eta_min=0.002)"
   ]
  }
 ],
 "metadata": {
  "kernelspec": {
   "display_name": "torch2_mps",
   "language": "python",
   "name": "python3"
  },
  "language_info": {
   "codemirror_mode": {
    "name": "ipython",
    "version": 3
   },
   "file_extension": ".py",
   "mimetype": "text/x-python",
   "name": "python",
   "nbconvert_exporter": "python",
   "pygments_lexer": "ipython3",
   "version": "3.10.13"
  },
  "orig_nbformat": 4
 },
 "nbformat": 4,
 "nbformat_minor": 2
}
