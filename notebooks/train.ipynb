{
 "cells": [
  {
   "cell_type": "code",
   "execution_count": null,
   "metadata": {},
   "outputs": [],
   "source": [
    "import sys\n",
    "sys.path.append('../src')\n",
    "from train import train"
   ]
  },
  {
   "cell_type": "markdown",
   "metadata": {},
   "source": [
    "#### Supervised Model"
   ]
  },
  {
   "cell_type": "code",
   "execution_count": null,
   "metadata": {},
   "outputs": [],
   "source": [
    "# Mac \n",
    "data_path = \"/Users/xaviermootoo/Documents/Data/ssl-seizure-detection/patient_pyg/jh101/supervised\"\n",
    "# data_path = \"/Users/xaviermootoo/Documents/Data/ssl-seizure-detection/patient_pyg/ummc006/supervised\"\n",
    "logdir = \"/Users/xaviermootoo/Documents/Data/ssl-seizure-detection/models/jh101\"\n",
    "\n",
    "# PC\n",
    "# data_path = r\"C:\\Users\\xmoot\\Desktop\\Data\\ssl-seizure-detection\\patient_pyg\\jh101\\supervised\"\n",
    "# logdir = r\"C:\\Users\\xmoot\\Desktop\\Data\\ssl-seizure-detection\\patient_pyg\\test\"\n",
    "\n",
    "# Training parameters\n",
    "patient_id = \"dummy\"\n",
    "epochs = 1\n",
    "model_name = \"supervised\"\n",
    "\n",
    "config = {\n",
    "    \"num_node_features\": 9,\n",
    "    \"num_edge_features\": 3,\n",
    "    \"hidden_channels\": 64,\n",
    "    \"out_channels\": 32,\n",
    "    \"dropout\": 0.1,\n",
    "}\n",
    "data_size = 1.0\n",
    "\n",
    "train(data_path, logdir, patient_id, epochs, config, data_size=data_size, val_ratio=0.2, test_ratio=0.1, \n",
    "          batch_size=32, num_workers=4, lr=1e-3, weight_decay=1e-3, model_id=\"supervised\", timing=True, \n",
    "          classify=\"binary\", head=\"linear\", dropout=True, datetime_id=None, run_type=\"all\")"
   ]
  },
  {
   "cell_type": "markdown",
   "metadata": {},
   "source": [
    "#### Relative Positioning Model"
   ]
  },
  {
   "cell_type": "code",
   "execution_count": null,
   "metadata": {},
   "outputs": [],
   "source": [
    "# Mac\n",
    "data_path = \"/Users/xaviermootoo/Documents/Data/ssl-seizure-detection/patient_pyg/jh101/relative_positioning/12s_90s\"\n",
    "logdir = \"/Users/xaviermootoo/Documents/Data/ssl-seizure-detection/models/jh101\"\n",
    "\n",
    "# PC\n",
    "# data_path = r\"C:\\Users\\xmoot\\Desktop\\Data\\ssl-seizure-detection\\patient_pyg\\jh101\\relative_positioning\"\n",
    "# logdir = r\"C:\\Users\\xmoot\\Desktop\\Data\\ssl-seizure-detection\\patient_pyg\\test\"\n",
    "\n",
    "# Training parameters\n",
    "patient_id = \"dummy\"\n",
    "epochs = 1\n",
    "model_id = \"relative_positioning\"\n",
    "\n",
    "config = {\n",
    "    \"num_node_features\": 9,\n",
    "    \"num_edge_features\": 3,\n",
    "    \"hidden_channels\": [64, 32, 64, 128, 256],\n",
    "    }\n",
    "data_size=5000\n",
    "\n",
    "train(data_path, logdir, patient_id, epochs, config, data_size=data_size, val_ratio=0.2, test_ratio=0.1, \n",
    "          batch_size=32, num_workers=4, lr=1e-3, weight_decay=1e-3, model_id=\"relative_positioning\", timing=True, \n",
    "          classify=\"binary\", head=\"linear\", dropout=True, datetime_id=None, run_type=\"all\")"
   ]
  },
  {
   "cell_type": "markdown",
   "metadata": {},
   "source": [
    "#### Temporal Shuffling Model"
   ]
  },
  {
   "cell_type": "code",
   "execution_count": null,
   "metadata": {},
   "outputs": [],
   "source": [
    "# Mac\n",
    "data_path = \"/Users/xaviermootoo/Documents/Data/ssl-seizure-detection/patient_pyg/jh101/temporal_shuffling/12s_90s\"\n",
    "logdir = \"/Users/xaviermootoo/Documents/Data/ssl-seizure-detection/models/jh101\"\n",
    "\n",
    "# PC\n",
    "# data_path = r\"C:\\Users\\xmoot\\Desktop\\Data\\ssl-seizure-detection\\patient_pyg\\jh101\\temporal_shuffling\"\n",
    "# logdir = r\"C:\\Users\\xmoot\\Desktop\\Data\\ssl-seizure-detection\\patient_pyg\\test\"\n",
    "\n",
    "# Training parameters\n",
    "patient_id = \"dummy\"\n",
    "epochs = 1\n",
    "model_id = \"temporal_shuffling\"\n",
    "\n",
    "config = {\n",
    "    \"num_node_features\": 9,\n",
    "    \"num_edge_features\": 3,\n",
    "    \"hidden_channels\": [64, 32, 64, 128, 256],\n",
    "}\n",
    "data_size = 1000\n",
    "\n",
    "train(data_path, logdir, patient_id, epochs, config, data_size=data_size, val_ratio=0.8, test_ratio=0.1, \n",
    "          batch_size=32, num_workers=4, lr=1e-3, weight_decay=1e-3, model_id=\"temporal_shuffling\", timing=True, \n",
    "          classify=\"binary\", head=\"linear\", dropout=True, datetime_id=None, run_type=\"all\")"
   ]
  },
  {
   "cell_type": "markdown",
   "metadata": {},
   "source": [
    "#### Transfer Learning"
   ]
  },
  {
   "cell_type": "code",
   "execution_count": 2,
   "metadata": {},
   "outputs": [
    {
     "name": "stderr",
     "output_type": "stream",
     "text": [
      "c:\\tools\\Anaconda3\\envs\\torch2_cuda11.8\\lib\\site-packages\\torch_geometric\\graphgym\\config.py:19: UserWarning: Could not define global config object. Please install 'yacs' via 'pip install yacs' in order to use GraphGym\n",
      "  warnings.warn(\"Could not define global config object. Please install \"\n",
      "c:\\tools\\Anaconda3\\envs\\torch2_cuda11.8\\lib\\site-packages\\torchaudio\\backend\\utils.py:74: UserWarning: No audio backend is available.\n",
      "  warnings.warn(\"No audio backend is available.\")\n",
      "Failed to detect the name of this notebook, you can set it manually with the WANDB_NOTEBOOK_NAME environment variable to enable code saving.\n",
      "\u001b[34m\u001b[1mwandb\u001b[0m: Currently logged in as: \u001b[33mxmootoo\u001b[0m. Use \u001b[1m`wandb login --relogin`\u001b[0m to force relogin\n"
     ]
    },
    {
     "data": {
      "text/html": [
       "Tracking run with wandb version 0.15.12"
      ],
      "text/plain": [
       "<IPython.core.display.HTML object>"
      ]
     },
     "metadata": {},
     "output_type": "display_data"
    },
    {
     "data": {
      "text/html": [
       "Run data is saved locally in <code>c:\\Users\\xmoot\\Desktop\\VSCode\\ssl-seizure-detection\\notebooks\\wandb\\run-20231028_153012-72kef9hg</code>"
      ],
      "text/plain": [
       "<IPython.core.display.HTML object>"
      ]
     },
     "metadata": {},
     "output_type": "display_data"
    },
    {
     "data": {
      "text/html": [
       "Syncing run <strong><a href='https://wandb.ai/xmootoo/ssl-seizure-detection/runs/72kef9hg' target=\"_blank\">dummy_downstream1_None_combined</a></strong> to <a href='https://wandb.ai/xmootoo/ssl-seizure-detection' target=\"_blank\">Weights & Biases</a> (<a href='https://wandb.me/run' target=\"_blank\">docs</a>)<br/>"
      ],
      "text/plain": [
       "<IPython.core.display.HTML object>"
      ]
     },
     "metadata": {},
     "output_type": "display_data"
    },
    {
     "data": {
      "text/html": [
       " View project at <a href='https://wandb.ai/xmootoo/ssl-seizure-detection' target=\"_blank\">https://wandb.ai/xmootoo/ssl-seizure-detection</a>"
      ],
      "text/plain": [
       "<IPython.core.display.HTML object>"
      ]
     },
     "metadata": {},
     "output_type": "display_data"
    },
    {
     "data": {
      "text/html": [
       " View run at <a href='https://wandb.ai/xmootoo/ssl-seizure-detection/runs/72kef9hg' target=\"_blank\">https://wandb.ai/xmootoo/ssl-seizure-detection/runs/72kef9hg</a>"
      ],
      "text/plain": [
       "<IPython.core.display.HTML object>"
      ]
     },
     "metadata": {},
     "output_type": "display_data"
    },
    {
     "name": "stdout",
     "output_type": "stream",
     "text": [
      "Using device: cuda\n",
      "Total number of examples in dataset: 114.\n",
      "Total number of examples used: 114.\n",
      "Number of training examples: 91. Number of training batches: 3.\n",
      "Number of validation examples: 23. Number of validation batches: 1.\n",
      "Number of test examples: 12. Number of test batches: 1.\n",
      "Time elapsed after 100 batches (training): 5.245997190475464\n",
      "Time elapsed after 100 batches (evaluation): 3.0409908294677734\n",
      "Epoch: 1, Train Loss: 1.7619579434394836, Train Accuracy: 70.32967032967034, Validation Loss: 0.8314409255981445, Validation Accuracy: 73.91304347826087\n",
      "Time elapsed after 100 batches (training): 3.364001512527466\n",
      "Time elapsed after 100 batches (evaluation): 2.979996919631958\n",
      "Epoch: 2, Train Loss: 0.8047553499539694, Train Accuracy: 76.92307692307692, Validation Loss: 0.6233078837394714, Validation Accuracy: 73.91304347826087\n",
      "Time elapsed after 100 batches (evaluation): 2.9710004329681396\n",
      "Epoch: 2. Test Loss: 0.7712494134902954. Test Accuracy: 66.66666666666667.\n",
      "Training complete.\n"
     ]
    },
    {
     "data": {
      "text/html": [
       "Waiting for W&B process to finish... <strong style=\"color:green\">(success).</strong>"
      ],
      "text/plain": [
       "<IPython.core.display.HTML object>"
      ]
     },
     "metadata": {},
     "output_type": "display_data"
    },
    {
     "data": {
      "text/html": [
       "<style>\n",
       "    table.wandb td:nth-child(1) { padding: 0 10px; text-align: left ; width: auto;} td:nth-child(2) {text-align: left ; width: 100%}\n",
       "    .wandb-row { display: flex; flex-direction: row; flex-wrap: wrap; justify-content: flex-start; width: 100% }\n",
       "    .wandb-col { display: flex; flex-direction: column; flex-basis: 100%; flex: 1; padding: 10px; }\n",
       "    </style>\n",
       "<div class=\"wandb-row\"><div class=\"wandb-col\"><h3>Run history:</h3><br/><table class=\"wandb\"><tr><td>Epoch</td><td>▁█</td></tr><tr><td>Test Accuracy</td><td>▁</td></tr><tr><td>Test Loss</td><td>▁</td></tr><tr><td>Training Accuracy</td><td>▁█</td></tr><tr><td>Training Loss</td><td>█▁</td></tr><tr><td>Validation Accuracy</td><td>▁▁</td></tr><tr><td>Validation Loss</td><td>█▁</td></tr></table><br/></div><div class=\"wandb-col\"><h3>Run summary:</h3><br/><table class=\"wandb\"><tr><td>Epoch</td><td>2</td></tr><tr><td>Test Accuracy</td><td>66.66667</td></tr><tr><td>Test Loss</td><td>0.77125</td></tr><tr><td>Training Accuracy</td><td>76.92308</td></tr><tr><td>Training Loss</td><td>0.80476</td></tr><tr><td>Validation Accuracy</td><td>73.91304</td></tr><tr><td>Validation Loss</td><td>0.62331</td></tr></table><br/></div></div>"
      ],
      "text/plain": [
       "<IPython.core.display.HTML object>"
      ]
     },
     "metadata": {},
     "output_type": "display_data"
    },
    {
     "data": {
      "text/html": [
       " View run <strong style=\"color:#cdcd00\">dummy_downstream1_None_combined</strong> at: <a href='https://wandb.ai/xmootoo/ssl-seizure-detection/runs/72kef9hg' target=\"_blank\">https://wandb.ai/xmootoo/ssl-seizure-detection/runs/72kef9hg</a><br/>Synced 6 W&B file(s), 0 media file(s), 0 artifact file(s) and 0 other file(s)"
      ],
      "text/plain": [
       "<IPython.core.display.HTML object>"
      ]
     },
     "metadata": {},
     "output_type": "display_data"
    },
    {
     "data": {
      "text/html": [
       "Find logs at: <code>.\\wandb\\run-20231028_153012-72kef9hg\\logs</code>"
      ],
      "text/plain": [
       "<IPython.core.display.HTML object>"
      ]
     },
     "metadata": {},
     "output_type": "display_data"
    }
   ],
   "source": [
    "import sys\n",
    "sys.path.append('../src')\n",
    "from train import train\n",
    "\n",
    "#Mac\n",
    "# data_path = \"C:\\Users\\xmoot\\Desktop\\Data\\ssl-seizure-detection\\patient_pyg\\jh101\\supervised\"\n",
    "# logdir = \"/Users/xaviermootoo/Documents/Data/ssl-seizure-detection/models/downstream\"\n",
    "# model_path = \"/Users/xaviermootoo/Documents/Data/ssl-seizure-detection/models/jh101/model/relative_positioning.pth\"\n",
    "# model_dict_path = \"/Users/xaviermootoo/Documents/Data/ssl-seizure-detection/models/jh101/model/relative_positioning_state_dict.pth\"\n",
    "\n",
    "# PC\n",
    "data_path = r\"C:\\Users\\xmoot\\Desktop\\Data\\ssl-seizure-detection\\patient_pyg\\jh101\\supervised\"\n",
    "logdir = r\"C:\\Users\\xmoot\\Desktop\\Models\\ssl-seizure-detection\\jh101\"\n",
    "model_path = r\"C:\\Users\\xmoot\\Desktop\\Models\\ssl-seizure-detection\\jh101\\model\\relative_positioning.pth\"\n",
    "model_dict_path = r\"C:\\Users\\xmoot\\Desktop\\Models\\ssl-seizure-detection\\jh101\\model\\relative_positioning_state_dict.pth\"\n",
    "\n",
    "\n",
    "# Training parameters\n",
    "model_id = \"downstream1\"\n",
    "\n",
    "config = {\n",
    "        \"hidden_channels\": [64, 64, 32],\n",
    "        \"dropout\": 0.1,\n",
    "}\n",
    "\n",
    "train(data_path, logdir, patient_id=\"dummy\", epochs=2, config=config, data_size=0.05, val_ratio=0.2, test_ratio=0.1, \n",
    "          batch_size=32, num_workers=4, lr=1e-3, weight_decay=1e-3, model_id=model_id, timing=True, \n",
    "          classify=\"binary\", head=\"linear\", dropout=True, datetime_id=None, run_type=\"all\", \n",
    "          frozen=False, model_path=model_path, model_dict_path=model_dict_path, transfer_id=\"relative_positioning\")"
   ]
  },
  {
   "cell_type": "markdown",
   "metadata": {},
   "source": [
    "Temporal shuffling:"
   ]
  },
  {
   "cell_type": "code",
   "execution_count": 1,
   "metadata": {},
   "outputs": [
    {
     "name": "stdout",
     "output_type": "stream",
     "text": [
      "Intel MKL WARNING: Support of Intel(R) Streaming SIMD Extensions 4.2 (Intel(R) SSE4.2) enabled only processors has been deprecated. Intel oneAPI Math Kernel Library 2025.0 will require Intel(R) Advanced Vector Extensions (Intel(R) AVX) instructions.\n",
      "Intel MKL WARNING: Support of Intel(R) Streaming SIMD Extensions 4.2 (Intel(R) SSE4.2) enabled only processors has been deprecated. Intel oneAPI Math Kernel Library 2025.0 will require Intel(R) Advanced Vector Extensions (Intel(R) AVX) instructions.\n"
     ]
    },
    {
     "name": "stderr",
     "output_type": "stream",
     "text": [
      "/Users/xaviermootoo/opt/anaconda3/envs/torch2_mps/lib/python3.10/site-packages/torch_geometric/graphgym/config.py:19: UserWarning: Could not define global config object. Please install 'yacs' via 'pip install yacs' in order to use GraphGym\n",
      "  warnings.warn(\"Could not define global config object. Please install \"\n",
      "Failed to detect the name of this notebook, you can set it manually with the WANDB_NOTEBOOK_NAME environment variable to enable code saving.\n"
     ]
    },
    {
     "name": "stdout",
     "output_type": "stream",
     "text": [
      "Intel MKL WARNING: Support of Intel(R) Streaming SIMD Extensions 4.2 (Intel(R) SSE4.2) enabled only processors has been deprecated. Intel oneAPI Math Kernel Library 2025.0 will require Intel(R) Advanced Vector Extensions (Intel(R) AVX) instructions.\n",
      "Intel MKL WARNING: Support of Intel(R) Streaming SIMD Extensions 4.2 (Intel(R) SSE4.2) enabled only processors has been deprecated. Intel oneAPI Math Kernel Library 2025.0 will require Intel(R) Advanced Vector Extensions (Intel(R) AVX) instructions.\n"
     ]
    },
    {
     "name": "stderr",
     "output_type": "stream",
     "text": [
      "\u001b[34m\u001b[1mwandb\u001b[0m: Currently logged in as: \u001b[33mxmootoo\u001b[0m. Use \u001b[1m`wandb login --relogin`\u001b[0m to force relogin\n"
     ]
    },
    {
     "data": {
      "text/html": [
       "Tracking run with wandb version 0.15.12"
      ],
      "text/plain": [
       "<IPython.core.display.HTML object>"
      ]
     },
     "metadata": {},
     "output_type": "display_data"
    },
    {
     "data": {
      "text/html": [
       "Run data is saved locally in <code>/Users/xaviermootoo/Documents/VScode/ssl-seizure-detection/notebooks/wandb/run-20231028_151747-j4ky5e90</code>"
      ],
      "text/plain": [
       "<IPython.core.display.HTML object>"
      ]
     },
     "metadata": {},
     "output_type": "display_data"
    },
    {
     "data": {
      "text/html": [
       "Syncing run <strong><a href='https://wandb.ai/xmootoo/ssl-seizure-detection/runs/j4ky5e90' target=\"_blank\">jh101_downstream1_None_combined</a></strong> to <a href='https://wandb.ai/xmootoo/ssl-seizure-detection' target=\"_blank\">Weights & Biases</a> (<a href='https://wandb.me/run' target=\"_blank\">docs</a>)<br/>"
      ],
      "text/plain": [
       "<IPython.core.display.HTML object>"
      ]
     },
     "metadata": {},
     "output_type": "display_data"
    },
    {
     "data": {
      "text/html": [
       " View project at <a href='https://wandb.ai/xmootoo/ssl-seizure-detection' target=\"_blank\">https://wandb.ai/xmootoo/ssl-seizure-detection</a>"
      ],
      "text/plain": [
       "<IPython.core.display.HTML object>"
      ]
     },
     "metadata": {},
     "output_type": "display_data"
    },
    {
     "data": {
      "text/html": [
       " View run at <a href='https://wandb.ai/xmootoo/ssl-seizure-detection/runs/j4ky5e90' target=\"_blank\">https://wandb.ai/xmootoo/ssl-seizure-detection/runs/j4ky5e90</a>"
      ],
      "text/plain": [
       "<IPython.core.display.HTML object>"
      ]
     },
     "metadata": {},
     "output_type": "display_data"
    },
    {
     "name": "stdout",
     "output_type": "stream",
     "text": [
      "Using MPS Device Acceleration.\n",
      "Total number of examples in dataset: 304.\n",
      "Total number of examples used: 304.\n",
      "Number of training examples: 243. Number of training batches: 8.\n",
      "Number of validation examples: 61. Number of validation batches: 2.\n",
      "Number of test examples: 31. Number of test batches: 1.\n",
      "Intel MKL WARNING: Support of Intel(R) Streaming SIMD Extensions 4.2 (Intel(R) SSE4.2) enabled only processors has been deprecated. Intel oneAPI Math Kernel Library 2025.0 will require Intel(R) Advanced Vector Extensions (Intel(R) AVX) instructions.Intel MKL WARNING: Support of Intel(R) Streaming SIMD Extensions 4.2 (Intel(R) SSE4.2) enabled only processors has been deprecated. Intel oneAPI Math Kernel Library 2025.0 will require Intel(R) Advanced Vector Extensions (Intel(R) AVX) instructions.Intel MKL WARNING: Support of Intel(R) Streaming SIMD Extensions 4.2 (Intel(R) SSE4.2) enabled only processors has been deprecated. Intel oneAPI Math Kernel Library 2025.0 will require Intel(R) Advanced Vector Extensions (Intel(R) AVX) instructions.\n",
      "\n",
      "\n",
      "Intel MKL WARNING: Support of Intel(R) Streaming SIMD Extensions 4.2 (Intel(R) SSE4.2) enabled only processors has been deprecated. Intel oneAPI Math Kernel Library 2025.0 will require Intel(R) Advanced Vector Extensions (Intel(R) AVX) instructions.\n",
      "Intel MKL WARNING: Support of Intel(R) Streaming SIMD Extensions 4.2 (Intel(R) SSE4.2) enabled only processors has been deprecated. Intel oneAPI Math Kernel Library 2025.0 will require Intel(R) Advanced Vector Extensions (Intel(R) AVX) instructions.Intel MKL WARNING: Support of Intel(R) Streaming SIMD Extensions 4.2 (Intel(R) SSE4.2) enabled only processors has been deprecated. Intel oneAPI Math Kernel Library 2025.0 will require Intel(R) Advanced Vector Extensions (Intel(R) AVX) instructions.Intel MKL WARNING: Support of Intel(R) Streaming SIMD Extensions 4.2 (Intel(R) SSE4.2) enabled only processors has been deprecated. Intel oneAPI Math Kernel Library 2025.0 will require Intel(R) Advanced Vector Extensions (Intel(R) AVX) instructions.\n",
      "\n",
      "\n",
      "Intel MKL WARNING: Support of Intel(R) Streaming SIMD Extensions 4.2 (Intel(R) SSE4.2) enabled only processors has been deprecated. Intel oneAPI Math Kernel Library 2025.0 will require Intel(R) Advanced Vector Extensions (Intel(R) AVX) instructions.\n",
      "Debug: Outputs after forward_pass: tensor([-0.1599,  3.1152,  2.9540,  3.9124,  3.2660,  1.8217,  4.6934,  4.1109,\n",
      "         3.1518,  7.3121,  3.4848,  3.4441,  2.0840,  3.2801,  3.6868,  4.1299,\n",
      "         4.9741,  5.2868,  2.9953,  4.0737,  2.3543,  2.1134,  4.6793,  4.1513,\n",
      "         3.6797,  3.3293,  4.5936,  2.8476,  2.4507,  1.8079,  3.6427,  4.8480],\n",
      "       grad_fn=<SqueezeBackward1>)\n",
      "Debug: Batch Y data: tensor([0, 0, 0, 0, 1, 0, 0, 1, 1, 1, 0, 0, 1, 0, 1, 0, 0, 0, 1, 0, 1, 0, 0, 1,\n",
      "        0, 0, 0, 1, 0, 1, 0, 1])\n",
      "Debug: Device of outputs: cpu\n",
      "Debug: Device of batch.y: cpu\n",
      "Time elapsed after 100 batches (training): 13.399135828018188\n",
      "Debug: Outputs after forward_pass: tensor([-2.5240, -3.2940, -3.5360, -5.9857,  0.3638, -5.8714, -4.4701, -4.5625,\n",
      "        -4.7046, -2.8972, -2.3731, -5.8521, -2.6784, -6.0827, -3.9575, -2.3445,\n",
      "        -5.5611, -4.1578, -6.3123, -3.1272, -4.7762, -4.4716, -1.6604, -2.1555,\n",
      "        -6.0499, -5.2173, -4.4142, -2.6085, -5.2052, -1.8945, -7.7223, -1.5850],\n",
      "       grad_fn=<SqueezeBackward1>)\n",
      "Debug: Batch Y data: tensor([0, 1, 0, 0, 0, 0, 0, 0, 0, 1, 0, 0, 0, 0, 0, 1, 0, 0, 1, 0, 1, 0, 0, 0,\n",
      "        0, 0, 0, 0, 1, 0, 0, 1])\n",
      "Debug: Device of outputs: cpu\n",
      "Debug: Device of batch.y: cpu\n",
      "Debug: Outputs after forward_pass: tensor([-1.5361, -0.2538, -1.0050,  1.9004, -0.8654,  3.7382,  1.4350,  4.3338,\n",
      "         2.9701,  2.5155,  5.4835,  2.8722,  0.7660,  1.5947, -0.6664,  0.6624,\n",
      "         4.7174, -1.4027,  1.3079,  6.5706, -0.2027,  0.3419,  1.3375,  1.4756,\n",
      "         0.6279,  0.1642,  0.4115,  1.1998,  2.4436, -1.3283, -2.3852,  3.4062],\n",
      "       grad_fn=<SqueezeBackward1>)\n",
      "Debug: Batch Y data: tensor([0, 0, 0, 0, 0, 0, 0, 0, 0, 1, 1, 1, 0, 0, 1, 0, 0, 0, 0, 0, 0, 0, 0, 0,\n",
      "        0, 0, 1, 1, 0, 0, 0, 0])\n",
      "Debug: Device of outputs: cpu\n",
      "Debug: Device of batch.y: cpu\n",
      "Debug: Outputs after forward_pass: tensor([ -4.6489,  -3.1208,  -3.0501, -12.0377,  -8.9636,  -9.8679,  -4.1305,\n",
      "         -7.5940,  -9.6791,  -9.5551,  -7.1780,  -7.1866, -11.5329, -14.2144,\n",
      "         -2.6325,  -9.2973,  -8.3627,  -6.7745, -12.7169,  -8.2000,  -8.9568,\n",
      "         -7.2892, -10.9239,  -4.4185,  -7.6004,  -7.0196,  -7.5866,  -4.4897,\n",
      "         -1.9014,  -8.8318, -11.6491,  -9.6961], grad_fn=<SqueezeBackward1>)\n",
      "Debug: Batch Y data: tensor([0, 0, 0, 0, 0, 0, 1, 0, 0, 1, 0, 1, 0, 0, 1, 0, 0, 1, 0, 0, 0, 0, 0, 0,\n",
      "        1, 1, 1, 0, 1, 1, 0, 0])\n",
      "Debug: Device of outputs: cpu\n",
      "Debug: Device of batch.y: cpu\n",
      "Debug: Outputs after forward_pass: tensor([ -5.4457,  -2.5717,   0.6853,  -5.4171,  -5.1086,  -4.7946,  -5.2358,\n",
      "         -3.5125,  -4.5713,  -2.5509,  -6.0279,  -2.0158,  -4.9758,  -8.7726,\n",
      "        -15.6424,  -3.7510,  -3.5612,  -4.4342,  -7.6427,  -8.3152,  -9.3030,\n",
      "         -7.1279,  -6.3234,  -9.3176,  -6.9093,  -7.2587,  -8.9400,  -4.8191,\n",
      "         -7.4274,  -3.2049,  -2.7191,  -1.5801], grad_fn=<SqueezeBackward1>)\n",
      "Debug: Batch Y data: tensor([0, 0, 0, 0, 1, 0, 0, 0, 0, 0, 0, 0, 0, 0, 0, 1, 0, 0, 0, 0, 1, 0, 1, 0,\n",
      "        1, 0, 1, 0, 0, 1, 0, 0])\n",
      "Debug: Device of outputs: cpu\n",
      "Debug: Device of batch.y: cpu\n",
      "Debug: Outputs after forward_pass: tensor([ 0.7927, -0.3470,  0.2378,  8.8709,  0.2499, -0.4812, -0.0365, -0.2345,\n",
      "        -2.2018,  0.9537,  0.3621,  2.1123,  0.1172,  2.1729,  0.3100, -2.0761,\n",
      "         0.6410,  0.4003, -5.7371, -1.6616,  2.8241,  0.1044, -4.9507,  4.2650,\n",
      "         1.9536,  1.8849,  4.2418,  1.9260,  4.9559, -0.7293, -5.5324, -4.1705],\n",
      "       grad_fn=<SqueezeBackward1>)\n",
      "Debug: Batch Y data: tensor([0, 0, 0, 0, 0, 1, 1, 0, 1, 1, 1, 1, 0, 0, 1, 0, 1, 0, 0, 1, 0, 0, 0, 1,\n",
      "        0, 0, 1, 0, 0, 0, 0, 0])\n",
      "Debug: Device of outputs: cpu\n",
      "Debug: Device of batch.y: cpu\n",
      "Debug: Outputs after forward_pass: tensor([-4.1167e+00, -1.9696e+00, -1.9439e+00, -1.3361e+00, -3.5881e+00,\n",
      "         5.8348e-01,  4.1218e-01,  4.7852e-01, -4.4288e-01,  3.3733e-01,\n",
      "         2.4822e+00, -1.9584e+00, -3.9069e-02, -8.4671e-01, -3.1396e+00,\n",
      "         2.5856e-01, -1.2297e+00, -2.1321e+00, -5.8406e+00, -3.7282e-03,\n",
      "         3.8621e-01, -2.3194e+00,  2.0064e+00, -3.7559e+00, -8.1250e-01,\n",
      "         3.3667e-01,  2.5863e+00,  1.7813e-01,  1.3324e-01, -1.1547e+00,\n",
      "        -4.1557e+00, -1.8702e+00], grad_fn=<SqueezeBackward1>)\n",
      "Debug: Batch Y data: tensor([0, 1, 0, 1, 0, 0, 0, 0, 0, 0, 0, 0, 1, 0, 0, 1, 0, 0, 1, 0, 0, 0, 1, 1,\n",
      "        1, 0, 1, 1, 1, 0, 0, 0])\n",
      "Debug: Device of outputs: cpu\n",
      "Debug: Device of batch.y: cpu\n",
      "Debug: Outputs after forward_pass: tensor([-0.4046, -4.3925,  0.9854,  1.8078, -3.5733, -3.3139, -1.7060,  1.3990,\n",
      "        -0.1188,  0.0264,  1.4221,  1.1544, -0.9419, -1.5829, -3.2974, -1.2993,\n",
      "        -2.5908, -1.0232, -2.2690], grad_fn=<SqueezeBackward1>)\n",
      "Debug: Batch Y data: tensor([0, 1, 1, 0, 0, 0, 1, 0, 1, 0, 0, 0, 0, 0, 0, 0, 1, 1, 0])\n",
      "Debug: Device of outputs: cpu\n",
      "Debug: Device of batch.y: cpu\n",
      "Intel MKL WARNING: Support of Intel(R) Streaming SIMD Extensions 4.2 (Intel(R) SSE4.2) enabled only processors has been deprecated. Intel oneAPI Math Kernel Library 2025.0 will require Intel(R) Advanced Vector Extensions (Intel(R) AVX) instructions.\n",
      "Intel MKL WARNING: Support of Intel(R) Streaming SIMD Extensions 4.2 (Intel(R) SSE4.2) enabled only processors has been deprecated. Intel oneAPI Math Kernel Library 2025.0 will require Intel(R) Advanced Vector Extensions (Intel(R) AVX) instructions.\n",
      "Intel MKL WARNING: Support of Intel(R) Streaming SIMD Extensions 4.2 (Intel(R) SSE4.2) enabled only processors has been deprecated. Intel oneAPI Math Kernel Library 2025.0 will require Intel(R) Advanced Vector Extensions (Intel(R) AVX) instructions.\n",
      "Intel MKL WARNING: Support of Intel(R) Streaming SIMD Extensions 4.2 (Intel(R) SSE4.2) enabled only processors has been deprecated. Intel oneAPI Math Kernel Library 2025.0 will require Intel(R) Advanced Vector Extensions (Intel(R) AVX) instructions.\n",
      "Intel MKL WARNING: Support of Intel(R) Streaming SIMD Extensions 4.2 (Intel(R) SSE4.2) enabled only processors has been deprecated. Intel oneAPI Math Kernel Library 2025.0 will require Intel(R) Advanced Vector Extensions (Intel(R) AVX) instructions.\n",
      "Intel MKL WARNING: Support of Intel(R) Streaming SIMD Extensions 4.2 (Intel(R) SSE4.2) enabled only processors has been deprecated. Intel oneAPI Math Kernel Library 2025.0 will require Intel(R) Advanced Vector Extensions (Intel(R) AVX) instructions.\n",
      "Intel MKL WARNING: Support of Intel(R) Streaming SIMD Extensions 4.2 (Intel(R) SSE4.2) enabled only processors has been deprecated. Intel oneAPI Math Kernel Library 2025.0 will require Intel(R) Advanced Vector Extensions (Intel(R) AVX) instructions.\n",
      "Intel MKL WARNING: Support of Intel(R) Streaming SIMD Extensions 4.2 (Intel(R) SSE4.2) enabled only processors has been deprecated. Intel oneAPI Math Kernel Library 2025.0 will require Intel(R) Advanced Vector Extensions (Intel(R) AVX) instructions.\n",
      "Unexpected exception formatting exception. Falling back to standard exception\n"
     ]
    },
    {
     "name": "stderr",
     "output_type": "stream",
     "text": [
      "Traceback (most recent call last):\n",
      "  File \"/Users/xaviermootoo/opt/anaconda3/envs/torch2_mps/lib/python3.10/site-packages/IPython/core/interactiveshell.py\", line 3526, in run_code\n",
      "    exec(code_obj, self.user_global_ns, self.user_ns)\n",
      "  File \"/var/folders/vc/2cgy1_wn1z3fx52llvy0szgw0000gn/T/ipykernel_24210/3241463999.py\", line 34, in <module>\n",
      "    train(data_path, logdir, patient_id, epochs=2, config=config, data_size=0.05, val_ratio=0.2, test_ratio=0.1,\n",
      "  File \"/Users/xaviermootoo/Documents/VScode/ssl-seizure-detection/notebooks/../src/train.py\", line 295, in train\n",
      "    #<----------Statistics---------->\n",
      "  File \"/Users/xaviermootoo/Documents/VScode/ssl-seizure-detection/notebooks/../src/train.py\", line 128, in evaluate_model\n",
      "  File \"/Users/xaviermootoo/Documents/VScode/ssl-seizure-detection/notebooks/../src/train.py\", line 48, in forward_pass\n",
      "    return model(batch, classify, head, dropout)\n",
      "  File \"/Users/xaviermootoo/opt/anaconda3/envs/torch2_mps/lib/python3.10/site-packages/torch/nn/modules/module.py\", line 1501, in _call_impl\n",
      "    return forward_call(*args, **kwargs)\n",
      "  File \"/Users/xaviermootoo/Documents/VScode/ssl-seizure-detection/notebooks/../src/models.py\", line 342, in forward\n",
      "    x = self.conv3(x, batch.edge_index, batch.edge_attr)\n",
      "  File \"/Users/xaviermootoo/opt/anaconda3/envs/torch2_mps/lib/python3.10/site-packages/torch/nn/modules/module.py\", line 1501, in _call_impl\n",
      "    return forward_call(*args, **kwargs)\n",
      "  File \"/Users/xaviermootoo/opt/anaconda3/envs/torch2_mps/lib/python3.10/site-packages/torch_geometric/nn/conv/nn_conv.py\", line 102, in forward\n",
      "    out = self.propagate(edge_index, x=x, edge_attr=edge_attr, size=size)\n",
      "  File \"/Users/xaviermootoo/opt/anaconda3/envs/torch2_mps/lib/python3.10/site-packages/torch_geometric/nn/conv/message_passing.py\", line 467, in propagate\n",
      "    out = self.message(**msg_kwargs)\n",
      "  File \"/Users/xaviermootoo/opt/anaconda3/envs/torch2_mps/lib/python3.10/site-packages/torch_geometric/nn/conv/nn_conv.py\", line 114, in message\n",
      "    weight = self.nn(edge_attr)\n",
      "  File \"/Users/xaviermootoo/opt/anaconda3/envs/torch2_mps/lib/python3.10/site-packages/torch/nn/modules/module.py\", line 1501, in _call_impl\n",
      "    return forward_call(*args, **kwargs)\n",
      "  File \"/Users/xaviermootoo/Documents/VScode/ssl-seizure-detection/notebooks/../src/models.py\", line 26, in forward\n",
      "    x = self.mlp(edge_attr)\n",
      "  File \"/Users/xaviermootoo/opt/anaconda3/envs/torch2_mps/lib/python3.10/site-packages/torch/nn/modules/module.py\", line 1501, in _call_impl\n",
      "    return forward_call(*args, **kwargs)\n",
      "  File \"/Users/xaviermootoo/opt/anaconda3/envs/torch2_mps/lib/python3.10/site-packages/torch/nn/modules/container.py\", line 217, in forward\n",
      "    input = module(input)\n",
      "  File \"/Users/xaviermootoo/opt/anaconda3/envs/torch2_mps/lib/python3.10/site-packages/torch/nn/modules/module.py\", line 1501, in _call_impl\n",
      "    return forward_call(*args, **kwargs)\n",
      "  File \"/Users/xaviermootoo/opt/anaconda3/envs/torch2_mps/lib/python3.10/site-packages/torch/nn/modules/linear.py\", line 114, in forward\n",
      "    return F.linear(input, self.weight, self.bias)\n",
      "KeyboardInterrupt\n",
      "\n",
      "During handling of the above exception, another exception occurred:\n",
      "\n",
      "Traceback (most recent call last):\n",
      "  File \"/Users/xaviermootoo/opt/anaconda3/envs/torch2_mps/lib/python3.10/site-packages/IPython/core/interactiveshell.py\", line 2120, in showtraceback\n",
      "    stb = self.InteractiveTB.structured_traceback(\n",
      "  File \"/Users/xaviermootoo/opt/anaconda3/envs/torch2_mps/lib/python3.10/site-packages/IPython/core/ultratb.py\", line 1435, in structured_traceback\n",
      "    return FormattedTB.structured_traceback(\n",
      "  File \"/Users/xaviermootoo/opt/anaconda3/envs/torch2_mps/lib/python3.10/site-packages/IPython/core/ultratb.py\", line 1326, in structured_traceback\n",
      "    return VerboseTB.structured_traceback(\n",
      "  File \"/Users/xaviermootoo/opt/anaconda3/envs/torch2_mps/lib/python3.10/site-packages/IPython/core/ultratb.py\", line 1173, in structured_traceback\n",
      "    formatted_exception = self.format_exception_as_a_whole(etype, evalue, etb, number_of_lines_of_context,\n",
      "  File \"/Users/xaviermootoo/opt/anaconda3/envs/torch2_mps/lib/python3.10/site-packages/IPython/core/ultratb.py\", line 1088, in format_exception_as_a_whole\n",
      "    frames.append(self.format_record(record))\n",
      "  File \"/Users/xaviermootoo/opt/anaconda3/envs/torch2_mps/lib/python3.10/site-packages/IPython/core/ultratb.py\", line 970, in format_record\n",
      "    frame_info.lines, Colors, self.has_colors, lvals\n",
      "  File \"/Users/xaviermootoo/opt/anaconda3/envs/torch2_mps/lib/python3.10/site-packages/IPython/core/ultratb.py\", line 792, in lines\n",
      "    return self._sd.lines\n",
      "  File \"/Users/xaviermootoo/opt/anaconda3/envs/torch2_mps/lib/python3.10/site-packages/stack_data/utils.py\", line 144, in cached_property_wrapper\n",
      "    value = obj.__dict__[self.func.__name__] = self.func(obj)\n",
      "  File \"/Users/xaviermootoo/opt/anaconda3/envs/torch2_mps/lib/python3.10/site-packages/stack_data/core.py\", line 734, in lines\n",
      "    pieces = self.included_pieces\n",
      "  File \"/Users/xaviermootoo/opt/anaconda3/envs/torch2_mps/lib/python3.10/site-packages/stack_data/utils.py\", line 144, in cached_property_wrapper\n",
      "    value = obj.__dict__[self.func.__name__] = self.func(obj)\n",
      "  File \"/Users/xaviermootoo/opt/anaconda3/envs/torch2_mps/lib/python3.10/site-packages/stack_data/core.py\", line 681, in included_pieces\n",
      "    pos = scope_pieces.index(self.executing_piece)\n",
      "  File \"/Users/xaviermootoo/opt/anaconda3/envs/torch2_mps/lib/python3.10/site-packages/stack_data/utils.py\", line 144, in cached_property_wrapper\n",
      "    value = obj.__dict__[self.func.__name__] = self.func(obj)\n",
      "  File \"/Users/xaviermootoo/opt/anaconda3/envs/torch2_mps/lib/python3.10/site-packages/stack_data/core.py\", line 660, in executing_piece\n",
      "    return only(\n",
      "  File \"/Users/xaviermootoo/opt/anaconda3/envs/torch2_mps/lib/python3.10/site-packages/executing/executing.py\", line 190, in only\n",
      "    raise NotOneValueFound('Expected one value, found 0')\n",
      "executing.executing.NotOneValueFound: Expected one value, found 0\n"
     ]
    }
   ],
   "source": [
    "import sys\n",
    "sys.path.append('../src')\n",
    "from train import train\n",
    "\n",
    "# The path to .pt file of Data, PairData, or TripletData objects list\n",
    "data_path = \"/Users/xaviermootoo/Documents/Data/ssl-seizure-detection/patient_pyg/jh101/supervised\"\n",
    "\n",
    "# Path to save the model, statistics, and training information\n",
    "logdir = \"/Users/xaviermootoo/Documents/Data/ssl-seizure-detection/models/downstream\"\n",
    "\n",
    "# Patient identifier\n",
    "patient_id = \"dummy\"\n",
    "\n",
    "# Model identifier\n",
    "model_id = \"downstream1\"\n",
    "\n",
    "# Date and time identifier\n",
    "datetime_id = None\n",
    "\n",
    "# Run identifier\n",
    "run_type = \"all\"\n",
    "\n",
    "# Transfer learning (optional arguments)\n",
    "# Initialize variables to None\n",
    "model_path = \"/Users/xaviermootoo/Documents/Data/ssl-seizure-detection/models/jh101/model/temporal_shuffling.pth\"\n",
    "model_dict_path = \"/Users/xaviermootoo/Documents/Data/ssl-seizure-detection/models/jh101/model/temporal_shuffling_state_dict.pth\"\n",
    "transfer_id = \"temporal_shuffling\"\n",
    "\n",
    "config = {\n",
    "        \"hidden_channels\": [64, 64, 32],\n",
    "        \"dropout\": 0.1,\n",
    "}\n",
    "\n",
    "train(data_path, logdir, patient_id, epochs=2, config=config, data_size=0.05, val_ratio=0.2, test_ratio=0.1, \n",
    "          batch_size=32, num_workers=4, lr=1e-3, weight_decay=1e-3, model_id=model_id, timing=True, \n",
    "          classify=\"binary\", head=\"linear\", dropout=True, datetime_id=datetime_id, run_type=run_type, \n",
    "          frozen=False, model_path=model_path, model_dict_path=model_dict_path, transfer_id=transfer_id)"
   ]
  }
 ],
 "metadata": {
  "kernelspec": {
   "display_name": "torch2_mps",
   "language": "python",
   "name": "python3"
  },
  "language_info": {
   "codemirror_mode": {
    "name": "ipython",
    "version": 3
   },
   "file_extension": ".py",
   "mimetype": "text/x-python",
   "name": "python",
   "nbconvert_exporter": "python",
   "pygments_lexer": "ipython3",
   "version": "3.10.12"
  },
  "orig_nbformat": 4
 },
 "nbformat": 4,
 "nbformat_minor": 2
}
