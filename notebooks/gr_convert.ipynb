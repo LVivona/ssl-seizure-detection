{
 "cells": [
  {
   "cell_type": "code",
   "execution_count": 7,
   "metadata": {},
   "outputs": [],
   "source": [
    "import numpy as np\n",
    "import pickle\n",
    "import sys\n",
    "import torch\n",
    "sys.path.append(\"../src\")\n",
    "from preprocess import new_grs, create_tensordata_new, convert_to_Data"
   ]
  },
  {
   "cell_type": "code",
   "execution_count": 2,
   "metadata": {},
   "outputs": [],
   "source": [
    "data_path = \"/Users/xaviermootoo/Documents/Data/ssl-seizure-detection/patient_gr/jh101/ictal_1.pickle\"\n",
    "data = pickle.load(open(data_path, 'rb'))"
   ]
  },
  {
   "cell_type": "markdown",
   "metadata": {},
   "source": [
    "#### Structure\n",
    "List with entries of the form `graph = [A, NF, EF]`. Where `A`, `NF`, and `EF` are lists of length 4, 3, and 4 respectively. \n",
    "\n",
    "`A = [A0, A1, A2, A3]`, where :\n",
    "-   `A0` = Ones, shape `(107,107)`.\n",
    "-   `A1` = Correlation, shape `(107,107)`.  \n",
    "-   `A2` = Coherence, shape `(107,107)`.\n",
    "-   `A3` = Phase, shape `(107,107)`.\n",
    "\n",
    "`NF = [NF0, NF1, NF2]`, where:\n",
    "\n",
    "-  `NF0` = Ones, shape `(107,1)`.\n",
    "-  `NF1` = Average Energy, shape `(107,1)`.\n",
    "-  `NF2` = Band Energy, shape `(107,8)`.\n",
    "\n",
    "\n",
    "`EF = [EF0, EF1, EF2, EF3]`, where:\n",
    "\n",
    "-  `EF0` = Ones, shape `(107,107,1)`.\n",
    "-  `EF1` = Correlation, shape `(107,107,1)`.\n",
    "-  `EF2` = Coherence, shape `(107,107,1)`.\n",
    "-  `EF3` = Phase, shape `(107,107,1)`.\n",
    "\n",
    "All the information above has been (experimentally) confirmed by the above and Alan's documentation of `get_nf`, `get_adj`, and `get_ef` helper functions in his `load_data()` function, but should talk to Alan about confirming these details for absolute certainty."
   ]
  },
  {
   "cell_type": "code",
   "execution_count": 3,
   "metadata": {},
   "outputs": [
    {
     "name": "stdout",
     "output_type": "stream",
     "text": [
      "A0 = E0 for first graph? True.\n",
      "A1 = E1 for first graph? True.\n",
      "A2 = E2 for first graph? True.\n",
      "A3 = E3 for first graph? True.\n"
     ]
    }
   ],
   "source": [
    "print(f\"A0 = E0 for first graph? {np.array_equal(data[0][0][0], data[0][2][0].reshape(107, 107))}.\")\n",
    "print(f\"A1 = E1 for first graph? {np.array_equal(data[0][0][1], data[0][2][1].reshape(107, 107))}.\")\n",
    "print(f\"A2 = E2 for first graph? {np.array_equal(data[0][0][2], data[0][2][2].reshape(107, 107))}.\")\n",
    "print(f\"A3 = E3 for first graph? {np.array_equal(data[0][0][3], data[0][2][3].reshape(107, 107))}.\")"
   ]
  },
  {
   "cell_type": "markdown",
   "metadata": {},
   "source": [
    "#### Temporal Concatenation\n",
    "For each run, we are going to concatenate the features in a larger list of `[preictal, ictal, postictal]`. We're then going to feed this into the `preprocess.ipynb` pipeline we've created (or just using one big patch). For simplicity we're going to use the most extensive graph representation possible by using:\n",
    "-  `A` = None\n",
    "-  `NF` = Average Energy and Band Energy, shape `(107,9)`.\n",
    "-  `EF` = Correlation, Coherence, Phase, shape `(107, 107, 3)`.\n",
    "\n",
    "for each patient."
   ]
  },
  {
   "cell_type": "markdown",
   "metadata": {},
   "source": [
    "We'll call this new list of graph representations `new_data`."
   ]
  },
  {
   "cell_type": "code",
   "execution_count": 3,
   "metadata": {},
   "outputs": [],
   "source": [
    "from preprocess import new_grs\n",
    "new_data = new_grs(data, type=\"ictal\", mode=\"binary\")"
   ]
  },
  {
   "cell_type": "markdown",
   "metadata": {},
   "source": [
    "Now we'll convert `new_data` to `pyg_data` so it is in tensor format."
   ]
  },
  {
   "cell_type": "markdown",
   "metadata": {},
   "source": [
    "We'll name this new list of torch tensors with entries `[[edge_index, x, edge_attr], y]` as `pyg_grs`."
   ]
  },
  {
   "cell_type": "code",
   "execution_count": 4,
   "metadata": {},
   "outputs": [],
   "source": [
    "pyg_grs = create_tensordata_new(num_nodes=107, data_list=new_data, complete=True, save=False, logdir=None)"
   ]
  },
  {
   "cell_type": "markdown",
   "metadata": {},
   "source": [
    "After this we then convert the list of tensor `pyg_grs` to the PyG data structure `torch_geometric.data.Data`."
   ]
  },
  {
   "cell_type": "code",
   "execution_count": 9,
   "metadata": {},
   "outputs": [],
   "source": [
    "Data_list = convert_to_Data(pyg_grs, save=False, logdir=None)"
   ]
  },
  {
   "cell_type": "code",
   "execution_count": 12,
   "metadata": {},
   "outputs": [
    {
     "name": "stdout",
     "output_type": "stream",
     "text": [
      "Data(x=[107, 9], edge_index=[2, 11342], edge_attr=[11342, 3], y=1)\n"
     ]
    }
   ],
   "source": [
    "print(Data_list[0])"
   ]
  },
  {
   "cell_type": "markdown",
   "metadata": {},
   "source": [
    "The rest is up to `preprocess.ipynb` to handle..."
   ]
  }
 ],
 "metadata": {
  "kernelspec": {
   "display_name": "torch2_mps",
   "language": "python",
   "name": "python3"
  },
  "language_info": {
   "codemirror_mode": {
    "name": "ipython",
    "version": 3
   },
   "file_extension": ".py",
   "mimetype": "text/x-python",
   "name": "python",
   "nbconvert_exporter": "python",
   "pygments_lexer": "ipython3",
   "version": "3.10.12"
  },
  "orig_nbformat": 4
 },
 "nbformat": 4,
 "nbformat_minor": 2
}
