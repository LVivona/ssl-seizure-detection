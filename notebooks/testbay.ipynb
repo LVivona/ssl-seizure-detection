{
 "cells": [
  {
   "cell_type": "code",
   "execution_count": 11,
   "metadata": {},
   "outputs": [
    {
     "name": "stdout",
     "output_type": "stream",
     "text": [
      "epochs=10 learning_rate=0.001 batch_size=32\n"
     ]
    }
   ],
   "source": [
    "import json\n",
    "import sys\n",
    "sys.path.append('../src')\n",
    "from pydantic import BaseModel\n",
    "\n",
    "# Define the Pydantic model\n",
    "class ExperimentConfig(BaseModel):\n",
    "    epochs: int\n",
    "    learning_rate: float\n",
    "    batch_size: int\n",
    "\n",
    "# Path to your JSON file\n",
    "json_file_path = '/home/xmootoo/Documents/VSCode/ssl-seizure-detection/exp/1.0/test.json'\n",
    "\n",
    "# Load and parse the JSON file\n",
    "with open(json_file_path, 'r') as file:\n",
    "    data = json.load(file)\n",
    "\n",
    "# Assuming you want to load the configuration for 'experiment_1'\n",
    "experiment_data = data['experiment_1']\n",
    "\n",
    "# Create an instance of the ExperimentConfig with the loaded data\n",
    "config = ExperimentConfig(**experiment_data)\n",
    "\n",
    "# config now contains the configuration from the JSON file\n",
    "print(config)"
   ]
  }
 ],
 "metadata": {
  "kernelspec": {
   "display_name": "torch2_cuda11.8",
   "language": "python",
   "name": "python3"
  },
  "language_info": {
   "codemirror_mode": {
    "name": "ipython",
    "version": 3
   },
   "file_extension": ".py",
   "mimetype": "text/x-python",
   "name": "python",
   "nbconvert_exporter": "python",
   "pygments_lexer": "ipython3",
   "version": "3.10.13"
  }
 },
 "nbformat": 4,
 "nbformat_minor": 2
}
