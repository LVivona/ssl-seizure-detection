{
 "cells": [
  {
   "cell_type": "code",
   "execution_count": 8,
   "metadata": {},
   "outputs": [
    {
     "name": "stdout",
     "output_type": "stream",
     "text": [
      "Distance 1: 0.9692332344763441\n",
      "Distance 2: 0.8824969025845955\n",
      "Distance 3: 0.7548396019890073\n",
      "Distance 4: 0.6065306597126334\n"
     ]
    }
   ],
   "source": [
    "import numpy as np\n",
    "def gaussian_kernel(t1, t2, sigma):\n",
    "    \"\"\"\n",
    "    Computes the Gaussian kernel value of two time points t1 and t2.\n",
    "\n",
    "    Args:\n",
    "        t1 (int): First time point.\n",
    "        t2 (int): Second time point.\n",
    "        sigma (float): Variance parameter of the Gaussian kernel.\n",
    "\n",
    "    Returns:\n",
    "        float: Gaussian kernel value of the two time points.\n",
    "    \"\"\"\n",
    "    return np.exp(-np.square(t1 - t2) / (2 * np.square(sigma)))\n",
    "\n",
    "print(f\"Distance 1: {gaussian_kernel(1,2,4)}\")\n",
    "print(f\"Distance 2: {gaussian_kernel(1,3,4)}\")\n",
    "print(f\"Distance 3: {gaussian_kernel(1,4,4)}\")\n",
    "print(f\"Distance 4: {gaussian_kernel(1,5,4)}\")\n",
    "\n",
    "def gaussian_kernel_vectorized(t1, t2, sigma):\n",
    "    \"\"\"\n",
    "    Vectorized computation of the Gaussian kernel value for arrays of time points t1 and t2.\n",
    "\n",
    "    Args:\n",
    "        t1 (np.array): Array of first time points of shape (n,).\n",
    "        t2 (np.array): Array of second time points of shape (n,).\n",
    "        sigma (float): Variance parameter of the Gaussian kernel.\n",
    "\n",
    "    Returns:\n",
    "        np.array: Array of Gaussian kernel values.\n",
    "    \"\"\"\n",
    "    return np.exp(-np.square(t1 - t2) / (2 * np.square(sigma)))"
   ]
  },
  {
   "cell_type": "code",
   "execution_count": 20,
   "metadata": {},
   "outputs": [
    {
     "name": "stdout",
     "output_type": "stream",
     "text": [
      "t1: [[   0    0    0 ...    0    0    0]\n",
      " [   1    1    1 ...    1    1    1]\n",
      " [   2    2    2 ...    2    2    2]\n",
      " ...\n",
      " [4442 4442 4442 ... 4442 4442 4442]\n",
      " [4443 4443 4443 ... 4443 4443 4443]\n",
      " [4444 4444 4444 ... 4444 4444 4444]]\n",
      "t2: [[   0    1    2 ... 4442 4443 4444]\n",
      " [   0    1    2 ... 4442 4443 4444]\n",
      " [   0    1    2 ... 4442 4443 4444]\n",
      " ...\n",
      " [   0    1    2 ... 4442 4443 4444]\n",
      " [   0    1    2 ... 4442 4443 4444]\n",
      " [   0    1    2 ... 4442 4443 4444]]\n",
      "Distance matrix: [[       0        1        4 ... 19731364 19740249 19749136]\n",
      " [       1        0        1 ... 19722481 19731364 19740249]\n",
      " [       4        1        0 ... 19713600 19722481 19731364]\n",
      " ...\n",
      " [19731364 19722481 19713600 ...        0        1        4]\n",
      " [19740249 19731364 19722481 ...        1        0        1]\n",
      " [19749136 19740249 19731364 ...        4        1        0]]\n",
      "Kernel Matrix: [[1.   0.97 0.61 ... 0.    inf  inf]\n",
      " [0.97 1.   0.97 ...  inf 0.    inf]\n",
      " [0.61 0.97 1.   ... 0.    inf 0.  ]\n",
      " ...\n",
      " [0.    inf 0.   ... 1.   0.97 0.61]\n",
      " [ inf 0.    inf ... 0.97 1.   0.97]\n",
      " [ inf  inf 0.   ... 0.61 0.97 1.  ]]\n"
     ]
    },
    {
     "name": "stderr",
     "output_type": "stream",
     "text": [
      "C:\\Users\\xmoot\\AppData\\Local\\Temp\\ipykernel_10256\\2167713322.py:33: RuntimeWarning: overflow encountered in exp\n",
      "  return np.exp(-np.square(t1 - t2) / (2 * np.square(sigma)))\n"
     ]
    }
   ],
   "source": [
    "sample_indices = np.arange(6)\n",
    "\n",
    "t1, t2 = np.meshgrid(sample_indices, sample_indices, indexing='ij')\n",
    "\n",
    "print(f\"t1: {t1}\")\n",
    "print(f\"t2: {t2}\")\n",
    "\n",
    "distance_matrix = np.square(t1 - t2)\n",
    "\n",
    "print(f\"Distance matrix: {distance_matrix}\")\n",
    "\n",
    "kernel_matrix = gaussian_kernel_vectorized(distance_matrix, 0, sigma=4)\n",
    "np.set_printoptions(precision=2, suppress=True)\n",
    "print(f\"Kernel Matrix: {kernel_matrix}\")"
   ]
  }
 ],
 "metadata": {
  "kernelspec": {
   "display_name": "torch2_cuda11.8",
   "language": "python",
   "name": "python3"
  },
  "language_info": {
   "codemirror_mode": {
    "name": "ipython",
    "version": 3
   },
   "file_extension": ".py",
   "mimetype": "text/x-python",
   "name": "python",
   "nbconvert_exporter": "python",
   "pygments_lexer": "ipython3",
   "version": "3.10.12"
  }
 },
 "nbformat": 4,
 "nbformat_minor": 2
}
