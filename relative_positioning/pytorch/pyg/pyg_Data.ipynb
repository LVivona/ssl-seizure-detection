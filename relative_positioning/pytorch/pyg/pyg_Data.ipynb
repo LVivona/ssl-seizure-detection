{
 "cells": [
  {
   "cell_type": "code",
   "execution_count": 13,
   "metadata": {},
   "outputs": [],
   "source": [
    "import torch\n",
    "from torch_geometric.data import Data"
   ]
  },
  {
   "cell_type": "code",
   "execution_count": 23,
   "metadata": {},
   "outputs": [],
   "source": [
    "# Edges\n",
    "edge_index = torch.tensor([[0, 1, 1, 2],\n",
    "                           [1, 0, 2, 1]], dtype=torch.long)\n",
    "\n",
    "# Node features\n",
    "x = torch.tensor([[-1], [0], [1]], dtype=torch.float32)\n",
    "\n",
    "# Edge features\n",
    "edge_attr = torch.tensor([[1, 2, 3, 4]], dtype=torch.float32)\n",
    "\n",
    "# Graph Label\n",
    "y = torch.tensor([0], dtype=torch.long)\n",
    "\n",
    "# Data object\n",
    "data = Data(x=x, edge_index=edge_index, edge_attr=edge_attr, y=y)"
   ]
  },
  {
   "cell_type": "code",
   "execution_count": 35,
   "metadata": {},
   "outputs": [
    {
     "name": "stdout",
     "output_type": "stream",
     "text": [
      "Number of nodes: 3\n",
      "Number of edges: 4\n",
      "Number of node features: 1\n",
      "Number of edge features: 4\n"
     ]
    },
    {
     "data": {
      "text/plain": [
       "True"
      ]
     },
     "execution_count": 35,
     "metadata": {},
     "output_type": "execute_result"
    }
   ],
   "source": [
    "# Descriptive data of the Data object\n",
    "# print((data.to_dict()).keys())\n",
    "print(\"Number of nodes:\", data.num_nodes)\n",
    "print(\"Number of edges:\", data.num_edges)\n",
    "print(\"Number of node features:\", data.num_node_features)\n",
    "print(\"Number of edge features:\", data.num_edge_features)"
   ]
  }
 ],
 "metadata": {
  "kernelspec": {
   "display_name": "base",
   "language": "python",
   "name": "python3"
  },
  "language_info": {
   "codemirror_mode": {
    "name": "ipython",
    "version": 3
   },
   "file_extension": ".py",
   "mimetype": "text/x-python",
   "name": "python",
   "nbconvert_exporter": "python",
   "pygments_lexer": "ipython3",
   "version": "3.9.12"
  },
  "orig_nbformat": 4
 },
 "nbformat": 4,
 "nbformat_minor": 2
}
