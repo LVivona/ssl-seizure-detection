{
 "cells": [
  {
   "cell_type": "code",
   "execution_count": 1,
   "metadata": {},
   "outputs": [
    {
     "name": "stdout",
     "output_type": "stream",
     "text": [
      "Output shape: torch.Size([4])\n",
      "Output: tensor([0.5921, 0.5860, 0.5816, 0.5837], grad_fn=<SqueezeBackward1>)\n",
      "Output shape: torch.Size([4])\n",
      "Output: tensor([0.5870, 0.5891, 0.5799, 0.5780], grad_fn=<SqueezeBackward1>)\n"
     ]
    }
   ],
   "source": [
    "# Test case\n",
    "import torch\n",
    "from torch_geometric.data import Batch, Data\n",
    "from torch_geometric.loader import DataLoader\n",
    "from pyg_model import relative_positioning\n",
    "\n",
    "# PairData class\n",
    "class PairData(Data):\n",
    "    def __inc__(self, key, value, *args, **kwargs):\n",
    "        if key == 'edge_index1':\n",
    "            return self.x1.size(0)\n",
    "        if key == 'edge_index2':\n",
    "            return self.x2.size(0)\n",
    "        return super().__inc__(key, value, *args, **kwargs)\n",
    "\n",
    "\n",
    "# Create a dummy graph using PyG's Data class\n",
    "def create_sample_graph(num_nodes, num_node_features, num_edge_features):\n",
    "    x1, x2 = torch.randn(num_nodes, num_node_features), torch.randn(num_nodes, num_node_features)  # Node features\n",
    "    edge_index1 = torch.tensor([[0, 2, 3, 1, 4],\n",
    "                                [2, 0, 1, 3, 3]], dtype=torch.long)\n",
    "    edge_index2 = edge_index1\n",
    "    num_edges = edge_index1.size()[1]\n",
    "    edge_attr1, edge_attr2 = torch.randn((num_edges, num_edge_features)), torch.randn((num_edges, num_edge_features))   # Edge attributes\n",
    "    \n",
    "    y = torch.randint(0, 2, (1,))\n",
    "    y = y.to(torch.float32)\n",
    "    \n",
    "    return PairData(x1=x1, edge_index1=edge_index1, edge_attr1=edge_attr1,\n",
    "                    x2=x2, edge_index2=edge_index2, edge_attr2=edge_attr2,\n",
    "                    y=y)\n",
    "\n",
    "# Hyperparameters\n",
    "num_node_features = 10\n",
    "num_edge_features = 6\n",
    "hidden_channels = 20\n",
    "out_channels = 5\n",
    "\n",
    "# Create dummy data\n",
    "data_list = []\n",
    "for i in range(8):\n",
    "    data_list.append(create_sample_graph(5, 10, 6))\n",
    "\n",
    "# Dataloader\n",
    "loader = DataLoader(data_list, batch_size=4, follow_batch=['x1', 'x2'])\n",
    "\n",
    "# Initialize the model\n",
    "model = relative_positioning(num_node_features=num_node_features, num_edge_features=num_edge_features, \n",
    "                                   hidden_channels=hidden_channels, out_channels=out_channels)\n",
    "\n",
    "for batch in loader:\n",
    "    output = model(batch.x1, batch.edge_index1, batch.edge_attr1, batch.x1_batch,\n",
    "                         batch.x2, batch.edge_index2, batch.edge_attr2, batch.x2_batch)\n",
    "    print(\"Output shape:\", output.shape)\n",
    "    print(\"Output:\", output)"
   ]
  },
  {
   "cell_type": "code",
   "execution_count": 3,
   "metadata": {},
   "outputs": [
    {
     "name": "stdout",
     "output_type": "stream",
     "text": [
      "Epoch: 1, Loss: 0.10404607653617859\n",
      "Epoch: 2, Loss: 0.10238519310951233\n",
      "Epoch: 3, Loss: 0.10023936629295349\n",
      "Epoch: 4, Loss: 0.09825339168310165\n",
      "Epoch: 5, Loss: 0.09644834697246552\n",
      "Epoch: 6, Loss: 0.094691701233387\n",
      "Epoch: 7, Loss: 0.09297184646129608\n",
      "Epoch: 8, Loss: 0.09135718643665314\n",
      "Epoch: 9, Loss: 0.08962897211313248\n",
      "Epoch: 10, Loss: 0.0879705622792244\n",
      "Epoch: 11, Loss: 0.08628644049167633\n",
      "Epoch: 12, Loss: 0.0844610258936882\n",
      "Epoch: 13, Loss: 0.08224180340766907\n",
      "Epoch: 14, Loss: 0.08501631021499634\n",
      "Epoch: 15, Loss: 0.07691359519958496\n",
      "Epoch: 16, Loss: 0.07275760918855667\n",
      "Epoch: 17, Loss: 0.06486956775188446\n",
      "Epoch: 18, Loss: 0.05056009814143181\n",
      "Epoch: 19, Loss: 0.029799308627843857\n",
      "Epoch: 20, Loss: 0.010220888070762157\n",
      "Epoch: 21, Loss: 0.0024423860013484955\n",
      "Epoch: 22, Loss: 0.0006682530511170626\n",
      "Epoch: 23, Loss: 1.5460524082300253e-05\n",
      "Epoch: 24, Loss: 1.907374780785176e-06\n",
      "Success! Looks like we're overfitting.\n"
     ]
    }
   ],
   "source": [
    "# Training test\n",
    "optimizer = torch.optim.Adam(model.parameters(), lr=0.01)\n",
    "criterion = torch.nn.BCELoss()\n",
    "\n",
    "for epoch in range(1, 1000):\n",
    "    for batch in loader:\n",
    "        optimizer.zero_grad()\n",
    "        out = model(batch.x1, batch.edge_index1, batch.edge_attr1, batch.x1_batch,\n",
    "                    batch.x2, batch.edge_index2, batch.edge_attr2, batch.x2_batch, mode=\"sigmoid\")\n",
    "        loss = criterion(out, batch.y.float())\n",
    "        loss.backward()\n",
    "        optimizer.step()\n",
    "    print(f'Epoch: {epoch}, Loss: {loss.item()}')\n",
    "    if loss.item() < 1e-5:\n",
    "        print(\"Success! Looks like we're overfitting.\")\n",
    "        break"
   ]
  },
  {
   "cell_type": "code",
   "execution_count": 2,
   "metadata": {},
   "outputs": [],
   "source": [
    "# Load PairData class dataset of graph pairs\n",
    "import torch\n",
    "path = r\"C:\\Users\\xmoot\\Desktop\\Data\\ssl-seizure-detection\\patient_pseudolabeled\\relative_positioning\\PyG\\jh101_12s_7min_PairData.pt\"\n",
    "data = torch.load(path)"
   ]
  },
  {
   "cell_type": "code",
   "execution_count": 3,
   "metadata": {},
   "outputs": [
    {
     "name": "stdout",
     "output_type": "stream",
     "text": [
      "Using device: cuda\n"
     ]
    }
   ],
   "source": [
    "# Setup GPU\n",
    "device = torch.device('cuda' if torch.cuda.is_available() else 'cpu')\n",
    "print(f\"Using device: {device}\")"
   ]
  }
 ],
 "metadata": {
  "kernelspec": {
   "display_name": "base",
   "language": "python",
   "name": "python3"
  },
  "language_info": {
   "codemirror_mode": {
    "name": "ipython",
    "version": 3
   },
   "file_extension": ".py",
   "mimetype": "text/x-python",
   "name": "python",
   "nbconvert_exporter": "python",
   "pygments_lexer": "ipython3",
   "version": "3.9.12"
  },
  "orig_nbformat": 4
 },
 "nbformat": 4,
 "nbformat_minor": 2
}
