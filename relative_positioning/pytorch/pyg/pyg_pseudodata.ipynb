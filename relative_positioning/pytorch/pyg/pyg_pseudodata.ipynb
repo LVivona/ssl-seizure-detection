{
 "cells": [
  {
   "cell_type": "code",
   "execution_count": 5,
   "metadata": {},
   "outputs": [],
   "source": [
    "import pickle\n",
    "from pyg_preprocess import convert_to_tensors, pseudo_data\n",
    "\n",
    "# File path (PC) for subject jh101 PyG data\n",
    "# path = \"C:/Users/xmoot/Desktop/Data/ssl-seizure-detection/patient_gr/jh101_grs_pyg.pickle\"\n",
    "# logdir = \"C:/Users/xmoot/Desktop/Data/ssl-seizure-detection/patient_pseudolabeled/relative_positioning/\"\n",
    "\n",
    "# File path (Macbook) for subject jh101 PyG data\n",
    "path = \"/Users/xaviermootoo/Documents/Data/ssl-seizure-detection/pickle/jh101_grs_pyg.pkl\"\n",
    "logdir = \"/Users/xaviermootoo/Documents/Data/ssl-seizure-detection/pseudolabeled/\""
   ]
  },
  {
   "cell_type": "code",
   "execution_count": 6,
   "metadata": {},
   "outputs": [],
   "source": [
    "# Load graph representations list of [[edge_index, x, edge_atttr], y]]\n",
    "data = pickle.load(open(path, \"rb\"))"
   ]
  },
  {
   "cell_type": "code",
   "execution_count": 3,
   "metadata": {},
   "outputs": [],
   "source": [
    "# Convert edge_index, x, edge_attr, y to PyTorch tensors\n",
    "# data = convert_to_tensors(data)"
   ]
  },
  {
   "cell_type": "code",
   "execution_count": 7,
   "metadata": {},
   "outputs": [
    {
     "name": "stdout",
     "output_type": "stream",
     "text": [
      "Number of examples: 926986\n",
      "0    483636\n",
      "1    443350\n",
      "Name: y, dtype: int64\n"
     ]
    }
   ],
   "source": [
    "# Create pseudolabeled graph pairs and write file for subject jh101.   \n",
    "pdata = pseudo_data(data, tau_pos = 12 // 0.12, tau_neg = (7 * 60) // 0.12, stats = True, save = True, \n",
    "                    patientid = \"jh101_12s_7min_np_pyg\", logdir=logdir)"
   ]
  }
 ],
 "metadata": {
  "kernelspec": {
   "display_name": "base",
   "language": "python",
   "name": "python3"
  },
  "language_info": {
   "codemirror_mode": {
    "name": "ipython",
    "version": 3
   },
   "file_extension": ".py",
   "mimetype": "text/x-python",
   "name": "python",
   "nbconvert_exporter": "python",
   "pygments_lexer": "ipython3",
   "version": "3.9.12"
  },
  "orig_nbformat": 4
 },
 "nbformat": 4,
 "nbformat_minor": 2
}
