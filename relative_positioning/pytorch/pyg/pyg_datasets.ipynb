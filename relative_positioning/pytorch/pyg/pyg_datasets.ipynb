{
 "cells": [
  {
   "cell_type": "code",
   "execution_count": 47,
   "metadata": {},
   "outputs": [],
   "source": [
    "import torch\n",
    "import pickle\n",
    "\n",
    "# Load data\n",
    "pseudodata_path = \"/Users/xaviermootoo/Documents/Data/ssl-seizure-detection/pseudolabeled/jh101_12s_7min_np.pkl\"\n",
    "pdata = pickle.load(open(pseudodata_path, \"rb\"))"
   ]
  },
  {
   "cell_type": "code",
   "execution_count": 27,
   "metadata": {},
   "outputs": [
    {
     "name": "stdout",
     "output_type": "stream",
     "text": [
      "2\n",
      "2\n",
      "3\n",
      "(107, 107)\n"
     ]
    }
   ],
   "source": [
    "# List is of the form [[graph_1, graph_2], label] where each graph = [A, x, egde_attr]\n",
    "\n",
    "print(len(pdata[0]))\n",
    "print(len(pdata[0][0]))\n",
    "print(len(pdata[0][0][0]))\n",
    "print(pdata[0][0][0][0].shape)"
   ]
  },
  {
   "cell_type": "code",
   "execution_count": 30,
   "metadata": {},
   "outputs": [],
   "source": [
    "# Convert each entry [[[A, NF, EF'], [A, NF, EF']], Y] to tensors\n",
    "pdata_t = []\n",
    "for i in range(len(pdata)):\n",
    "    graph_1 = [torch.from_numpy(a) for a in pdata[i][0][0]]\n",
    "    graph_2 = [torch.from_numpy(a) for a in pdata[i][0][1]]\n",
    "    label = torch.tensor([pdata[i][1]])\n",
    "    pdata_t.append([graph_1, graph_2, label])"
   ]
  },
  {
   "cell_type": "code",
   "execution_count": 41,
   "metadata": {},
   "outputs": [
    {
     "data": {
      "text/plain": [
       "tensor([[ 2.4411,  0.6607, -0.1258,  ...,  0.8382, -1.5899, -0.8058],\n",
       "        [ 0.6607,  2.4411,  1.6718,  ...,  0.6053, -2.1600, -1.9578],\n",
       "        [-0.1258,  1.6718,  2.4411,  ...,  0.4384, -1.4936, -1.5496],\n",
       "        ...,\n",
       "        [ 0.8382,  0.6053,  0.4384,  ...,  2.4411, -1.4207, -1.2728],\n",
       "        [-1.5899, -2.1600, -1.4936,  ..., -1.4207,  2.4411,  1.8921],\n",
       "        [-0.8058, -1.9578, -1.5496,  ..., -1.2728,  1.8921,  2.4411]],\n",
       "       dtype=torch.float64)"
      ]
     },
     "execution_count": 41,
     "metadata": {},
     "output_type": "execute_result"
    }
   ],
   "source": [
    "# The first adjacency matrix of the first graph_1\n",
    "pdata_t[0][0][0]"
   ]
  },
  {
   "cell_type": "code",
   "execution_count": 55,
   "metadata": {},
   "outputs": [
    {
     "name": "stdout",
     "output_type": "stream",
     "text": [
      "torch.Size([107, 1])\n"
     ]
    }
   ],
   "source": [
    "# The first edge_attr of the first graph_1\n",
    "print(pdata_t[0][0][2][0].shape)"
   ]
  },
  {
   "cell_type": "code",
   "execution_count": 69,
   "metadata": {},
   "outputs": [
    {
     "name": "stdout",
     "output_type": "stream",
     "text": [
      "tensor([0, 1])\n",
      "tensor(0) tensor(1)\n",
      "tensor([0, 1])\n"
     ]
    }
   ],
   "source": [
    "import numpy as np\n",
    "\n",
    "# Credit: https://github.com/pyg-team/pytorch_geometric/issues/964\n",
    "\n",
    "def build_edge_idx(num_nodes):\n",
    "    # Initialize edge index matrix\n",
    "    E = torch.zeros((2, num_nodes * (num_nodes - 1)), dtype=torch.long)\n",
    "    \n",
    "    # Populate 1st row\n",
    "    for node in range(num_nodes):\n",
    "        for neighbor in range(num_nodes - 1):\n",
    "            E[0, node * (num_nodes - 1) + neighbor] = node\n",
    "\n",
    "    # Populate 2nd row\n",
    "    neighbors = []\n",
    "    for node in range(num_nodes):\n",
    "        neighbors.append(list(np.arange(node)) + list(np.arange(node+1, num_nodes)))\n",
    "    E[1, :] = torch.Tensor([item for sublist in neighbors for item in sublist])\n",
    "    \n",
    "    return E\n",
    "\n",
    "\n",
    "print(build_edge_idx(3)[:, 0])\n",
    "l, k = build_edge_idx(3)[:, 0]\n",
    "print(l, k)\n",
    "\n",
    "X = torch.tensor([l,k])\n",
    "print(X)"
   ]
  },
  {
   "cell_type": "code",
   "execution_count": 93,
   "metadata": {},
   "outputs": [
    {
     "name": "stdout",
     "output_type": "stream",
     "text": [
      "tensor([[ 2.4411,  0.6607, -0.1258,  ...,  0.8382, -1.5899, -0.8058],\n",
      "        [ 0.6607,  2.4411,  1.6718,  ...,  0.6053, -2.1600, -1.9578],\n",
      "        [-0.1258,  1.6718,  2.4411,  ...,  0.4384, -1.4936, -1.5496],\n",
      "        ...,\n",
      "        [ 0.8382,  0.6053,  0.4384,  ...,  2.4411, -1.4207, -1.2728],\n",
      "        [-1.5899, -2.1600, -1.4936,  ..., -1.4207,  2.4411,  1.8921],\n",
      "        [-0.8058, -1.9578, -1.5496,  ..., -1.2728,  1.8921,  2.4411]],\n",
      "       dtype=torch.float64)\n"
     ]
    }
   ],
   "source": [
    "# Add the adjacency matrix as edge features\n",
    "\n",
    "def adj_to_edge_attr(A, edge_index, edge_attr = None):\n",
    "    \"\"\"\n",
    "    Converts a fully connected weighted adjacency matrix to edge features.\n",
    "    \n",
    "    \n",
    "    Args:\n",
    "        A (torch.Tensor): Adjacency matrix.\n",
    "        edge_attr (torch.Tensor): Edge features of shape [num_edges, num_edge_features], optionally included.\n",
    "    \n",
    "    returns:\n",
    "        edge_attr (torch.Tensor): New edge fatures of shape [num_edges, num_edge_features + 1].\n",
    "    \"\"\"\n",
    "\n",
    "    num_nodes = A.shape[0]\n",
    "\n",
    "    # If edge_attr is not included, initialize it\n",
    "    if edge_attr is None:\n",
    "        num_edges = int(num_nodes * (num_nodes - 1) / 2)\n",
    "        edge_attr = torch.zeros((num_edges, 1))\n",
    "        for i in range(num_edges):\n",
    "            k, l = edge_index[:, i]\n",
    "            edge_attr[i] = A[k, l]\n",
    "    \n",
    "        return edge_attr\n",
    "    \n",
    "    # TODO: Case when edge_attr is included\n",
    "    else:\n",
    "        return None\n",
    "\n",
    "# Adj matrix\n",
    "A = pdata_t[0][0][0]\n",
    "num_nodes = A.shape[0]\n",
    "print(A)\n",
    "edge_index = build_edge_idx(num_nodes)\n",
    "edge_attr = adj_to_edge_attr(A, edge_index)\n"
   ]
  },
  {
   "cell_type": "code",
   "execution_count": 94,
   "metadata": {},
   "outputs": [],
   "source": [
    "num_nodes = A.shape[0]\n",
    "complete_graph = build_edge_idx(num_nodes)\n",
    "\n",
    "# Convert pdata_t from entries [[A, NF, EF], [A', NF', EF'], Y] to\n",
    "# [[x', edge_index', edge_attr'], [x, edge_index, edge_attr], Y]\n",
    "pdata_t2 = []\n",
    "for i in range(len(pdata_t)):\n",
    "    graph_1 = [pdata_t[i][0][0], complete_graph, adj_to_edge_attr(pdata_t[i][0][0], complete_graph)]\n",
    "    graph_2 = [pdata_t[i][1][0], complete_graph, adj_to_edge_attr(pdata_t[i][1][0], complete_graph)]\n",
    "    label = pdata_t[i][2]\n",
    "    pdata_t2.append([graph_1, graph_2, label])"
   ]
  },
  {
   "cell_type": "code",
   "execution_count": null,
   "metadata": {},
   "outputs": [],
   "source": [
    "# Link for pairs of graphs: https://pytorch-geometric.readthedocs.io/en/latest/advanced/batching.html\n",
    "# Link for creating datasets: https://pytorch-geometric.readthedocs.io/en/latest/tutorial/create_dataset.html\n",
    "# Link for Data handling tutorial: https://www.youtube.com/watch?v=Vz5bT8Xw6Dc&list=PLGMXrbDNfqTzqxB1IGgimuhtfAhGd8lHF&index=5\n"
   ]
  }
 ],
 "metadata": {
  "kernelspec": {
   "display_name": "base",
   "language": "python",
   "name": "python3"
  },
  "language_info": {
   "codemirror_mode": {
    "name": "ipython",
    "version": 3
   },
   "file_extension": ".py",
   "mimetype": "text/x-python",
   "name": "python",
   "nbconvert_exporter": "python",
   "pygments_lexer": "ipython3",
   "version": "3.9.12"
  },
  "orig_nbformat": 4
 },
 "nbformat": 4,
 "nbformat_minor": 2
}
