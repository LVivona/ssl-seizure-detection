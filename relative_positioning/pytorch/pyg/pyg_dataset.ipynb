{
 "cells": [
  {
   "cell_type": "code",
   "execution_count": 2,
   "metadata": {},
   "outputs": [],
   "source": [
    "# Links: https://pytorch-geometric.readthedocs.io/en/latest/generated/torch_geometric.data.Data.html#torch_geometric.data.Data\n",
    "from torch_geometric.data import Data\n",
    "import torch"
   ]
  },
  {
   "cell_type": "code",
   "execution_count": 13,
   "metadata": {},
   "outputs": [],
   "source": [
    "class PairData(Data):\n",
    "    def __inc__(self, key, value, *args, **kwargs):\n",
    "        if key == 'edge_index_1':\n",
    "            return self.x_1.size(0)\n",
    "        if key == 'edge_index_2':\n",
    "            return self.x_2.size(0)\n",
    "        return super().__inc__(key, value, *args, **kwargs)"
   ]
  },
  {
   "cell_type": "code",
   "execution_count": 37,
   "metadata": {},
   "outputs": [
    {
     "name": "stdout",
     "output_type": "stream",
     "text": [
      "tensor([[1., 1., 2., 2., 3., 3.]])\n"
     ]
    }
   ],
   "source": [
    "# Node features of shape (num_nodes, num_node_features) and type torch.float32\n",
    "x_1 = torch.tensor([[0, 0, 0],\n",
    "                    [1, 1, 1],\n",
    "                    [2, 2, 2],\n",
    "                    [3, 3, 3]], dtype=torch.float32)\n",
    "x_2 = torch.tensor([[4, 4, 4],\n",
    "                    [5, 5, 5],\n",
    "                    [6, 6, 6]], dtype=torch.float32)\n",
    "\n",
    "# Edge indices of shape (2, num_edges) and type torch.long\n",
    "edge_index_1 = torch.tensor([[0, 1, 1, 2, 2, 3],\n",
    "                             [1, 0, 2, 1, 3, 2]], dtype=torch.long)\n",
    "edge_index_2 = torch.tensor([[0, 1, 1, 2],\n",
    "                             [1, 0, 2, 1]], dtype=torch.long)\n",
    "\n",
    "# Edge features of shape (num_edges, num_edge_features) and type torch.float32\n",
    "edge_attr_1 = torch.tensor([[0],\n",
    "                            [1],\n",
    "                            [2],\n",
    "                            [3],\n",
    "                            [4],\n",
    "                            [5]], dtype=torch.float32)\n",
    "edge_attr_2 = torch.tensor([[6],\n",
    "                            [7],\n",
    "                            [8],\n",
    "                            [9]], dtype=torch.float32)\n",
    "\n",
    "# Pair label of shape (1,) and type torch.long\n",
    "y = torch.tensor([1], dtype=torch.long)\n",
    "\n",
    "\n",
    "data = PairData(x_1=x_1, edge_index_1=edge_index_1, edge_attr_1=edge_attr_1,  # Graph 1.\n",
    "                x_2=x_2, edge_index_2=edge_index_2, edge_attr_2=edge_attr_2,  # Graph 2.\n",
    "                y = y)\n",
    "\n",
    "print(data.edge_attr_1)"
   ]
  },
  {
   "cell_type": "code",
   "execution_count": 15,
   "metadata": {},
   "outputs": [],
   "source": [
    "from torch_geometric.loader import DataLoader"
   ]
  },
  {
   "cell_type": "code",
   "execution_count": 32,
   "metadata": {},
   "outputs": [
    {
     "name": "stdout",
     "output_type": "stream",
     "text": [
      "tensor([[4., 4., 4.],\n",
      "        [5., 5., 5.],\n",
      "        [6., 6., 6.],\n",
      "        [4., 4., 4.],\n",
      "        [5., 5., 5.],\n",
      "        [6., 6., 6.]])\n",
      "Which nodes correspond to which graph: tensor([0, 0, 0, 0, 1, 1, 1, 1])\n",
      "Which nodes correspond to which graph: tensor([0, 0, 0, 1, 1, 1])\n"
     ]
    }
   ],
   "source": [
    "data_list = [data, data]\n",
    "loader = DataLoader(data_list, batch_size=2, follow_batch=['x_1', 'x_2'])\n",
    "\n",
    "for batch in loader:\n",
    "    print(batch.x_2)\n",
    "    print(\"Which nodes correspond to which graph:\", batch.x_1_batch)\n",
    "    print(\"Which nodes correspond to which graph:\", batch.x_2_batch)"
   ]
  }
 ],
 "metadata": {
  "kernelspec": {
   "display_name": "base",
   "language": "python",
   "name": "python3"
  },
  "language_info": {
   "codemirror_mode": {
    "name": "ipython",
    "version": 3
   },
   "file_extension": ".py",
   "mimetype": "text/x-python",
   "name": "python",
   "nbconvert_exporter": "python",
   "pygments_lexer": "ipython3",
   "version": "3.9.12"
  },
  "orig_nbformat": 4
 },
 "nbformat": 4,
 "nbformat_minor": 2
}
