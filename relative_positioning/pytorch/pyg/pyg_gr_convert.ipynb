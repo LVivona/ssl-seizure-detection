{
 "cells": [
  {
   "cell_type": "code",
   "execution_count": 1,
   "metadata": {},
   "outputs": [],
   "source": [
    "# This notebook converts the graph data from the pickle file containing the list of graph representations \n",
    "# into anoter pickle file containing the list of graph representations in the format of PyG format.\n",
    "import torch\n",
    "import pickle\n",
    "import numpy as np\n",
    "from pyg_preprocess import build_K_n, adj_to_edge_attr, pseudo_data\n",
    "\n",
    "# Load data (MAC)\n",
    "# pickle_data_path = \"/Users/xaviermootoo/Documents/Data/ssl-seizure-detection/pickle/jh101_grs.pickle\"\n",
    "# pickle_data = pickle.load(open(pickle_data_path, \"rb\"))\n",
    "\n",
    "# Load data (PC)\n",
    "pickle_data_path = r\"C:\\Users\\xmoot\\Desktop\\Data\\ssl-seizure-detection\\patient_gr\\jh101_grs.pickle\"\n",
    "pickle_data = pickle.load(open(pickle_data_path, \"rb\"))"
   ]
  },
  {
   "cell_type": "code",
   "execution_count": 2,
   "metadata": {},
   "outputs": [
    {
     "name": "stdout",
     "output_type": "stream",
     "text": [
      "<class 'float'>\n"
     ]
    }
   ],
   "source": [
    "example = pickle_data[0]\n",
    "graph, label = example\n",
    "A, nf, _ = graph\n",
    "print(type(label))"
   ]
  },
  {
   "cell_type": "code",
   "execution_count": 4,
   "metadata": {},
   "outputs": [
    {
     "name": "stdout",
     "output_type": "stream",
     "text": [
      "<class 'numpy.ndarray'>\n"
     ]
    }
   ],
   "source": [
    "# Test\n",
    "A = np.random.rand(5,5)\n",
    "edge_index = build_K_n(A.shape[0])\n",
    "edge_attr = adj_to_edge_attr(A, edge_index)\n",
    "print(type(edge_attr))"
   ]
  },
  {
   "cell_type": "code",
   "execution_count": 5,
   "metadata": {},
   "outputs": [],
   "source": [
    "# Initialize new data list\n",
    "\n",
    "def create_tensordata(num_nodes, data_list, complete = True):\n",
    "    \"\"\"\n",
    "    Converts the graph data from the pickle file containing the list of graph representations of with entries of the form [[A, NF, EF], Y]\n",
    "    for numpy arrays A, NF, EF and float Y, to list of graph representations [[edge_index, x, edge_attr], y] for PyG format in torch tensors.\n",
    "    \n",
    "    args:\n",
    "        num_nodes (int): Number of nodes in the graph.\n",
    "        data_list (list): List of graph representations of the form [[A, NF, EF], Y] for numpy arrays A, NF, EF and float Y.\n",
    "        complete (bool): Whether the graph is complete or not. Defaults to True.\n",
    "    \n",
    "    returns:\n",
    "        pyg_data (list): List of graph representations of the form [[edge_index, x, edge_attr], y] for PyG format, where edge_index is a torch.long tensor of shape\n",
    "                        (2, num_edges), x is a torch.float32 tensor of shape (num_nodes, num_node_features), edge_attr is a torch.float32 tensor of shape \n",
    "                        (num_edges, num_edge_features). \n",
    "    \n",
    "    \"\"\"\n",
    "    pyg_data = []\n",
    "    \n",
    "    if complete:\n",
    "        edge_index = build_K_n(num_nodes)\n",
    "        edge_index = torch.from_numpy(edge_index).to(torch.long)\n",
    "        \n",
    "\n",
    "        for i, example in enumerate(data_list):\n",
    "            \n",
    "            # Parse data\n",
    "            graph, y = example\n",
    "            A, x, _ = graph\n",
    "            \n",
    "            # Add adjacency matrix weights to edge attributes\n",
    "            edge_attr = adj_to_edge_attr(A, edge_index)\n",
    "            \n",
    "            # Convert to tensors\n",
    "            x = torch.from_numpy(x).to(torch.float32)\n",
    "            y = torch.tensor(y, dtype=torch.float32)\n",
    "            edge_attr = torch.from_numpy(edge_attr).to(torch.float32)\n",
    "            \n",
    "            pyg_data.append([[edge_index, x, edge_attr], y])\n",
    "\n",
    "    return pyg_data"
   ]
  },
  {
   "cell_type": "code",
   "execution_count": 6,
   "metadata": {},
   "outputs": [],
   "source": [
    "pyg_data = create_tensordata(107, pickle_data)"
   ]
  },
  {
   "cell_type": "code",
   "execution_count": 7,
   "metadata": {},
   "outputs": [],
   "source": [
    "# Pickle pyg_data\n",
    "pyg_data_path = r\"C:\\Users\\xmoot\\Desktop\\Data\\ssl-seizure-detection\\patient_gr\\jh101_tensors_grs_pyg.pt\"\n",
    "torch.save(pyg_data, pyg_data_path)"
   ]
  },
  {
   "cell_type": "code",
   "execution_count": 10,
   "metadata": {},
   "outputs": [
    {
     "name": "stdout",
     "output_type": "stream",
     "text": [
      "4484\n",
      "4484\n",
      "<class 'torch.Tensor'>\n",
      "Edge features shape: torch.Size([11342, 1])\n",
      "Edge features stored in edge_attr: tensor([[ 0.6607],\n",
      "        [-0.1258],\n",
      "        [-2.1098],\n",
      "        ...,\n",
      "        [ 1.7842],\n",
      "        [-1.2728],\n",
      "        [ 1.8921]])\n",
      "Edge features stored in adj: [[ 2.44109208  0.66069462 -0.12578357 ...  0.83818009 -1.58988827\n",
      "  -0.80577129]\n",
      " [ 0.66069462  2.44109208  1.6717804  ...  0.60534856 -2.1600128\n",
      "  -1.95782143]\n",
      " [-0.12578357  1.6717804   2.44109208 ...  0.43843359 -1.49362948\n",
      "  -1.54959986]\n",
      " ...\n",
      " [ 0.83818009  0.60534856  0.43843359 ...  2.44109208 -1.4207016\n",
      "  -1.2727665 ]\n",
      " [-1.58988827 -2.1600128  -1.49362948 ... -1.4207016   2.44109208\n",
      "   1.89210687]\n",
      " [-0.80577129 -1.95782143 -1.54959986 ... -1.2727665   1.89210687\n",
      "   2.44109208]]\n"
     ]
    }
   ],
   "source": [
    "pyg_data = torch.load(pyg_data_path)\n",
    "print(len(pyg_data))\n",
    "print(len(pickle_data))\n",
    "print(type(pyg_data[0][0][0]))\n",
    "print(\"Edge features shape:\", pyg_data[0][0][2].shape)\n",
    "print(\"Edge features stored in edge_attr:\", pyg_data[0][0][2])\n",
    "print(\"Edge features stored in adj:\", pickle_data[0][0][0])"
   ]
  },
  {
   "cell_type": "code",
   "execution_count": 14,
   "metadata": {},
   "outputs": [
    {
     "ename": "NameError",
     "evalue": "name 'pseudo_data' is not defined",
     "output_type": "error",
     "traceback": [
      "\u001b[1;31m---------------------------------------------------------------------------\u001b[0m",
      "\u001b[1;31mNameError\u001b[0m                                 Traceback (most recent call last)",
      "\u001b[1;32m~\\AppData\\Local\\Temp\\ipykernel_32784\\2085088185.py\u001b[0m in \u001b[0;36m<module>\u001b[1;34m\u001b[0m\n\u001b[0;32m      1\u001b[0m \u001b[1;31m# Create graph pairs\u001b[0m\u001b[1;33m\u001b[0m\u001b[1;33m\u001b[0m\u001b[0m\n\u001b[1;32m----> 2\u001b[1;33m \u001b[0mpseudo_data\u001b[0m \u001b[1;33m=\u001b[0m \u001b[0mpseudo_data\u001b[0m\u001b[1;33m(\u001b[0m\u001b[0mpyg_data\u001b[0m\u001b[1;33m,\u001b[0m \u001b[0mtau_pos\u001b[0m \u001b[1;33m=\u001b[0m \u001b[1;36m6\u001b[0m \u001b[1;33m//\u001b[0m \u001b[1;36m0.12\u001b[0m\u001b[1;33m,\u001b[0m \u001b[0mtau_neg\u001b[0m \u001b[1;33m=\u001b[0m \u001b[1;36m50\u001b[0m \u001b[1;33m//\u001b[0m \u001b[1;36m0.12\u001b[0m\u001b[1;33m,\u001b[0m \u001b[0mstats\u001b[0m \u001b[1;33m=\u001b[0m \u001b[1;32mTrue\u001b[0m\u001b[1;33m,\u001b[0m \u001b[0msave\u001b[0m \u001b[1;33m=\u001b[0m \u001b[1;32mFalse\u001b[0m\u001b[1;33m,\u001b[0m \u001b[0mpatientid\u001b[0m \u001b[1;33m=\u001b[0m \u001b[1;34m\"patient\"\u001b[0m\u001b[1;33m,\u001b[0m \u001b[0mlogdir\u001b[0m \u001b[1;33m=\u001b[0m \u001b[1;32mNone\u001b[0m\u001b[1;33m)\u001b[0m\u001b[1;33m\u001b[0m\u001b[1;33m\u001b[0m\u001b[0m\n\u001b[0m",
      "\u001b[1;31mNameError\u001b[0m: name 'pseudo_data' is not defined"
     ]
    }
   ],
   "source": [
    "# Create graph pairs\n",
    "pseudo_data = pseudo_data(pyg_data, tau_pos = 6 // 0.12, tau_neg = 50 // 0.12, stats = True, save = False, patientid = \"patient\", logdir = None)"
   ]
  },
  {
   "cell_type": "code",
   "execution_count": null,
   "metadata": {},
   "outputs": [],
   "source": [
    "# Create PairData\n"
   ]
  },
  {
   "cell_type": "code",
   "execution_count": null,
   "metadata": {},
   "outputs": [],
   "source": [
    "# Link for pairs of graphs: https://pytorch-geometric.readthedocs.io/en/latest/advanced/batching.html\n",
    "# Link for creating datasets: https://pytorch-geometric.readthedocs.io/en/latest/tutorial/create_dataset.html\n",
    "# Link for Data handling tutorial: https://www.youtube.com/watch?v=Vz5bT8Xw6Dc&list=PLGMXrbDNfqTzqxB1IGgimuhtfAhGd8lHF&index=5"
   ]
  }
 ],
 "metadata": {
  "kernelspec": {
   "display_name": "base",
   "language": "python",
   "name": "python3"
  },
  "language_info": {
   "codemirror_mode": {
    "name": "ipython",
    "version": 3
   },
   "file_extension": ".py",
   "mimetype": "text/x-python",
   "name": "python",
   "nbconvert_exporter": "python",
   "pygments_lexer": "ipython3",
   "version": "3.9.13"
  },
  "orig_nbformat": 4
 },
 "nbformat": 4,
 "nbformat_minor": 2
}
