{
 "cells": [
  {
   "cell_type": "code",
   "execution_count": 1,
   "metadata": {},
   "outputs": [],
   "source": [
    "# This notebook converts the graph data from the pickle file containing the list of graph representations \n",
    "# into anoter pickle file containing the list of graph representations in the format of PyG format.\n",
    "import torch\n",
    "import pickle\n",
    "import numpy as np\n",
    "\n",
    "# Load data (MAC)\n",
    "pickle_data_path = \"/Users/xaviermootoo/Documents/Data/ssl-seizure-detection/pickle/jh101_grs.pickle\"\n",
    "pickle_data = pickle.load(open(pickle_data_path, \"rb\"))"
   ]
  },
  {
   "cell_type": "code",
   "execution_count": 2,
   "metadata": {},
   "outputs": [],
   "source": [
    "# Credit: https://github.com/pyg-team/pytorch_geometric/issues/964\n",
    "\n",
    "import numpy as np\n",
    "\n",
    "def build_K_n(num_nodes):\n",
    "    \"\"\"\n",
    "        Builds the edge_index for a complete graph K_n for num_nodes = n.\n",
    "    \"\"\"\n",
    "    # Initialize edge index matrix\n",
    "    E = np.zeros((2, num_nodes * (num_nodes - 1)), dtype=np.int64)\n",
    "\n",
    "    # Populate 1st row\n",
    "    for node in range(num_nodes):\n",
    "        for neighbor in range(num_nodes - 1):\n",
    "            E[0, node * (num_nodes - 1) + neighbor] = node\n",
    "\n",
    "    # Populate 2nd row\n",
    "    neighbors = []\n",
    "    for node in range(num_nodes):\n",
    "        neighbors.append(list(np.arange(node)) + list(np.arange(node + 1, num_nodes)))\n",
    "    E[1, :] = [item for sublist in neighbors for item in sublist]\n",
    "\n",
    "    return E"
   ]
  },
  {
   "cell_type": "code",
   "execution_count": 3,
   "metadata": {},
   "outputs": [],
   "source": [
    "# Convert entries of pickle_data from [[A, x, edge_attr], Y] to [[edge_index, x, new_edge_attr], Y]\n",
    "# where edge_index is a complete graph, x is unchanged, and new_edge_attr is the weights of adjacency matrix A\n",
    "def adj_to_edge_attr(A, edge_index, edge_attr = None):\n",
    "    \"\"\"\n",
    "    Converts a fully connected weighted adjacency matrix to edge features.\n",
    "    \n",
    "    \n",
    "    Args:\n",
    "        A (numpy array): Adjacency matrix.\n",
    "        edge_attr (numpy array): Edge features of shape (num_edges, num_edge_features), optionally included.\n",
    "    \n",
    "    returns:\n",
    "        edge_attr (numpy array): New edge fatures of shape (num_edges, num_edge_features + 1).\n",
    "    \"\"\"\n",
    "\n",
    "    num_nodes = A.shape[0]\n",
    "\n",
    "    # If edge_attr is not included, initialize it\n",
    "    if edge_attr is None:\n",
    "        num_edges = int(num_nodes * (num_nodes - 1) / 2)\n",
    "        edge_attr = np.zeros((num_edges, 1))\n",
    "        for i in range(num_edges):\n",
    "            k, l = edge_index[:, i]\n",
    "            edge_attr[i] = A[k, l]\n",
    "    \n",
    "        return edge_attr\n",
    "    \n",
    "    # TODO: Case when edge_attr is included\n",
    "    else:\n",
    "        return None\n",
    "\n",
    "\n",
    "# Initialize new data list\n",
    "complete_graph = build_K_n(pickle_data[0][0][0].shape[0])\n",
    "pyg_data = []\n",
    "\n",
    "for i in range(len(pickle_data)):\n",
    "    pyg_data.append([[complete_graph, pickle_data[i][0][1], adj_to_edge_attr(pickle_data[i][0][0], complete_graph)], \n",
    "                    pickle_data[i][1]])"
   ]
  },
  {
   "cell_type": "code",
   "execution_count": 4,
   "metadata": {},
   "outputs": [],
   "source": [
    "# Pickle pyg_data\n",
    "save_path = \"/Users/xaviermootoo/Documents/Data/ssl-seizure-detection/pickle/\"\n",
    "file_name = \"jh101_grs_pyg\"\n",
    "with open(save_path + file_name + \".pkl\", \"wb\") as f:\n",
    "    pickle.dump(pyg_data, f)"
   ]
  },
  {
   "cell_type": "code",
   "execution_count": 6,
   "metadata": {},
   "outputs": [
    {
     "name": "stdout",
     "output_type": "stream",
     "text": [
      "4484\n",
      "4484\n",
      "<class 'numpy.ndarray'>\n",
      "Edge features stored in edge_attr: [[ 0.66069462]\n",
      " [-0.12578357]\n",
      " [-2.10979259]\n",
      " ...\n",
      " [-0.41955958]\n",
      " [ 0.48147154]\n",
      " [ 1.84190391]]\n",
      "Edge features stored in adj: [[ 2.44109208  0.66069462 -0.12578357 ...  0.83818009 -1.58988827\n",
      "  -0.80577129]\n",
      " [ 0.66069462  2.44109208  1.6717804  ...  0.60534856 -2.1600128\n",
      "  -1.95782143]\n",
      " [-0.12578357  1.6717804   2.44109208 ...  0.43843359 -1.49362948\n",
      "  -1.54959986]\n",
      " ...\n",
      " [ 0.83818009  0.60534856  0.43843359 ...  2.44109208 -1.4207016\n",
      "  -1.2727665 ]\n",
      " [-1.58988827 -2.1600128  -1.49362948 ... -1.4207016   2.44109208\n",
      "   1.89210687]\n",
      " [-0.80577129 -1.95782143 -1.54959986 ... -1.2727665   1.89210687\n",
      "   2.44109208]]\n"
     ]
    }
   ],
   "source": [
    "pyg_data_path = \"/Users/xaviermootoo/Documents/Data/ssl-seizure-detection/pickle/jh101_grs_pyg.pkl\"\n",
    "pyg_data = pickle.load(open(pyg_data_path, \"rb\"))\n",
    "\n",
    "print(len(pyg_data))\n",
    "print(len(pickle_data))\n",
    "print(type(pyg_data[0][0][0]))\n",
    "print(\"Edge features stored in edge_attr:\", pyg_data[0][0][2])\n",
    "print(\"Edge features stored in adj:\", pickle_data[0][0][0])"
   ]
  },
  {
   "cell_type": "code",
   "execution_count": null,
   "metadata": {},
   "outputs": [],
   "source": [
    "# Link for pairs of graphs: https://pytorch-geometric.readthedocs.io/en/latest/advanced/batching.html\n",
    "# Link for creating datasets: https://pytorch-geometric.readthedocs.io/en/latest/tutorial/create_dataset.html\n",
    "# Link for Data handling tutorial: https://www.youtube.com/watch?v=Vz5bT8Xw6Dc&list=PLGMXrbDNfqTzqxB1IGgimuhtfAhGd8lHF&index=5"
   ]
  }
 ],
 "metadata": {
  "kernelspec": {
   "display_name": "base",
   "language": "python",
   "name": "python3"
  },
  "language_info": {
   "codemirror_mode": {
    "name": "ipython",
    "version": 3
   },
   "file_extension": ".py",
   "mimetype": "text/x-python",
   "name": "python",
   "nbconvert_exporter": "python",
   "pygments_lexer": "ipython3",
   "version": "3.9.12"
  },
  "orig_nbformat": 4
 },
 "nbformat": 4,
 "nbformat_minor": 2
}
